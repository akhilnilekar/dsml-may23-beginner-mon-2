{
 "cells": [
  {
   "cell_type": "code",
   "execution_count": 2,
   "id": "acc9c87a",
   "metadata": {},
   "outputs": [],
   "source": [
    "def random():\n",
    "    return True\n",
    "\n",
    "result = random()"
   ]
  },
  {
   "cell_type": "code",
   "execution_count": 3,
   "id": "a7cc8018",
   "metadata": {},
   "outputs": [
    {
     "data": {
      "text/plain": [
       "True"
      ]
     },
     "execution_count": 3,
     "metadata": {},
     "output_type": "execute_result"
    }
   ],
   "source": [
    "result"
   ]
  },
  {
   "cell_type": "code",
   "execution_count": 4,
   "id": "f69622c5",
   "metadata": {},
   "outputs": [],
   "source": [
    "def random1():\n",
    "    print(True)\n",
    "    \n",
    "def random2():\n",
    "    return True"
   ]
  },
  {
   "cell_type": "code",
   "execution_count": 5,
   "id": "eac3a56d",
   "metadata": {},
   "outputs": [
    {
     "name": "stdout",
     "output_type": "stream",
     "text": [
      "True\n"
     ]
    }
   ],
   "source": [
    "random1()"
   ]
  },
  {
   "cell_type": "code",
   "execution_count": 6,
   "id": "a568e610",
   "metadata": {},
   "outputs": [
    {
     "data": {
      "text/plain": [
       "True"
      ]
     },
     "execution_count": 6,
     "metadata": {},
     "output_type": "execute_result"
    }
   ],
   "source": [
    "random2()"
   ]
  },
  {
   "cell_type": "code",
   "execution_count": 7,
   "id": "eef2d4e2",
   "metadata": {},
   "outputs": [
    {
     "name": "stdout",
     "output_type": "stream",
     "text": [
      "True\n"
     ]
    }
   ],
   "source": [
    "result1 = random1()\n",
    "result2 = random2()"
   ]
  },
  {
   "cell_type": "code",
   "execution_count": 8,
   "id": "aa56660c",
   "metadata": {},
   "outputs": [
    {
     "name": "stdout",
     "output_type": "stream",
     "text": [
      "None\n"
     ]
    }
   ],
   "source": [
    "print(result1)"
   ]
  },
  {
   "cell_type": "code",
   "execution_count": 9,
   "id": "a0cfa0fc",
   "metadata": {},
   "outputs": [
    {
     "name": "stdout",
     "output_type": "stream",
     "text": [
      "True\n"
     ]
    }
   ],
   "source": [
    "print(result2)"
   ]
  },
  {
   "cell_type": "code",
   "execution_count": 12,
   "id": "db748dd1",
   "metadata": {},
   "outputs": [],
   "source": [
    "def introduce_family(father, mother, sibling, myself):\n",
    "    print(\"Father's name -\", father)\n",
    "    print(\"Mother's name -\", mother)\n",
    "    print(\"Sibling's name -\", sibling)\n",
    "    print(\"My name -\", myself)"
   ]
  },
  {
   "cell_type": "code",
   "execution_count": 13,
   "id": "72c34ff4",
   "metadata": {},
   "outputs": [
    {
     "name": "stdout",
     "output_type": "stream",
     "text": [
      "Father's name - Stormi\n",
      "Mother's name - Brad Pitt\n",
      "Sibling's name - Angelina Jolie\n",
      "My name - Bipin Kalra\n"
     ]
    }
   ],
   "source": [
    "introduce_family(\"Stormi\", \"Brad Pitt\", \"Angelina Jolie\", \"Bipin Kalra\")"
   ]
  },
  {
   "cell_type": "code",
   "execution_count": 15,
   "id": "d502ced3",
   "metadata": {},
   "outputs": [
    {
     "name": "stdout",
     "output_type": "stream",
     "text": [
      "Father's name - Brad Pitt\n",
      "Mother's name - Angelina Jolie\n",
      "Sibling's name - Stormi\n",
      "My name - Bipin Kalra\n"
     ]
    }
   ],
   "source": [
    "introduce_family(sibling = \"Stormi\", father = \"Brad Pitt\", myself = \"Bipin Kalra\", mother = \"Angelina Jolie\")"
   ]
  },
  {
   "cell_type": "code",
   "execution_count": 16,
   "id": "35764507",
   "metadata": {},
   "outputs": [
    {
     "name": "stdout",
     "output_type": "stream",
     "text": [
      "Father's name - Brad Pitt\n",
      "Mother's name - Angelina Jolie\n",
      "Sibling's name - Stormi\n",
      "My name - Bipin Kalra\n"
     ]
    }
   ],
   "source": [
    "introduce_family(\n",
    "    sibling = \"Stormi\",\n",
    "    father = \"Brad Pitt\",\n",
    "    myself = \"Bipin Kalra\",\n",
    "    mother = \"Angelina Jolie\"\n",
    ")"
   ]
  },
  {
   "cell_type": "code",
   "execution_count": 17,
   "id": "471737f6",
   "metadata": {},
   "outputs": [],
   "source": [
    "def random(a, b, c, d):\n",
    "    print(\"a ->\", a)\n",
    "    print(\"b ->\", b)\n",
    "    print(\"c ->\", c)\n",
    "    print(\"d ->\", d)"
   ]
  },
  {
   "cell_type": "code",
   "execution_count": 18,
   "id": "bacb2658",
   "metadata": {},
   "outputs": [
    {
     "ename": "SyntaxError",
     "evalue": "positional argument follows keyword argument (1021311537.py, line 1)",
     "output_type": "error",
     "traceback": [
      "\u001b[0;36m  Cell \u001b[0;32mIn[18], line 1\u001b[0;36m\u001b[0m\n\u001b[0;31m    random(b = 6, a = 5, d = 4, 7)\u001b[0m\n\u001b[0m                                 ^\u001b[0m\n\u001b[0;31mSyntaxError\u001b[0m\u001b[0;31m:\u001b[0m positional argument follows keyword argument\n"
     ]
    }
   ],
   "source": [
    "random(b = 6, a = 5, d = 4, 7)"
   ]
  },
  {
   "cell_type": "code",
   "execution_count": 19,
   "id": "b726a1b8",
   "metadata": {},
   "outputs": [],
   "source": [
    "# You can't have positional arguments after key-worded arguments"
   ]
  },
  {
   "cell_type": "code",
   "execution_count": 20,
   "id": "dfb90a5b",
   "metadata": {},
   "outputs": [
    {
     "name": "stdout",
     "output_type": "stream",
     "text": [
      "a -> 5\n",
      "b -> 6\n",
      "c -> 2\n",
      "d -> 7\n"
     ]
    }
   ],
   "source": [
    "random(5, 6, d = 7, c = 2)"
   ]
  },
  {
   "cell_type": "code",
   "execution_count": 21,
   "id": "92c5c6b9",
   "metadata": {},
   "outputs": [
    {
     "ename": "TypeError",
     "evalue": "random() got multiple values for argument 'a'",
     "output_type": "error",
     "traceback": [
      "\u001b[0;31m---------------------------------------------------------------------------\u001b[0m",
      "\u001b[0;31mTypeError\u001b[0m                                 Traceback (most recent call last)",
      "Cell \u001b[0;32mIn[21], line 1\u001b[0m\n\u001b[0;32m----> 1\u001b[0m \u001b[43mrandom\u001b[49m\u001b[43m(\u001b[49m\u001b[38;5;241;43m5\u001b[39;49m\u001b[43m,\u001b[49m\u001b[43m \u001b[49m\u001b[38;5;241;43m6\u001b[39;49m\u001b[43m,\u001b[49m\u001b[43m \u001b[49m\u001b[43ma\u001b[49m\u001b[43m \u001b[49m\u001b[38;5;241;43m=\u001b[39;49m\u001b[43m \u001b[49m\u001b[38;5;241;43m2\u001b[39;49m\u001b[43m,\u001b[49m\u001b[43m \u001b[49m\u001b[43md\u001b[49m\u001b[43m \u001b[49m\u001b[38;5;241;43m=\u001b[39;49m\u001b[43m \u001b[49m\u001b[38;5;241;43m7\u001b[39;49m\u001b[43m)\u001b[49m\n",
      "\u001b[0;31mTypeError\u001b[0m: random() got multiple values for argument 'a'"
     ]
    }
   ],
   "source": [
    "random(5, 6, a = 2, d = 7)"
   ]
  },
  {
   "cell_type": "code",
   "execution_count": 22,
   "id": "b815afaa",
   "metadata": {},
   "outputs": [],
   "source": [
    "def simple_interest(p, r, t):\n",
    "    interest = (p * r * t) / 100\n",
    "    \n",
    "    return interest"
   ]
  },
  {
   "cell_type": "code",
   "execution_count": 23,
   "id": "eab6b8be",
   "metadata": {},
   "outputs": [
    {
     "data": {
      "text/plain": [
       "2500.0"
      ]
     },
     "execution_count": 23,
     "metadata": {},
     "output_type": "execute_result"
    }
   ],
   "source": [
    "simple_interest(5000, 5, 10)"
   ]
  },
  {
   "cell_type": "code",
   "execution_count": 24,
   "id": "11bce97c",
   "metadata": {},
   "outputs": [
    {
     "ename": "TypeError",
     "evalue": "simple_interest() missing 1 required positional argument: 't'",
     "output_type": "error",
     "traceback": [
      "\u001b[0;31m---------------------------------------------------------------------------\u001b[0m",
      "\u001b[0;31mTypeError\u001b[0m                                 Traceback (most recent call last)",
      "Cell \u001b[0;32mIn[24], line 1\u001b[0m\n\u001b[0;32m----> 1\u001b[0m \u001b[43msimple_interest\u001b[49m\u001b[43m(\u001b[49m\u001b[38;5;241;43m5000\u001b[39;49m\u001b[43m,\u001b[49m\u001b[43m \u001b[49m\u001b[38;5;241;43m5\u001b[39;49m\u001b[43m)\u001b[49m\n",
      "\u001b[0;31mTypeError\u001b[0m: simple_interest() missing 1 required positional argument: 't'"
     ]
    }
   ],
   "source": [
    "simple_interest(5000, 5)"
   ]
  },
  {
   "cell_type": "code",
   "execution_count": 25,
   "id": "39f6eb66",
   "metadata": {},
   "outputs": [],
   "source": [
    "def simple_interest(p, r, t = 10):\n",
    "    interest = (p * r * t) / 100\n",
    "    \n",
    "    return interest"
   ]
  },
  {
   "cell_type": "code",
   "execution_count": 26,
   "id": "f876ff14",
   "metadata": {},
   "outputs": [
    {
     "data": {
      "text/plain": [
       "2500.0"
      ]
     },
     "execution_count": 26,
     "metadata": {},
     "output_type": "execute_result"
    }
   ],
   "source": [
    "simple_interest(5000, 5)"
   ]
  },
  {
   "cell_type": "code",
   "execution_count": 28,
   "id": "ed5ad004",
   "metadata": {},
   "outputs": [
    {
     "data": {
      "text/plain": [
       "5000.0"
      ]
     },
     "execution_count": 28,
     "metadata": {},
     "output_type": "execute_result"
    }
   ],
   "source": [
    "simple_interest(5000, 5, 20)"
   ]
  },
  {
   "cell_type": "code",
   "execution_count": 29,
   "id": "a8df566c",
   "metadata": {},
   "outputs": [
    {
     "ename": "SyntaxError",
     "evalue": "non-default argument follows default argument (2511213745.py, line 1)",
     "output_type": "error",
     "traceback": [
      "\u001b[0;36m  Cell \u001b[0;32mIn[29], line 1\u001b[0;36m\u001b[0m\n\u001b[0;31m    def simple_interest(p, r = 5, t):\u001b[0m\n\u001b[0m                                   ^\u001b[0m\n\u001b[0;31mSyntaxError\u001b[0m\u001b[0;31m:\u001b[0m non-default argument follows default argument\n"
     ]
    }
   ],
   "source": [
    "def simple_interest(p, r = 5, t):\n",
    "    interest = (p * r * t) / 100\n",
    "    \n",
    "    return interest"
   ]
  },
  {
   "cell_type": "code",
   "execution_count": 30,
   "id": "6da7b733",
   "metadata": {},
   "outputs": [],
   "source": [
    "def simple_interest(p, r = 5, t = 10):\n",
    "    interest = (p * r * t) / 100\n",
    "    \n",
    "    return interest"
   ]
  },
  {
   "cell_type": "code",
   "execution_count": 31,
   "id": "850b3917",
   "metadata": {},
   "outputs": [
    {
     "data": {
      "text/plain": [
       "2500.0"
      ]
     },
     "execution_count": 31,
     "metadata": {},
     "output_type": "execute_result"
    }
   ],
   "source": [
    "simple_interest(5000)"
   ]
  },
  {
   "cell_type": "code",
   "execution_count": 32,
   "id": "f0551ffe",
   "metadata": {},
   "outputs": [
    {
     "data": {
      "text/plain": [
       "5000.0"
      ]
     },
     "execution_count": 32,
     "metadata": {},
     "output_type": "execute_result"
    }
   ],
   "source": [
    "simple_interest(5000, 10)"
   ]
  },
  {
   "cell_type": "code",
   "execution_count": 33,
   "id": "3717367d",
   "metadata": {},
   "outputs": [
    {
     "data": {
      "text/plain": [
       "10000.0"
      ]
     },
     "execution_count": 33,
     "metadata": {},
     "output_type": "execute_result"
    }
   ],
   "source": [
    "simple_interest(5000, 10, 20)"
   ]
  },
  {
   "cell_type": "code",
   "execution_count": 34,
   "id": "fa7ed4a4",
   "metadata": {},
   "outputs": [
    {
     "data": {
      "text/plain": [
       "'\\nQuestion 1 - \\nCreate a date printing function - \\nShould take 4 arguments -> day, month, year and style\\n\\nStyling Logic - \\nstyle -> 0 -> d/m/y\\nstyle -> 1 -> m/d/y\\nstyle -> any other value -> Invalid Style\\n\\ndefault style is 0.\\n'"
      ]
     },
     "execution_count": 34,
     "metadata": {},
     "output_type": "execute_result"
    }
   ],
   "source": [
    "'''\n",
    "Question 1 - \n",
    "Create a date printing function - \n",
    "Should take 4 arguments -> day, month, year and style\n",
    "\n",
    "Styling Logic - \n",
    "style -> 0 -> d/m/y\n",
    "style -> 1 -> m/d/y\n",
    "style -> any other value -> Invalid Style\n",
    "\n",
    "default style is 0.\n",
    "'''"
   ]
  },
  {
   "cell_type": "code",
   "execution_count": 39,
   "id": "93558757",
   "metadata": {},
   "outputs": [],
   "source": [
    "def print_date(day, month, year, style = 0):\n",
    "    if style == 0:\n",
    "        print(day, month, year, sep = \"/\")\n",
    "    elif style == 1:\n",
    "        print(month, day, year, sep = \"/\")\n",
    "    else:\n",
    "        print(\"INVALID STYLE!\")"
   ]
  },
  {
   "cell_type": "code",
   "execution_count": 40,
   "id": "1084cc5b",
   "metadata": {},
   "outputs": [
    {
     "name": "stdout",
     "output_type": "stream",
     "text": [
      "5/11/1997\n"
     ]
    }
   ],
   "source": [
    "print_date(5, 11, 1997)"
   ]
  },
  {
   "cell_type": "code",
   "execution_count": 41,
   "id": "6a23e398",
   "metadata": {},
   "outputs": [
    {
     "name": "stdout",
     "output_type": "stream",
     "text": [
      "11/5/1997\n"
     ]
    }
   ],
   "source": [
    "print_date(5, 11, 1997, 1)"
   ]
  },
  {
   "cell_type": "code",
   "execution_count": 42,
   "id": "a6bb7cf0",
   "metadata": {},
   "outputs": [
    {
     "name": "stdout",
     "output_type": "stream",
     "text": [
      "INVALID STYLE!\n"
     ]
    }
   ],
   "source": [
    "print_date(5, 11, 1997, 5)"
   ]
  },
  {
   "cell_type": "code",
   "execution_count": 43,
   "id": "acbabed3",
   "metadata": {},
   "outputs": [],
   "source": [
    "# SCOPE"
   ]
  },
  {
   "cell_type": "code",
   "execution_count": 45,
   "id": "12081ac3",
   "metadata": {},
   "outputs": [
    {
     "name": "stdout",
     "output_type": "stream",
     "text": [
      "Chief of the house is - Mother\n",
      "New chief of the house is - Father\n",
      "Now the chief of the house is - Mother\n"
     ]
    }
   ],
   "source": [
    "chief_of_home = \"Mother\" # global variable\n",
    "\n",
    "print(\"Chief of the house is -\", chief_of_home)\n",
    "\n",
    "def change_chief():\n",
    "    chief_of_home = \"Father\" # local variable\n",
    "    print(\"New chief of the house is -\", chief_of_home)\n",
    "\n",
    "change_chief()\n",
    "\n",
    "print(\"Now the chief of the house is -\", chief_of_home)"
   ]
  },
  {
   "cell_type": "code",
   "execution_count": 51,
   "id": "a683a3c3",
   "metadata": {},
   "outputs": [
    {
     "name": "stdout",
     "output_type": "stream",
     "text": [
      "Inside random1 - 10\n",
      "Inside random2 - 5\n",
      "Outside - 10\n"
     ]
    }
   ],
   "source": [
    "a = 10 # global a\n",
    "\n",
    "def random1():\n",
    "    print(\"Inside random1 -\", a)\n",
    "    \n",
    "def random2():\n",
    "    a = 5\n",
    "    print(\"Inside random2 -\", a)\n",
    "    \n",
    "random1()\n",
    "random2()\n",
    "\n",
    "print(\"Outside -\", a)"
   ]
  },
  {
   "cell_type": "code",
   "execution_count": 52,
   "id": "fb854c47",
   "metadata": {},
   "outputs": [],
   "source": [
    "# LAMBDA FUNCTIONS"
   ]
  },
  {
   "cell_type": "code",
   "execution_count": 56,
   "id": "88c5d661",
   "metadata": {},
   "outputs": [],
   "source": [
    "def hello1():\n",
    "    return \"HELLO\""
   ]
  },
  {
   "cell_type": "code",
   "execution_count": 57,
   "id": "b531edd5",
   "metadata": {},
   "outputs": [
    {
     "data": {
      "text/plain": [
       "'HELLO'"
      ]
     },
     "execution_count": 57,
     "metadata": {},
     "output_type": "execute_result"
    }
   ],
   "source": [
    "hello1()"
   ]
  },
  {
   "cell_type": "code",
   "execution_count": 58,
   "id": "71fc7b26",
   "metadata": {},
   "outputs": [],
   "source": [
    "hello2 = lambda : \"HELLO\""
   ]
  },
  {
   "cell_type": "code",
   "execution_count": 59,
   "id": "a3181a2a",
   "metadata": {},
   "outputs": [
    {
     "data": {
      "text/plain": [
       "'HELLO'"
      ]
     },
     "execution_count": 59,
     "metadata": {},
     "output_type": "execute_result"
    }
   ],
   "source": [
    "hello2()"
   ]
  },
  {
   "cell_type": "code",
   "execution_count": 63,
   "id": "5a6ee8b8",
   "metadata": {},
   "outputs": [],
   "source": [
    "def random1(x):\n",
    "    return x + 10"
   ]
  },
  {
   "cell_type": "code",
   "execution_count": 64,
   "id": "75a776b3",
   "metadata": {},
   "outputs": [],
   "source": [
    "random2 = lambda x : x + 10"
   ]
  },
  {
   "cell_type": "code",
   "execution_count": 65,
   "id": "4eecd9e5",
   "metadata": {},
   "outputs": [
    {
     "data": {
      "text/plain": [
       "15"
      ]
     },
     "execution_count": 65,
     "metadata": {},
     "output_type": "execute_result"
    }
   ],
   "source": [
    "random1(5)"
   ]
  },
  {
   "cell_type": "code",
   "execution_count": 66,
   "id": "9c16f05b",
   "metadata": {},
   "outputs": [
    {
     "data": {
      "text/plain": [
       "15"
      ]
     },
     "execution_count": 66,
     "metadata": {},
     "output_type": "execute_result"
    }
   ],
   "source": [
    "random2(5)"
   ]
  },
  {
   "cell_type": "code",
   "execution_count": 70,
   "id": "ea5f847b",
   "metadata": {},
   "outputs": [],
   "source": [
    "random3 = lambda x, y = 10 : x + y"
   ]
  },
  {
   "cell_type": "code",
   "execution_count": 72,
   "id": "fcd5627e",
   "metadata": {},
   "outputs": [
    {
     "data": {
      "text/plain": [
       "15"
      ]
     },
     "execution_count": 72,
     "metadata": {},
     "output_type": "execute_result"
    }
   ],
   "source": [
    "random3(5)"
   ]
  },
  {
   "cell_type": "code",
   "execution_count": 81,
   "id": "82c3512d",
   "metadata": {},
   "outputs": [],
   "source": [
    "random4 = lambda x : x + 10 if x > 10 else x - 10"
   ]
  },
  {
   "cell_type": "code",
   "execution_count": 82,
   "id": "637d8c75",
   "metadata": {},
   "outputs": [
    {
     "data": {
      "text/plain": [
       "-5"
      ]
     },
     "execution_count": 82,
     "metadata": {},
     "output_type": "execute_result"
    }
   ],
   "source": [
    "random4(5)"
   ]
  },
  {
   "cell_type": "code",
   "execution_count": 77,
   "id": "ea561d32",
   "metadata": {},
   "outputs": [],
   "source": [
    "# value_if_true if condition else value_if_false <- TERNARY OPERATOR"
   ]
  },
  {
   "cell_type": "code",
   "execution_count": 79,
   "id": "026f187d",
   "metadata": {},
   "outputs": [],
   "source": [
    "x = 50"
   ]
  },
  {
   "cell_type": "code",
   "execution_count": 80,
   "id": "5e9d6fe9",
   "metadata": {},
   "outputs": [
    {
     "data": {
      "text/plain": [
       "'x is greater than 10.'"
      ]
     },
     "execution_count": 80,
     "metadata": {},
     "output_type": "execute_result"
    }
   ],
   "source": [
    "\"x is greater than 10.\" if x > 10 else \"x is smaller than 10.\""
   ]
  },
  {
   "cell_type": "code",
   "execution_count": 83,
   "id": "25c2b49e",
   "metadata": {},
   "outputs": [],
   "source": [
    "# Lambda functions are also anonymous!"
   ]
  },
  {
   "cell_type": "code",
   "execution_count": 84,
   "id": "de72700c",
   "metadata": {},
   "outputs": [
    {
     "data": {
      "text/plain": [
       "15"
      ]
     },
     "execution_count": 84,
     "metadata": {},
     "output_type": "execute_result"
    }
   ],
   "source": [
    "(lambda x : x + 10)(5)"
   ]
  },
  {
   "cell_type": "code",
   "execution_count": 85,
   "id": "770f5a20",
   "metadata": {},
   "outputs": [],
   "source": [
    "import math"
   ]
  },
  {
   "cell_type": "code",
   "execution_count": 86,
   "id": "61ec65c6",
   "metadata": {},
   "outputs": [
    {
     "data": {
      "text/plain": [
       "3.141592653589793"
      ]
     },
     "execution_count": 86,
     "metadata": {},
     "output_type": "execute_result"
    }
   ],
   "source": [
    "math.pi"
   ]
  },
  {
   "cell_type": "code",
   "execution_count": 88,
   "id": "f2908f9d",
   "metadata": {},
   "outputs": [
    {
     "name": "stdout",
     "output_type": "stream",
     "text": [
      "Please only input 0 or 1 - 1\n",
      "Please only input 0 or 1 - 3\n",
      "Please only input 0 or 1 - 4\n",
      "Please only input 0 or 1 - 10\n",
      "Please only input 0 or 1 - 0\n"
     ]
    }
   ],
   "source": [
    "active = True\n",
    "\n",
    "while active:\n",
    "    style = int(input(\"Please only input 0 or 1 - \"))\n",
    "    \n",
    "    if style == 0:\n",
    "        active = False"
   ]
  },
  {
   "cell_type": "code",
   "execution_count": 91,
   "id": "c12baf24",
   "metadata": {},
   "outputs": [],
   "source": [
    "# i = 0\n",
    "\n",
    "# while i < 1:\n",
    "#     print(i)\n",
    "#     i -= 1"
   ]
  },
  {
   "cell_type": "code",
   "execution_count": null,
   "id": "1beebf22",
   "metadata": {},
   "outputs": [],
   "source": []
  }
 ],
 "metadata": {
  "kernelspec": {
   "display_name": "Python 3 (ipykernel)",
   "language": "python",
   "name": "python3"
  },
  "language_info": {
   "codemirror_mode": {
    "name": "ipython",
    "version": 3
   },
   "file_extension": ".py",
   "mimetype": "text/x-python",
   "name": "python",
   "nbconvert_exporter": "python",
   "pygments_lexer": "ipython3",
   "version": "3.9.5"
  }
 },
 "nbformat": 4,
 "nbformat_minor": 5
}
