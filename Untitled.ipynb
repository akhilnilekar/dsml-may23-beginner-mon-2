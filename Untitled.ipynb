{
 "cells": [
  {
   "cell_type": "code",
   "execution_count": 1,
   "id": "da18f31a",
   "metadata": {},
   "outputs": [
    {
     "name": "stdout",
     "output_type": "stream",
     "text": [
      "Dust all the rooms!\n",
      "Arrange the living area!\n",
      "Go and get cold drinks and mixtures!\n",
      "Don't misbehave in front of the guests!\n",
      "Touch their feet when you see them!\n"
     ]
    }
   ],
   "source": [
    "print(\"Dust all the rooms!\")\n",
    "print(\"Arrange the living area!\")\n",
    "print(\"Go and get cold drinks and mixtures!\")\n",
    "print(\"Don't misbehave in front of the guests!\")\n",
    "print(\"Touch their feet when you see them!\")"
   ]
  },
  {
   "cell_type": "code",
   "execution_count": 2,
   "id": "81242f33",
   "metadata": {},
   "outputs": [
    {
     "name": "stdout",
     "output_type": "stream",
     "text": [
      "Dust all the rooms!\n",
      "Arrange the living area!\n",
      "Go and get cold drinks and mixtures!\n",
      "Don't misbehave in front of the guests!\n",
      "Touch their feet when you see them!\n"
     ]
    }
   ],
   "source": [
    "print(\"Dust all the rooms!\")\n",
    "print(\"Arrange the living area!\")\n",
    "print(\"Go and get cold drinks and mixtures!\")\n",
    "print(\"Don't misbehave in front of the guests!\")\n",
    "print(\"Touch their feet when you see them!\")"
   ]
  },
  {
   "cell_type": "code",
   "execution_count": 3,
   "id": "518f86dd",
   "metadata": {},
   "outputs": [
    {
     "name": "stdout",
     "output_type": "stream",
     "text": [
      "Dust all the rooms!\n",
      "Arrange the living area!\n",
      "Go and get cold drinks and mixtures!\n",
      "Don't misbehave in front of the guests!\n",
      "Touch their feet when you see them!\n"
     ]
    }
   ],
   "source": [
    "print(\"Dust all the rooms!\")\n",
    "print(\"Arrange the living area!\")\n",
    "print(\"Go and get cold drinks and mixtures!\")\n",
    "print(\"Don't misbehave in front of the guests!\")\n",
    "print(\"Touch their feet when you see them!\")"
   ]
  },
  {
   "cell_type": "code",
   "execution_count": 4,
   "id": "d13b1a58",
   "metadata": {},
   "outputs": [],
   "source": [
    "def prepare_for_guests(): # Collection of instructions - Creating a function\n",
    "    print(\"Dust all the rooms!\")\n",
    "    print(\"Arrange the living area!\")\n",
    "    print(\"Go and get cold drinks and mixtures!\")\n",
    "    print(\"Don't misbehave in front of the guests!\")\n",
    "    print(\"Touch their feet when you see them!\")"
   ]
  },
  {
   "cell_type": "code",
   "execution_count": 9,
   "id": "fe0be2f1",
   "metadata": {},
   "outputs": [
    {
     "name": "stdout",
     "output_type": "stream",
     "text": [
      "Dust all the rooms!\n",
      "Arrange the living area!\n",
      "Go and get cold drinks and mixtures!\n",
      "Don't misbehave in front of the guests!\n",
      "Touch their feet when you see them!\n"
     ]
    }
   ],
   "source": [
    "prepare_for_guests() # Executing a function"
   ]
  },
  {
   "cell_type": "code",
   "execution_count": 6,
   "id": "92a423fb",
   "metadata": {},
   "outputs": [
    {
     "name": "stdout",
     "output_type": "stream",
     "text": [
      "Dust all the rooms!\n",
      "Arrange the living area!\n",
      "Go and get cold drinks and mixtures!\n",
      "Don't misbehave in front of the guests!\n",
      "Touch their feet when you see them!\n"
     ]
    }
   ],
   "source": [
    "prepare_for_guests()"
   ]
  },
  {
   "cell_type": "code",
   "execution_count": 7,
   "id": "ffc2bbb6",
   "metadata": {},
   "outputs": [
    {
     "name": "stdout",
     "output_type": "stream",
     "text": [
      "Dust all the rooms!\n",
      "Arrange the living area!\n",
      "Go and get cold drinks and mixtures!\n",
      "Don't misbehave in front of the guests!\n",
      "Touch their feet when you see them!\n"
     ]
    }
   ],
   "source": [
    "prepare_for_guests()"
   ]
  },
  {
   "cell_type": "code",
   "execution_count": 8,
   "id": "c5c0a10f",
   "metadata": {},
   "outputs": [
    {
     "name": "stdout",
     "output_type": "stream",
     "text": [
      "Dust all the rooms!\n",
      "Arrange the living area!\n",
      "Go and get cold drinks and mixtures!\n",
      "Don't misbehave in front of the guests!\n",
      "Touch their feet when you see them!\n"
     ]
    }
   ],
   "source": [
    "prepare_for_guests()"
   ]
  },
  {
   "cell_type": "code",
   "execution_count": 10,
   "id": "28c491b7",
   "metadata": {},
   "outputs": [],
   "source": [
    "# Internal Python Functions\n",
    "# len, print, type, range..."
   ]
  },
  {
   "cell_type": "code",
   "execution_count": 11,
   "id": "9e1642aa",
   "metadata": {},
   "outputs": [],
   "source": [
    "def sheldon_knock():\n",
    "    print(\"knock knock knock Penny!\")\n",
    "    print(\"knock knock knock Penny!\")\n",
    "    print(\"knock knock knock Penny!\")"
   ]
  },
  {
   "cell_type": "code",
   "execution_count": 12,
   "id": "5e28ec06",
   "metadata": {},
   "outputs": [
    {
     "name": "stdout",
     "output_type": "stream",
     "text": [
      "knock knock knock Penny!\n",
      "knock knock knock Penny!\n",
      "knock knock knock Penny!\n"
     ]
    }
   ],
   "source": [
    "sheldon_knock()"
   ]
  },
  {
   "cell_type": "code",
   "execution_count": 13,
   "id": "5f09b4fe",
   "metadata": {},
   "outputs": [],
   "source": [
    "# FUNCTIONS CAN TAKE ARGUMENTS!"
   ]
  },
  {
   "cell_type": "code",
   "execution_count": 20,
   "id": "1cc7767e",
   "metadata": {},
   "outputs": [],
   "source": [
    "def sheldon_knock(name):\n",
    "    print(\"knock knock knock\", name, \"!\")\n",
    "    print(\"knock knock knock\", name, \"!\")\n",
    "    print(\"knock knock knock\", name, \"!\")"
   ]
  },
  {
   "cell_type": "code",
   "execution_count": 21,
   "id": "670549e7",
   "metadata": {},
   "outputs": [
    {
     "name": "stdout",
     "output_type": "stream",
     "text": [
      "knock knock knock Piyush !\n",
      "knock knock knock Piyush !\n",
      "knock knock knock Piyush !\n"
     ]
    }
   ],
   "source": [
    "sheldon_knock(\"Piyush\")"
   ]
  },
  {
   "cell_type": "code",
   "execution_count": 22,
   "id": "faa4810e",
   "metadata": {},
   "outputs": [
    {
     "name": "stdout",
     "output_type": "stream",
     "text": [
      "knock knock knock Maharshi !\n",
      "knock knock knock Maharshi !\n",
      "knock knock knock Maharshi !\n"
     ]
    }
   ],
   "source": [
    "sheldon_knock(\"Maharshi\")"
   ]
  },
  {
   "cell_type": "code",
   "execution_count": 23,
   "id": "ba8379a6",
   "metadata": {},
   "outputs": [
    {
     "data": {
      "text/plain": [
       "'\\nQuestion 1 - \\nTake a name as input.\\nWrite a greeter function which prints, \"Hello, <name> :)\"\\nafter accepting name as an argument.\\n'"
      ]
     },
     "execution_count": 23,
     "metadata": {},
     "output_type": "execute_result"
    }
   ],
   "source": [
    "'''\n",
    "Question 1 - \n",
    "Take a name as input.\n",
    "Write a greeter function which prints, \"Hello, <name> :)\"\n",
    "after accepting name as an argument.\n",
    "'''"
   ]
  },
  {
   "cell_type": "code",
   "execution_count": 34,
   "id": "0dc76b6c",
   "metadata": {},
   "outputs": [],
   "source": [
    "def greeter(name):\n",
    "    print(\"Hello\", name, \":)\")"
   ]
  },
  {
   "cell_type": "code",
   "execution_count": 35,
   "id": "d46ca4c3",
   "metadata": {},
   "outputs": [
    {
     "name": "stdout",
     "output_type": "stream",
     "text": [
      "bipin\n",
      "Hello bipin :)\n"
     ]
    }
   ],
   "source": [
    "user_input = input()\n",
    "greeter(user_input)"
   ]
  },
  {
   "cell_type": "code",
   "execution_count": 37,
   "id": "97e25718",
   "metadata": {},
   "outputs": [
    {
     "name": "stdout",
     "output_type": "stream",
     "text": [
      "Hello random! :)\n"
     ]
    }
   ],
   "source": [
    "hardcoded_value = \"random!\"\n",
    "greeter(hardcoded_value)"
   ]
  },
  {
   "cell_type": "code",
   "execution_count": 38,
   "id": "490fafcf",
   "metadata": {},
   "outputs": [
    {
     "name": "stdout",
     "output_type": "stream",
     "text": [
      "Hello direct value! :)\n"
     ]
    }
   ],
   "source": [
    "greeter(\"direct value!\")"
   ]
  },
  {
   "cell_type": "code",
   "execution_count": 32,
   "id": "03d814df",
   "metadata": {},
   "outputs": [],
   "source": [
    "def greeter():\n",
    "    print(\"Hello\")"
   ]
  },
  {
   "cell_type": "code",
   "execution_count": 33,
   "id": "231e3969",
   "metadata": {},
   "outputs": [
    {
     "ename": "TypeError",
     "evalue": "greeter() takes 0 positional arguments but 1 was given",
     "output_type": "error",
     "traceback": [
      "\u001b[0;31m---------------------------------------------------------------------------\u001b[0m",
      "\u001b[0;31mTypeError\u001b[0m                                 Traceback (most recent call last)",
      "Cell \u001b[0;32mIn[33], line 1\u001b[0m\n\u001b[0;32m----> 1\u001b[0m \u001b[43mgreeter\u001b[49m\u001b[43m(\u001b[49m\u001b[38;5;124;43m\"\u001b[39;49m\u001b[38;5;124;43mrandom\u001b[39;49m\u001b[38;5;124;43m\"\u001b[39;49m\u001b[43m)\u001b[49m\n",
      "\u001b[0;31mTypeError\u001b[0m: greeter() takes 0 positional arguments but 1 was given"
     ]
    }
   ],
   "source": [
    "greeter(\"random\")"
   ]
  },
  {
   "cell_type": "code",
   "execution_count": 39,
   "id": "ac58caa0",
   "metadata": {},
   "outputs": [
    {
     "data": {
      "text/plain": [
       "'\\nQuestion 2 - \\nWrite down a proposal function :)\\nYou have been given a dare. Take an input name from your friends. \\nWrite a function which takes that name as argument and prints\\n\"I LOVE YOU NAME! :)\"\\n'"
      ]
     },
     "execution_count": 39,
     "metadata": {},
     "output_type": "execute_result"
    }
   ],
   "source": [
    "'''\n",
    "Question 2 - \n",
    "Write down a proposal function :)\n",
    "You have been given a dare. Take an input name from your friends. \n",
    "Write a function which takes that name as argument and prints\n",
    "\"I LOVE YOU NAME! :)\"\n",
    "'''"
   ]
  },
  {
   "cell_type": "code",
   "execution_count": 40,
   "id": "07482065",
   "metadata": {},
   "outputs": [],
   "source": [
    "name = None"
   ]
  },
  {
   "cell_type": "code",
   "execution_count": 41,
   "id": "f3e85411",
   "metadata": {},
   "outputs": [],
   "source": [
    "random_name = \"Bipin Kalra\""
   ]
  },
  {
   "cell_type": "code",
   "execution_count": 42,
   "id": "ccb00c50",
   "metadata": {},
   "outputs": [],
   "source": [
    "name = random_name"
   ]
  },
  {
   "cell_type": "code",
   "execution_count": 43,
   "id": "cbd25179",
   "metadata": {},
   "outputs": [
    {
     "name": "stdout",
     "output_type": "stream",
     "text": [
      "Bipin Kalra\n"
     ]
    }
   ],
   "source": [
    "print(name)"
   ]
  },
  {
   "cell_type": "code",
   "execution_count": 44,
   "id": "35208e89",
   "metadata": {},
   "outputs": [],
   "source": [
    "def propose(name):\n",
    "    print(\"I LOVE YOU\", name)"
   ]
  },
  {
   "cell_type": "code",
   "execution_count": 45,
   "id": "acf0bc6d",
   "metadata": {},
   "outputs": [],
   "source": [
    "name1 = \"Emilia Clarke\""
   ]
  },
  {
   "cell_type": "code",
   "execution_count": 46,
   "id": "76cb6606",
   "metadata": {},
   "outputs": [
    {
     "name": "stdout",
     "output_type": "stream",
     "text": [
      "I LOVE YOU Emilia Clarke\n"
     ]
    }
   ],
   "source": [
    "propose(name1)"
   ]
  },
  {
   "cell_type": "code",
   "execution_count": 47,
   "id": "545485b5",
   "metadata": {},
   "outputs": [],
   "source": [
    "random_name = \"Kiara Advani\""
   ]
  },
  {
   "cell_type": "code",
   "execution_count": 48,
   "id": "6167ac2e",
   "metadata": {},
   "outputs": [
    {
     "name": "stdout",
     "output_type": "stream",
     "text": [
      "I LOVE YOU Kiara Advani\n"
     ]
    }
   ],
   "source": [
    "propose(random_name)"
   ]
  },
  {
   "cell_type": "code",
   "execution_count": 49,
   "id": "ee66b839",
   "metadata": {},
   "outputs": [
    {
     "name": "stdout",
     "output_type": "stream",
     "text": [
      "PYTHON!\n"
     ]
    }
   ],
   "source": [
    "input_name = input()"
   ]
  },
  {
   "cell_type": "code",
   "execution_count": 50,
   "id": "e0058db4",
   "metadata": {},
   "outputs": [
    {
     "name": "stdout",
     "output_type": "stream",
     "text": [
      "I LOVE YOU PYTHON!\n"
     ]
    }
   ],
   "source": [
    "propose(input_name)"
   ]
  },
  {
   "cell_type": "code",
   "execution_count": 51,
   "id": "a2388455",
   "metadata": {},
   "outputs": [
    {
     "name": "stdout",
     "output_type": "stream",
     "text": [
      "I LOVE YOU Hinata!\n"
     ]
    }
   ],
   "source": [
    "propose(\"Hinata!\")"
   ]
  },
  {
   "cell_type": "code",
   "execution_count": 52,
   "id": "7bdf0bd8",
   "metadata": {},
   "outputs": [],
   "source": [
    "name = \"Bipin!\""
   ]
  },
  {
   "cell_type": "code",
   "execution_count": 53,
   "id": "63ce4c53",
   "metadata": {},
   "outputs": [
    {
     "name": "stdout",
     "output_type": "stream",
     "text": [
      "I LOVE YOU Bipin!\n"
     ]
    }
   ],
   "source": [
    "propose(name)"
   ]
  },
  {
   "cell_type": "code",
   "execution_count": 54,
   "id": "ac0d99a3",
   "metadata": {},
   "outputs": [],
   "source": [
    "# A FUNCTION CAN TAKE MULTIPLE ARGUMENTS"
   ]
  },
  {
   "cell_type": "code",
   "execution_count": 55,
   "id": "d8fafd9a",
   "metadata": {},
   "outputs": [],
   "source": [
    "def introduce_family(father, mother, sibling, myself):\n",
    "    print(\"Father's name -\", father)\n",
    "    print(\"Mother's name -\", mother)\n",
    "    print(\"Sibling's name -\", sibling)\n",
    "    print(\"My name -\", myself)"
   ]
  },
  {
   "cell_type": "code",
   "execution_count": 56,
   "id": "00ddf676",
   "metadata": {},
   "outputs": [
    {
     "name": "stdout",
     "output_type": "stream",
     "text": [
      "Father's name - Brad Pitt\n",
      "Mother's name - Angelina Jolie\n",
      "Sibling's name - Stormi\n",
      "My name - Bipin Kalra\n"
     ]
    }
   ],
   "source": [
    "introduce_family(\"Brad Pitt\", \"Angelina Jolie\", \"Stormi\", \"Bipin Kalra\")"
   ]
  },
  {
   "cell_type": "code",
   "execution_count": 57,
   "id": "1dd59930",
   "metadata": {},
   "outputs": [
    {
     "name": "stdout",
     "output_type": "stream",
     "text": [
      "Father's name - Stormi\n",
      "Mother's name - Brad Pitt\n",
      "Sibling's name - Angelina Jolie\n",
      "My name - Bipin Kalra\n"
     ]
    }
   ],
   "source": [
    "introduce_family(\"Stormi\", \"Brad Pitt\", \"Angelina Jolie\", \"Bipin Kalra\")"
   ]
  },
  {
   "cell_type": "code",
   "execution_count": 58,
   "id": "d7f339de",
   "metadata": {},
   "outputs": [
    {
     "ename": "TypeError",
     "evalue": "introduce_family() missing 1 required positional argument: 'myself'",
     "output_type": "error",
     "traceback": [
      "\u001b[0;31m---------------------------------------------------------------------------\u001b[0m",
      "\u001b[0;31mTypeError\u001b[0m                                 Traceback (most recent call last)",
      "Cell \u001b[0;32mIn[58], line 1\u001b[0m\n\u001b[0;32m----> 1\u001b[0m \u001b[43mintroduce_family\u001b[49m\u001b[43m(\u001b[49m\u001b[38;5;124;43m\"\u001b[39;49m\u001b[38;5;124;43mA\u001b[39;49m\u001b[38;5;124;43m\"\u001b[39;49m\u001b[43m,\u001b[49m\u001b[43m \u001b[49m\u001b[38;5;124;43m\"\u001b[39;49m\u001b[38;5;124;43mB\u001b[39;49m\u001b[38;5;124;43m\"\u001b[39;49m\u001b[43m,\u001b[49m\u001b[43m \u001b[49m\u001b[38;5;124;43m\"\u001b[39;49m\u001b[38;5;124;43mC\u001b[39;49m\u001b[38;5;124;43m\"\u001b[39;49m\u001b[43m)\u001b[49m\n",
      "\u001b[0;31mTypeError\u001b[0m: introduce_family() missing 1 required positional argument: 'myself'"
     ]
    }
   ],
   "source": [
    "introduce_family(\"A\", \"B\", \"C\")"
   ]
  },
  {
   "cell_type": "code",
   "execution_count": 59,
   "id": "c16bef2a",
   "metadata": {},
   "outputs": [
    {
     "ename": "TypeError",
     "evalue": "introduce_family() takes 4 positional arguments but 5 were given",
     "output_type": "error",
     "traceback": [
      "\u001b[0;31m---------------------------------------------------------------------------\u001b[0m",
      "\u001b[0;31mTypeError\u001b[0m                                 Traceback (most recent call last)",
      "Cell \u001b[0;32mIn[59], line 1\u001b[0m\n\u001b[0;32m----> 1\u001b[0m \u001b[43mintroduce_family\u001b[49m\u001b[43m(\u001b[49m\u001b[38;5;124;43m\"\u001b[39;49m\u001b[38;5;124;43mA\u001b[39;49m\u001b[38;5;124;43m\"\u001b[39;49m\u001b[43m,\u001b[49m\u001b[43m \u001b[49m\u001b[38;5;124;43m\"\u001b[39;49m\u001b[38;5;124;43mB\u001b[39;49m\u001b[38;5;124;43m\"\u001b[39;49m\u001b[43m,\u001b[49m\u001b[43m \u001b[49m\u001b[38;5;124;43m\"\u001b[39;49m\u001b[38;5;124;43mC\u001b[39;49m\u001b[38;5;124;43m\"\u001b[39;49m\u001b[43m,\u001b[49m\u001b[43m \u001b[49m\u001b[38;5;124;43m\"\u001b[39;49m\u001b[38;5;124;43mD\u001b[39;49m\u001b[38;5;124;43m\"\u001b[39;49m\u001b[43m,\u001b[49m\u001b[43m \u001b[49m\u001b[38;5;124;43m\"\u001b[39;49m\u001b[38;5;124;43mE\u001b[39;49m\u001b[38;5;124;43m\"\u001b[39;49m\u001b[43m)\u001b[49m\n",
      "\u001b[0;31mTypeError\u001b[0m: introduce_family() takes 4 positional arguments but 5 were given"
     ]
    }
   ],
   "source": [
    "introduce_family(\"A\", \"B\", \"C\", \"D\", \"E\")"
   ]
  },
  {
   "cell_type": "code",
   "execution_count": 60,
   "id": "1eba72cc",
   "metadata": {},
   "outputs": [],
   "source": [
    "s1 = 'this is a string using single quotes!'"
   ]
  },
  {
   "cell_type": "code",
   "execution_count": 61,
   "id": "1c474561",
   "metadata": {},
   "outputs": [],
   "source": [
    "s2 = \"this is a string using double quotes!\""
   ]
  },
  {
   "cell_type": "code",
   "execution_count": 62,
   "id": "1640da77",
   "metadata": {},
   "outputs": [],
   "source": [
    "s3 = '''this is a special string using triple quotes -> DOCSTRING!'''"
   ]
  },
  {
   "cell_type": "code",
   "execution_count": 63,
   "id": "26ff16e8",
   "metadata": {},
   "outputs": [],
   "source": [
    "s4 = '''\n",
    "        this is a string which contains\n",
    "            various \n",
    "                    white spaces\n",
    "                    \n",
    "        \n",
    "        \n",
    "        that python retains!\n",
    "'''"
   ]
  },
  {
   "cell_type": "code",
   "execution_count": 64,
   "id": "4866f30d",
   "metadata": {},
   "outputs": [
    {
     "data": {
      "text/plain": [
       "'\\n        this is a string which contains\\n            various \\n                    white spaces\\n                    \\n        \\n        \\n        that python retains!\\n'"
      ]
     },
     "execution_count": 64,
     "metadata": {},
     "output_type": "execute_result"
    }
   ],
   "source": [
    "s4"
   ]
  },
  {
   "cell_type": "code",
   "execution_count": 67,
   "id": "407de618",
   "metadata": {},
   "outputs": [],
   "source": [
    "def random(a, b):\n",
    "    '''\n",
    "    This function accepts two arguments - \n",
    "    a and b can be of any type\n",
    "    \n",
    "    Output -> Prints both the arguments separated by a space.\n",
    "    '''\n",
    "    \n",
    "    # WILL THIS SHOW UP?\n",
    "    \n",
    "    print(a, b)"
   ]
  },
  {
   "cell_type": "code",
   "execution_count": 68,
   "id": "1d00f18f",
   "metadata": {},
   "outputs": [
    {
     "name": "stdout",
     "output_type": "stream",
     "text": [
      "Help on function random in module __main__:\n",
      "\n",
      "random(a, b)\n",
      "    This function accepts two arguments - \n",
      "    a and b can be of any type\n",
      "    \n",
      "    Output -> Prints both the arguments separated by a space.\n",
      "\n"
     ]
    }
   ],
   "source": [
    "help(random)"
   ]
  },
  {
   "cell_type": "code",
   "execution_count": 71,
   "id": "fb0970f7",
   "metadata": {},
   "outputs": [
    {
     "data": {
      "text/plain": [
       "'\\nTHIS IS A DOCSTRING!\\n'"
      ]
     },
     "execution_count": 71,
     "metadata": {},
     "output_type": "execute_result"
    }
   ],
   "source": [
    "'''\n",
    "THIS IS A DOCSTRING!\n",
    "'''"
   ]
  },
  {
   "cell_type": "code",
   "execution_count": 72,
   "id": "535bb321",
   "metadata": {},
   "outputs": [
    {
     "data": {
      "text/plain": [
       "'\\nTHIS IS ALSO A DOCSTRING!\\n'"
      ]
     },
     "execution_count": 72,
     "metadata": {},
     "output_type": "execute_result"
    }
   ],
   "source": [
    "\"\"\"\n",
    "THIS IS ALSO A DOCSTRING!\n",
    "\"\"\""
   ]
  },
  {
   "cell_type": "code",
   "execution_count": 73,
   "id": "1ee0e495",
   "metadata": {},
   "outputs": [
    {
     "data": {
      "text/plain": [
       "3"
      ]
     },
     "execution_count": 73,
     "metadata": {},
     "output_type": "execute_result"
    }
   ],
   "source": [
    "1 + 2"
   ]
  },
  {
   "cell_type": "code",
   "execution_count": 74,
   "id": "e644fc19",
   "metadata": {},
   "outputs": [
    {
     "data": {
      "text/plain": [
       "'stringconcat'"
      ]
     },
     "execution_count": 74,
     "metadata": {},
     "output_type": "execute_result"
    }
   ],
   "source": [
    "\"string\" + \"concat\""
   ]
  },
  {
   "cell_type": "code",
   "execution_count": 75,
   "id": "5f44e096",
   "metadata": {},
   "outputs": [
    {
     "ename": "TypeError",
     "evalue": "can only concatenate str (not \"int\") to str",
     "output_type": "error",
     "traceback": [
      "\u001b[0;31m---------------------------------------------------------------------------\u001b[0m",
      "\u001b[0;31mTypeError\u001b[0m                                 Traceback (most recent call last)",
      "Cell \u001b[0;32mIn[75], line 1\u001b[0m\n\u001b[0;32m----> 1\u001b[0m \u001b[38;5;124;43m\"\u001b[39;49m\u001b[38;5;124;43mstring\u001b[39;49m\u001b[38;5;124;43m\"\u001b[39;49m\u001b[43m \u001b[49m\u001b[38;5;241;43m+\u001b[39;49m\u001b[43m \u001b[49m\u001b[38;5;241;43m1\u001b[39;49m\n",
      "\u001b[0;31mTypeError\u001b[0m: can only concatenate str (not \"int\") to str"
     ]
    }
   ],
   "source": [
    "\"string\" + 1"
   ]
  },
  {
   "cell_type": "code",
   "execution_count": 76,
   "id": "b0f8fad2",
   "metadata": {},
   "outputs": [],
   "source": [
    "def add_two(a, b):\n",
    "    '''\n",
    "    Arguments - \n",
    "    a: Number or String\n",
    "    b: Number or String\n",
    "    \n",
    "    Note - Please do not enter mixed data types i.e. both a and b should be of the same data type.\n",
    "    \n",
    "    Output -\n",
    "    Str + Str -> Concatenation\n",
    "    Number + Number -> Addition\n",
    "    '''\n",
    "    \n",
    "    result = a + b\n",
    "    print(result)"
   ]
  },
  {
   "cell_type": "code",
   "execution_count": 77,
   "id": "c5274eeb",
   "metadata": {},
   "outputs": [
    {
     "name": "stdout",
     "output_type": "stream",
     "text": [
      "Help on function add_two in module __main__:\n",
      "\n",
      "add_two(a, b)\n",
      "    Arguments - \n",
      "    a: Number or String\n",
      "    b: Number or String\n",
      "    \n",
      "    Note - Please do not enter mixed data types i.e. both a and b should be of the same data type.\n",
      "    \n",
      "    Output -\n",
      "    Str + Str -> Concatenation\n",
      "    Number + Number -> Addition\n",
      "\n"
     ]
    }
   ],
   "source": [
    "help(add_two)"
   ]
  },
  {
   "cell_type": "code",
   "execution_count": 78,
   "id": "29f6c5d7",
   "metadata": {},
   "outputs": [],
   "source": [
    "def money_back(money):\n",
    "    print(money)"
   ]
  },
  {
   "cell_type": "code",
   "execution_count": 79,
   "id": "d833e7b1",
   "metadata": {},
   "outputs": [
    {
     "name": "stdout",
     "output_type": "stream",
     "text": [
      "500\n"
     ]
    }
   ],
   "source": [
    "money_back(500)"
   ]
  },
  {
   "cell_type": "code",
   "execution_count": 80,
   "id": "f8398289",
   "metadata": {},
   "outputs": [
    {
     "name": "stdout",
     "output_type": "stream",
     "text": [
      "500\n"
     ]
    }
   ],
   "source": [
    "result = money_back(500)"
   ]
  },
  {
   "cell_type": "code",
   "execution_count": 81,
   "id": "1e21e719",
   "metadata": {},
   "outputs": [
    {
     "name": "stdout",
     "output_type": "stream",
     "text": [
      "None\n"
     ]
    }
   ],
   "source": [
    "print(result)"
   ]
  },
  {
   "cell_type": "code",
   "execution_count": 82,
   "id": "a0059e58",
   "metadata": {},
   "outputs": [],
   "source": [
    "def add_two(a, b):\n",
    "    print(a + b)"
   ]
  },
  {
   "cell_type": "code",
   "execution_count": 84,
   "id": "8a2dd398",
   "metadata": {},
   "outputs": [
    {
     "name": "stdout",
     "output_type": "stream",
     "text": [
      "15\n"
     ]
    }
   ],
   "source": [
    "result = add_two(5, 10)"
   ]
  },
  {
   "cell_type": "code",
   "execution_count": 85,
   "id": "0a9aa1e6",
   "metadata": {},
   "outputs": [
    {
     "name": "stdout",
     "output_type": "stream",
     "text": [
      "None\n"
     ]
    }
   ],
   "source": [
    "print(result)"
   ]
  },
  {
   "cell_type": "code",
   "execution_count": 86,
   "id": "0b51b46a",
   "metadata": {},
   "outputs": [],
   "source": [
    "def add_two(a, b):\n",
    "    return a + b"
   ]
  },
  {
   "cell_type": "code",
   "execution_count": 87,
   "id": "b8f7ba22",
   "metadata": {},
   "outputs": [],
   "source": [
    "result = add_two(5, 10)"
   ]
  },
  {
   "cell_type": "code",
   "execution_count": 88,
   "id": "0f6e9037",
   "metadata": {},
   "outputs": [
    {
     "name": "stdout",
     "output_type": "stream",
     "text": [
      "15\n"
     ]
    }
   ],
   "source": [
    "print(result)"
   ]
  },
  {
   "cell_type": "code",
   "execution_count": 89,
   "id": "4f9c0138",
   "metadata": {},
   "outputs": [],
   "source": [
    "def add_two_numbers_with_print(a, b):\n",
    "    print(a + b)\n",
    "    \n",
    "def add_two_numbers_with_return(a, b):\n",
    "    return a + b"
   ]
  },
  {
   "cell_type": "code",
   "execution_count": 90,
   "id": "0fa63f35",
   "metadata": {},
   "outputs": [
    {
     "name": "stdout",
     "output_type": "stream",
     "text": [
      "15\n"
     ]
    }
   ],
   "source": [
    "result1 = add_two_numbers_with_print(5, 10)"
   ]
  },
  {
   "cell_type": "code",
   "execution_count": 91,
   "id": "db4ab745",
   "metadata": {},
   "outputs": [
    {
     "name": "stdout",
     "output_type": "stream",
     "text": [
      "None\n"
     ]
    }
   ],
   "source": [
    "print(result1)"
   ]
  },
  {
   "cell_type": "code",
   "execution_count": 92,
   "id": "cdef4f17",
   "metadata": {},
   "outputs": [],
   "source": [
    "result2 = add_two_numbers_with_return(5, 10)"
   ]
  },
  {
   "cell_type": "code",
   "execution_count": 93,
   "id": "3db4beb2",
   "metadata": {},
   "outputs": [
    {
     "name": "stdout",
     "output_type": "stream",
     "text": [
      "15\n"
     ]
    }
   ],
   "source": [
    "print(result2)"
   ]
  },
  {
   "cell_type": "code",
   "execution_count": 96,
   "id": "b1fe7b21",
   "metadata": {},
   "outputs": [],
   "source": [
    "def random():\n",
    "    print(\"BEFORE RETURN!\")\n",
    "    return 1 # return symbolises the end of a function!\n",
    "    print(\"AFTER RETURN!\")"
   ]
  },
  {
   "cell_type": "code",
   "execution_count": 97,
   "id": "76855ca8",
   "metadata": {},
   "outputs": [
    {
     "name": "stdout",
     "output_type": "stream",
     "text": [
      "BEFORE RETURN!\n"
     ]
    },
    {
     "data": {
      "text/plain": [
       "1"
      ]
     },
     "execution_count": 97,
     "metadata": {},
     "output_type": "execute_result"
    }
   ],
   "source": [
    "random()"
   ]
  },
  {
   "cell_type": "code",
   "execution_count": 98,
   "id": "7cb87a2b",
   "metadata": {},
   "outputs": [],
   "source": [
    "def add_two_numbers_with_both(a, b):\n",
    "    print( a + b )\n",
    "    return a + b "
   ]
  },
  {
   "cell_type": "code",
   "execution_count": 99,
   "id": "0365979d",
   "metadata": {
    "scrolled": true
   },
   "outputs": [
    {
     "name": "stdout",
     "output_type": "stream",
     "text": [
      "15\n"
     ]
    },
    {
     "data": {
      "text/plain": [
       "15"
      ]
     },
     "execution_count": 99,
     "metadata": {},
     "output_type": "execute_result"
    }
   ],
   "source": [
    "add_two_numbers_with_both(5, 10)"
   ]
  },
  {
   "cell_type": "code",
   "execution_count": 100,
   "id": "8ccb50f7",
   "metadata": {},
   "outputs": [],
   "source": [
    "def greeter(int):\n",
    "    print(\"random\")"
   ]
  },
  {
   "cell_type": "code",
   "execution_count": null,
   "id": "ccc7f6a5",
   "metadata": {},
   "outputs": [],
   "source": []
  }
 ],
 "metadata": {
  "kernelspec": {
   "display_name": "Python 3 (ipykernel)",
   "language": "python",
   "name": "python3"
  },
  "language_info": {
   "codemirror_mode": {
    "name": "ipython",
    "version": 3
   },
   "file_extension": ".py",
   "mimetype": "text/x-python",
   "name": "python",
   "nbconvert_exporter": "python",
   "pygments_lexer": "ipython3",
   "version": "3.9.5"
  }
 },
 "nbformat": 4,
 "nbformat_minor": 5
}
