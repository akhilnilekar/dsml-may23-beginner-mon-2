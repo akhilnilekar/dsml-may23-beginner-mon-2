{
 "cells": [
  {
   "cell_type": "markdown",
   "id": "1c58b6b5",
   "metadata": {},
   "source": [
    "# Problem Solving 2"
   ]
  },
  {
   "cell_type": "code",
   "execution_count": null,
   "id": "4c328641",
   "metadata": {},
   "outputs": [],
   "source": []
  },
  {
   "cell_type": "markdown",
   "id": "ac2a512b",
   "metadata": {},
   "source": [
    "## Reverse of a number"
   ]
  },
  {
   "cell_type": "code",
   "execution_count": 5,
   "id": "860aa048",
   "metadata": {},
   "outputs": [
    {
     "name": "stdout",
     "output_type": "stream",
     "text": [
      "Reverse =  1\n"
     ]
    }
   ],
   "source": [
    "N = 100\n",
    "\n",
    "ans = 0\n",
    "\n",
    "while N > 0:\n",
    "    lastDigit = N % 10\n",
    "    N = N // 10\n",
    "    ans = ans * 10 + lastDigit\n",
    "    \n",
    "print(\"Reverse = \", ans)"
   ]
  },
  {
   "cell_type": "code",
   "execution_count": null,
   "id": "4e227906",
   "metadata": {},
   "outputs": [],
   "source": []
  },
  {
   "cell_type": "code",
   "execution_count": null,
   "id": "2c26f43e",
   "metadata": {},
   "outputs": [],
   "source": [
    "# To solve for multiple testcases (as in your assignment)\n",
    "# Take first line input as test case input\n",
    "\n",
    "# Sample Input\n",
    "2\n",
    "101\n",
    "105\n"
   ]
  },
  {
   "cell_type": "code",
   "execution_count": null,
   "id": "c970240f",
   "metadata": {},
   "outputs": [],
   "source": [
    "t = int(input()) # no of testcases\n",
    "\n",
    "# Run a loop t times\n",
    "for _ in range(t):\n",
    "    # Inside this loop, do whatever problem solving you are required to do\n",
    "    # In this case, reverse of a number\n",
    "    \n",
    "    N = int(input())\n",
    "    ans = 0\n",
    "    while N > 0:\n",
    "        lastDigit = N % 10\n",
    "        N = N // 10\n",
    "        ans = ans * 10 + lastDigit\n",
    "\n",
    "    print(ans)"
   ]
  },
  {
   "cell_type": "code",
   "execution_count": null,
   "id": "c1df7864",
   "metadata": {},
   "outputs": [],
   "source": []
  },
  {
   "cell_type": "code",
   "execution_count": null,
   "id": "ddf97c5a",
   "metadata": {},
   "outputs": [],
   "source": [
    "# Use for-loops whenever you know the exact number of iterations"
   ]
  },
  {
   "cell_type": "code",
   "execution_count": null,
   "id": "3a9b5c93",
   "metadata": {},
   "outputs": [],
   "source": []
  },
  {
   "cell_type": "code",
   "execution_count": null,
   "id": "26c7be80",
   "metadata": {},
   "outputs": [],
   "source": [
    "for _ in range(t):\n",
    "    \n",
    "    \n",
    "#  start = 0\n",
    "#  end = t\n",
    "# [0, t-1]\n",
    "# t items in this range\n",
    "for i in range\n",
    "for j in range"
   ]
  },
  {
   "cell_type": "code",
   "execution_count": null,
   "id": "615f9835",
   "metadata": {},
   "outputs": [],
   "source": []
  },
  {
   "cell_type": "code",
   "execution_count": null,
   "id": "0cc591aa",
   "metadata": {},
   "outputs": [],
   "source": []
  },
  {
   "cell_type": "code",
   "execution_count": null,
   "id": "1d948ef2",
   "metadata": {},
   "outputs": [],
   "source": []
  },
  {
   "cell_type": "code",
   "execution_count": 6,
   "id": "c35971e7",
   "metadata": {},
   "outputs": [
    {
     "name": "stdout",
     "output_type": "stream",
     "text": [
      "Hello world\n"
     ]
    }
   ],
   "source": [
    "N = 50\n",
    "M = 20\n",
    "\n",
    "if N>=1 and N<=100 and M>=1 and M<=100:\n",
    "    print(\"Hello world\")"
   ]
  },
  {
   "cell_type": "code",
   "execution_count": 7,
   "id": "ec72a50d",
   "metadata": {},
   "outputs": [
    {
     "name": "stdout",
     "output_type": "stream",
     "text": [
      "Hello world\n"
     ]
    }
   ],
   "source": [
    "if 1 <= N <= 100 and 1 <= M <= 100:\n",
    "    print(\"Hello world\")"
   ]
  },
  {
   "cell_type": "code",
   "execution_count": null,
   "id": "9931f840",
   "metadata": {},
   "outputs": [],
   "source": []
  },
  {
   "cell_type": "code",
   "execution_count": 8,
   "id": "9ebefc76",
   "metadata": {},
   "outputs": [],
   "source": [
    "a = 10.2\n",
    "b = -5.7\n",
    "c = 0\n",
    "d = 0.0"
   ]
  },
  {
   "cell_type": "code",
   "execution_count": 9,
   "id": "53e0e604",
   "metadata": {},
   "outputs": [
    {
     "data": {
      "text/plain": [
       "True"
      ]
     },
     "execution_count": 9,
     "metadata": {},
     "output_type": "execute_result"
    }
   ],
   "source": [
    "bool(a)"
   ]
  },
  {
   "cell_type": "code",
   "execution_count": 10,
   "id": "57d45f78",
   "metadata": {},
   "outputs": [
    {
     "data": {
      "text/plain": [
       "True"
      ]
     },
     "execution_count": 10,
     "metadata": {},
     "output_type": "execute_result"
    }
   ],
   "source": [
    "bool(b)"
   ]
  },
  {
   "cell_type": "code",
   "execution_count": 11,
   "id": "48e7b8ee",
   "metadata": {},
   "outputs": [
    {
     "data": {
      "text/plain": [
       "4.199999999999999"
      ]
     },
     "execution_count": 11,
     "metadata": {},
     "output_type": "execute_result"
    }
   ],
   "source": [
    "1.2+1.4+1.6"
   ]
  },
  {
   "cell_type": "code",
   "execution_count": null,
   "id": "ae9bb453",
   "metadata": {},
   "outputs": [],
   "source": [
    "1.20000000000\n",
    "1.40000000000 => 1.39999999999\n",
    "1.60000000000"
   ]
  },
  {
   "cell_type": "code",
   "execution_count": null,
   "id": "9bd5529e",
   "metadata": {},
   "outputs": [],
   "source": []
  },
  {
   "cell_type": "code",
   "execution_count": null,
   "id": "cefc0358",
   "metadata": {},
   "outputs": [],
   "source": []
  },
  {
   "cell_type": "code",
   "execution_count": 12,
   "id": "a7300394",
   "metadata": {},
   "outputs": [
    {
     "data": {
      "text/plain": [
       "True"
      ]
     },
     "execution_count": 12,
     "metadata": {},
     "output_type": "execute_result"
    }
   ],
   "source": [
    "bool(10)"
   ]
  },
  {
   "cell_type": "code",
   "execution_count": 13,
   "id": "907ae7cd",
   "metadata": {},
   "outputs": [
    {
     "data": {
      "text/plain": [
       "True"
      ]
     },
     "execution_count": 13,
     "metadata": {},
     "output_type": "execute_result"
    }
   ],
   "source": [
    "bool(-6)"
   ]
  },
  {
   "cell_type": "code",
   "execution_count": 14,
   "id": "4afa3d9f",
   "metadata": {},
   "outputs": [
    {
     "data": {
      "text/plain": [
       "False"
      ]
     },
     "execution_count": 14,
     "metadata": {},
     "output_type": "execute_result"
    }
   ],
   "source": [
    "bool(0)"
   ]
  },
  {
   "cell_type": "code",
   "execution_count": 15,
   "id": "4007f68f",
   "metadata": {},
   "outputs": [
    {
     "data": {
      "text/plain": [
       "True"
      ]
     },
     "execution_count": 15,
     "metadata": {},
     "output_type": "execute_result"
    }
   ],
   "source": [
    "bool('nidhi')"
   ]
  },
  {
   "cell_type": "code",
   "execution_count": 16,
   "id": "02c17871",
   "metadata": {},
   "outputs": [
    {
     "data": {
      "text/plain": [
       "True"
      ]
     },
     "execution_count": 16,
     "metadata": {},
     "output_type": "execute_result"
    }
   ],
   "source": [
    "bool('sdfjhas;dkfj;iowejfioasn;oiahkzxcnviohfgiw')"
   ]
  },
  {
   "cell_type": "code",
   "execution_count": 17,
   "id": "5476dc51",
   "metadata": {},
   "outputs": [
    {
     "data": {
      "text/plain": [
       "False"
      ]
     },
     "execution_count": 17,
     "metadata": {},
     "output_type": "execute_result"
    }
   ],
   "source": [
    "bool('')"
   ]
  },
  {
   "cell_type": "code",
   "execution_count": 19,
   "id": "0042757a",
   "metadata": {},
   "outputs": [
    {
     "data": {
      "text/plain": [
       "True"
      ]
     },
     "execution_count": 19,
     "metadata": {},
     "output_type": "execute_result"
    }
   ],
   "source": [
    "bool('t')"
   ]
  },
  {
   "cell_type": "code",
   "execution_count": 23,
   "id": "6ab6ef82",
   "metadata": {},
   "outputs": [
    {
     "name": "stdout",
     "output_type": "stream",
     "text": [
      "hello\n"
     ]
    }
   ],
   "source": [
    "if 5 and 't':\n",
    "    print('hello')"
   ]
  },
  {
   "cell_type": "code",
   "execution_count": 24,
   "id": "2e7e401a",
   "metadata": {},
   "outputs": [
    {
     "name": "stdout",
     "output_type": "stream",
     "text": [
      "hello\n"
     ]
    }
   ],
   "source": [
    "print('hello' if 5 > 0 else 'world')"
   ]
  },
  {
   "cell_type": "code",
   "execution_count": 25,
   "id": "beabf6d3",
   "metadata": {},
   "outputs": [
    {
     "name": "stdout",
     "output_type": "stream",
     "text": [
      "hello\n"
     ]
    }
   ],
   "source": [
    "print('hello') if 5 > 0 else print('world')"
   ]
  },
  {
   "cell_type": "code",
   "execution_count": null,
   "id": "bd739b78",
   "metadata": {},
   "outputs": [],
   "source": [
    "# Ternary operator\n",
    "# if-else\n",
    "# no elifs"
   ]
  },
  {
   "cell_type": "code",
   "execution_count": 30,
   "id": "dc68109e",
   "metadata": {},
   "outputs": [],
   "source": [
    "a = 5\n",
    "b = 10"
   ]
  },
  {
   "cell_type": "code",
   "execution_count": 31,
   "id": "1c82c4de",
   "metadata": {},
   "outputs": [
    {
     "name": "stdout",
     "output_type": "stream",
     "text": [
      "world\n"
     ]
    }
   ],
   "source": [
    "print('hello') if a > b else print('world')"
   ]
  },
  {
   "cell_type": "code",
   "execution_count": null,
   "id": "15a938d3",
   "metadata": {},
   "outputs": [],
   "source": []
  },
  {
   "cell_type": "code",
   "execution_count": 32,
   "id": "45aca481",
   "metadata": {},
   "outputs": [
    {
     "name": "stdout",
     "output_type": "stream",
     "text": [
      "world\n"
     ]
    }
   ],
   "source": [
    "if a > b:\n",
    "    print('hello')\n",
    "else:\n",
    "    print('world')"
   ]
  },
  {
   "cell_type": "code",
   "execution_count": null,
   "id": "1fc3aaac",
   "metadata": {},
   "outputs": [],
   "source": []
  },
  {
   "cell_type": "code",
   "execution_count": null,
   "id": "3b571bfc",
   "metadata": {},
   "outputs": [],
   "source": []
  }
 ],
 "metadata": {
  "kernelspec": {
   "display_name": "Python 3 (ipykernel)",
   "language": "python",
   "name": "python3"
  },
  "language_info": {
   "codemirror_mode": {
    "name": "ipython",
    "version": 3
   },
   "file_extension": ".py",
   "mimetype": "text/x-python",
   "name": "python",
   "nbconvert_exporter": "python",
   "pygments_lexer": "ipython3",
   "version": "3.9.12"
  }
 },
 "nbformat": 4,
 "nbformat_minor": 5
}
