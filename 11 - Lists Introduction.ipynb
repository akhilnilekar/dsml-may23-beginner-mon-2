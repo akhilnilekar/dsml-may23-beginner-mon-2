{
  "nbformat": 4,
  "nbformat_minor": 0,
  "metadata": {
    "colab": {
      "provenance": []
    },
    "kernelspec": {
      "name": "python3",
      "display_name": "Python 3"
    },
    "language_info": {
      "name": "python"
    }
  },
  "cells": [
    {
      "cell_type": "code",
      "source": [
        "#student enters marks in different practice tests\n",
        "#return the average\n",
        "\n",
        "total_marks = 0\n",
        "count = 0\n",
        "\n",
        "while True:\n",
        "  print(\"enter marks in test(enter -ve to exit):\")\n",
        "  temp_inp = int(input())\n",
        "  if temp_inp < 0:\n",
        "    print(\"Exiting Loop!\")\n",
        "    break\n",
        "  else:\n",
        "    total_marks += temp_inp\n",
        "    count += 1\n",
        "\n",
        "print(\"Your average is: \", total_marks / count)\n"
      ],
      "metadata": {
        "colab": {
          "base_uri": "https://localhost:8080/"
        },
        "id": "RrIH7yg7YbkJ",
        "outputId": "a1e9b587-77e2-4896-a7d6-a8866762a359"
      },
      "execution_count": null,
      "outputs": [
        {
          "output_type": "stream",
          "name": "stdout",
          "text": [
            "enter marks in test(enter -ve to exit):\n",
            "56\n",
            "enter marks in test(enter -ve to exit):\n",
            "70\n",
            "enter marks in test(enter -ve to exit):\n",
            "68\n",
            "enter marks in test(enter -ve to exit):\n",
            "75\n",
            "enter marks in test(enter -ve to exit):\n",
            "65\n",
            "enter marks in test(enter -ve to exit):\n",
            "85\n",
            "enter marks in test(enter -ve to exit):\n",
            "-3\n",
            "Exiting Loop!\n",
            "Your average is:  69.83333333333333\n"
          ]
        }
      ]
    },
    {
      "cell_type": "markdown",
      "source": [
        "Why Lists?"
      ],
      "metadata": {
        "id": "ccpViYwJDqch"
      }
    },
    {
      "cell_type": "code",
      "execution_count": null,
      "metadata": {
        "id": "FGBPdBVP5Xzv"
      },
      "outputs": [],
      "source": [
        "\n",
        "\n"
      ]
    },
    {
      "cell_type": "markdown",
      "source": [
        "Defining a list"
      ],
      "metadata": {
        "id": "VS2vG8sS7rmz"
      }
    },
    {
      "cell_type": "code",
      "source": [
        "#How to define a list in Python\n",
        "\n",
        "a = [56,75,33,44,89]\n",
        "b = [10,567]\n",
        "c = [5,\"Aakash\",\"Green House\",98.5]\n",
        "\n",
        "type(c)"
      ],
      "metadata": {
        "colab": {
          "base_uri": "https://localhost:8080/"
        },
        "id": "BieDamclEna_",
        "outputId": "ca7bf530-9dcd-4240-cad9-4e0a39845653"
      },
      "execution_count": null,
      "outputs": [
        {
          "output_type": "execute_result",
          "data": {
            "text/plain": [
              "list"
            ]
          },
          "metadata": {},
          "execution_count": 8
        }
      ]
    },
    {
      "cell_type": "code",
      "source": [
        "d = [45,67,2,3,4,5,6,6,7,7,7,7,7,8,2,2,2,2,2,2,3,3,3,76]\n",
        "\n",
        "len(d)"
      ],
      "metadata": {
        "colab": {
          "base_uri": "https://localhost:8080/"
        },
        "id": "diEzXmkAbCYC",
        "outputId": "419a8a2c-7056-4834-c1d4-ab6e1ace8dd1"
      },
      "execution_count": null,
      "outputs": [
        {
          "output_type": "execute_result",
          "data": {
            "text/plain": [
              "24"
            ]
          },
          "metadata": {},
          "execution_count": 9
        }
      ]
    },
    {
      "cell_type": "code",
      "source": [
        "my_list = [1,2,3,4,\"HELLO\",[10,20,30]]\n",
        "\n",
        "type(my_list)"
      ],
      "metadata": {
        "colab": {
          "base_uri": "https://localhost:8080/"
        },
        "id": "FFNL_D2QbPYV",
        "outputId": "02eb6615-2fcc-4909-c4fc-cf64a2f457f1"
      },
      "execution_count": null,
      "outputs": [
        {
          "output_type": "execute_result",
          "data": {
            "text/plain": [
              "list"
            ]
          },
          "metadata": {},
          "execution_count": 10
        }
      ]
    },
    {
      "cell_type": "markdown",
      "source": [
        "#Accessing elements in a list"
      ],
      "metadata": {
        "id": "cpPlJHJPD2Yd"
      }
    },
    {
      "cell_type": "code",
      "source": [
        "#Using indexes (and noting how 'index' is different from 'position')\n",
        "\n",
        "a = [5,6,8,\"ONE\"]\n",
        "\n",
        "print(a)\n",
        "\n",
        "print(a[2])"
      ],
      "metadata": {
        "colab": {
          "base_uri": "https://localhost:8080/"
        },
        "id": "X8_gw0HJD4YA",
        "outputId": "a9b9f45f-2066-468b-d3dd-25569f8def62"
      },
      "execution_count": null,
      "outputs": [
        {
          "output_type": "stream",
          "name": "stdout",
          "text": [
            "[5, 6, 8, 'ONE']\n",
            "8\n"
          ]
        }
      ]
    },
    {
      "cell_type": "code",
      "source": [
        "#Quiz 2\n"
      ],
      "metadata": {
        "id": "eH33Xd5eEezJ"
      },
      "execution_count": null,
      "outputs": []
    },
    {
      "cell_type": "code",
      "source": [
        "marks_list = [56,75,43,89,95,77,78]\n",
        "\n",
        "#average marks in the last 3 tests for this student\n",
        "\n",
        "sum = marks_list[4] + marks_list[5] + marks_list[6]\n",
        "\n",
        "print(sum/3)"
      ],
      "metadata": {
        "colab": {
          "base_uri": "https://localhost:8080/"
        },
        "id": "jk9Pc-wOe2wU",
        "outputId": "5883c343-1271-4270-dab1-13af7c511857"
      },
      "execution_count": null,
      "outputs": [
        {
          "output_type": "stream",
          "name": "stdout",
          "text": [
            "83.33333333333333\n"
          ]
        }
      ]
    },
    {
      "cell_type": "code",
      "source": [
        "#Accessing ALL elements using a for loop\n",
        "marks_list = [56,75,43,89,95,77,78,100,98,76,56]\n",
        "\n",
        "for x in marks_list:\n",
        "  print(x)\n"
      ],
      "metadata": {
        "id": "ymvj21GdD17h"
      },
      "execution_count": null,
      "outputs": []
    },
    {
      "cell_type": "code",
      "source": [
        "#write code to find average marks\n",
        "\n",
        "marks_list = [56,75,43,89,95,77,78,100,98,76,56]\n",
        "\n",
        "sum = 0\n",
        "#count = 0\n",
        "for x in marks_list:\n",
        "  sum += x\n",
        "\n",
        "print(sum/len(marks_list))"
      ],
      "metadata": {
        "colab": {
          "base_uri": "https://localhost:8080/"
        },
        "id": "e5EEIgn-gcbV",
        "outputId": "a2052cc5-d15b-4afb-9000-f3417b6eb955"
      },
      "execution_count": null,
      "outputs": [
        {
          "output_type": "stream",
          "name": "stdout",
          "text": [
            "76.63636363636364\n"
          ]
        }
      ]
    },
    {
      "cell_type": "code",
      "source": [],
      "metadata": {
        "id": "HbXeDuzDhrGT"
      },
      "execution_count": null,
      "outputs": []
    },
    {
      "cell_type": "code",
      "source": [
        "#In-class exercise\n",
        "#print only the even numbers in a given integer list\n",
        "\n"
      ],
      "metadata": {
        "id": "WFTRPe2wE7K5"
      },
      "execution_count": null,
      "outputs": []
    },
    {
      "cell_type": "code",
      "source": [
        "#Accessing ALL elements using indexes and a for loop\n",
        "\n"
      ],
      "metadata": {
        "id": "390NLHqvEPHk"
      },
      "execution_count": null,
      "outputs": []
    },
    {
      "cell_type": "code",
      "source": [
        "#In-class exercise\n",
        "#given an integer list,\n",
        "#print only the numbers at even positions\n",
        "\n",
        "marks_list = [56,75,43,89,95,77,78]\n",
        "\n",
        "for i in range(1,len(marks_list),2):\n",
        "  print(marks_list[i])\n"
      ],
      "metadata": {
        "colab": {
          "base_uri": "https://localhost:8080/"
        },
        "id": "sW73uCizFNwk",
        "outputId": "5584caa3-47d4-44a0-f1f9-1f7244e787f4"
      },
      "execution_count": null,
      "outputs": [
        {
          "output_type": "stream",
          "name": "stdout",
          "text": [
            "75\n",
            "89\n",
            "77\n"
          ]
        }
      ]
    },
    {
      "cell_type": "code",
      "source": [
        "#Negative indexes\n",
        "\n"
      ],
      "metadata": {
        "id": "d3m9_S7YEhkm"
      },
      "execution_count": null,
      "outputs": []
    },
    {
      "cell_type": "code",
      "source": [
        "#Quiz 3\n",
        "\n"
      ],
      "metadata": {
        "id": "4SjmwdKjEjb_"
      },
      "execution_count": null,
      "outputs": []
    },
    {
      "cell_type": "markdown",
      "source": [
        "#Modifying existing elements of a list"
      ],
      "metadata": {
        "id": "aKsKy2f7IGE7"
      }
    },
    {
      "cell_type": "code",
      "source": [
        "#Change second element to zero\n",
        "\n",
        "a = [500,900,475,683]\n",
        "\n",
        "print(\"Original list:\", a)"
      ],
      "metadata": {
        "colab": {
          "base_uri": "https://localhost:8080/"
        },
        "id": "uqOK-6MdIJPD",
        "outputId": "954c1874-4a87-41fe-9757-8689beae41cf"
      },
      "execution_count": null,
      "outputs": [
        {
          "output_type": "stream",
          "name": "stdout",
          "text": [
            "Original list: [500, 900, 475, 683]\n"
          ]
        }
      ]
    },
    {
      "cell_type": "code",
      "source": [
        "#In-class exercise\n",
        "#given an integer list,\n",
        "#replace all the even VALUES with their \"squares\"\n",
        "\n",
        "b = [34,10,10,10,10,1]\n",
        "for i in range(len(b)):\n",
        "  if b[i] % 2 ==0:\n",
        "    b[i] = b[i]**2\n",
        "\n",
        "print(b)"
      ],
      "metadata": {
        "colab": {
          "base_uri": "https://localhost:8080/"
        },
        "id": "rUglZiauIVGe",
        "outputId": "04689b90-b0af-4369-b20e-e771bc3e8dfd"
      },
      "execution_count": null,
      "outputs": [
        {
          "output_type": "stream",
          "name": "stdout",
          "text": [
            "[1156, 100, 100, 100, 100, 1]\n"
          ]
        }
      ]
    },
    {
      "cell_type": "markdown",
      "source": [
        "#Dynamically growing a list"
      ],
      "metadata": {
        "id": "OwBoLwIVH4at"
      }
    },
    {
      "cell_type": "code",
      "source": [
        "#Adding an element at the end\n",
        "\n",
        "queue = []\n",
        "\n",
        "for num in range(1,10+1):\n",
        "  queue.append(num)"
      ],
      "metadata": {
        "colab": {
          "base_uri": "https://localhost:8080/"
        },
        "id": "F-TKyTrFIBQP",
        "outputId": "58975b9b-cb5e-4aea-fb02-60b7f35f7716"
      },
      "execution_count": null,
      "outputs": [
        {
          "output_type": "execute_result",
          "data": {
            "text/plain": [
              "list"
            ]
          },
          "metadata": {},
          "execution_count": 32
        }
      ]
    },
    {
      "cell_type": "code",
      "source": [
        "#Quiz 4\n",
        "\n"
      ],
      "metadata": {
        "id": "A5Dzh7X7IkHR"
      },
      "execution_count": null,
      "outputs": []
    },
    {
      "cell_type": "code",
      "source": [
        "#Quiz 5\n",
        "\n"
      ],
      "metadata": {
        "id": "eva2Biz3IqkF"
      },
      "execution_count": null,
      "outputs": []
    },
    {
      "cell_type": "code",
      "source": [
        "#Appending multiple elements to list\n",
        "\n"
      ],
      "metadata": {
        "id": "XyfA9PSzIryb"
      },
      "execution_count": null,
      "outputs": []
    },
    {
      "cell_type": "code",
      "source": [
        "#Extending a list with multiple elements\n",
        "\n",
        "list_a = [5, 4, 3]\n",
        "list_b = [2,1,0]\n",
        "\n",
        "list_a.extend(list_b)\n",
        "print(list_a)"
      ],
      "metadata": {
        "id": "dPcniyqBIwZN"
      },
      "execution_count": null,
      "outputs": []
    },
    {
      "cell_type": "code",
      "source": [
        "#Inserting an element at a given index\n",
        "\n",
        "a = [6, 4, 3, 1]\n",
        "\n",
        "x = 5\n",
        "index = 1\n",
        "\n",
        "a.insert(index,x)\n",
        "\n",
        "print(a[2])"
      ],
      "metadata": {
        "id": "f4aqYtDPJIcB"
      },
      "execution_count": null,
      "outputs": []
    },
    {
      "cell_type": "code",
      "source": [
        "#insert a new element into the left-most position of a list\n",
        "\n",
        "a = [45,67,23,4]\n",
        "text = \"FIRST COMMENT!!!!!!!!\"\n",
        "\n",
        "i = 0\n",
        "a.insert(i,text)\n",
        "\n",
        "a"
      ],
      "metadata": {
        "colab": {
          "base_uri": "https://localhost:8080/"
        },
        "id": "SzxvmqhfJRDn",
        "outputId": "6e6a7db4-4abe-46fd-bcee-1b1c54aaa0f2"
      },
      "execution_count": null,
      "outputs": [
        {
          "output_type": "execute_result",
          "data": {
            "text/plain": [
              "['FIRST COMMENT!!!!!!!!', 45, 67, 23, 4]"
            ]
          },
          "metadata": {},
          "execution_count": 33
        }
      ]
    },
    {
      "cell_type": "code",
      "source": [],
      "metadata": {
        "id": "m01ekYqFKaxS"
      },
      "execution_count": null,
      "outputs": []
    },
    {
      "cell_type": "markdown",
      "source": [
        "#Dynamically shriking a list"
      ],
      "metadata": {
        "id": "TPpvixm_Kb5s"
      }
    },
    {
      "cell_type": "code",
      "source": [
        "#Popping out the last element\n",
        "\n",
        "a = [1,2,3,4,5]\n",
        "\n",
        "\n",
        "x = a.pop()\n",
        "a\n"
      ],
      "metadata": {
        "colab": {
          "base_uri": "https://localhost:8080/"
        },
        "id": "CPn6p2jVKfhy",
        "outputId": "30827627-fd1b-4e28-f4d1-fc028bcc8662"
      },
      "execution_count": null,
      "outputs": [
        {
          "output_type": "execute_result",
          "data": {
            "text/plain": [
              "[1, 2, 3, 4]"
            ]
          },
          "metadata": {},
          "execution_count": 35
        }
      ]
    },
    {
      "cell_type": "code",
      "source": [
        "print(x)"
      ],
      "metadata": {
        "colab": {
          "base_uri": "https://localhost:8080/"
        },
        "id": "vmeEho_9vDxy",
        "outputId": "0a4bd1b8-d57c-44b9-b141-036a49dd4bbc"
      },
      "execution_count": null,
      "outputs": [
        {
          "output_type": "stream",
          "name": "stdout",
          "text": [
            "5\n"
          ]
        }
      ]
    },
    {
      "cell_type": "code",
      "source": [
        "#Popping an element, if you know the index\n",
        "\n",
        "a = [1,2,3,4,5]\n",
        "i = -2 #index of element which you want to pop out\n",
        "\n",
        "a.pop(i)\n",
        "a"
      ],
      "metadata": {
        "colab": {
          "base_uri": "https://localhost:8080/"
        },
        "id": "mN_ud302KirH",
        "outputId": "101cd08f-33b6-4d46-bb11-e4da100eb99c"
      },
      "execution_count": null,
      "outputs": [
        {
          "output_type": "execute_result",
          "data": {
            "text/plain": [
              "[1, 2, 3, 5]"
            ]
          },
          "metadata": {},
          "execution_count": 37
        }
      ]
    },
    {
      "cell_type": "code",
      "source": [
        "#remove first element\n",
        "\n",
        "a = [1,2,3,4,5]\n",
        "i = 0 #index of element which you want to pop out\n",
        "\n",
        "a.pop(i)\n",
        "a"
      ],
      "metadata": {
        "colab": {
          "base_uri": "https://localhost:8080/"
        },
        "id": "_dE8De63vjCH",
        "outputId": "7396cac8-a23f-4381-9f0a-bed7202c827a"
      },
      "execution_count": null,
      "outputs": [
        {
          "output_type": "execute_result",
          "data": {
            "text/plain": [
              "[2, 3, 4, 5]"
            ]
          },
          "metadata": {},
          "execution_count": 38
        }
      ]
    },
    {
      "cell_type": "code",
      "source": [
        "#Removing an element whose 'value' you know\n",
        "\n",
        "a.remove()\n"
      ],
      "metadata": {
        "id": "WWmXNLoEKrcw"
      },
      "execution_count": null,
      "outputs": []
    },
    {
      "cell_type": "markdown",
      "source": [
        "Extra quizzes"
      ],
      "metadata": {
        "id": "9ePoyi1vL3Rn"
      }
    },
    {
      "cell_type": "code",
      "source": [
        "#Quiz 6 onwards\n",
        "\n",
        "\n"
      ],
      "metadata": {
        "id": "FyD7cBraL92l"
      },
      "execution_count": null,
      "outputs": []
    },
    {
      "cell_type": "markdown",
      "source": [
        "#Copying a list"
      ],
      "metadata": {
        "id": "9vofLS8BKSZ3"
      }
    },
    {
      "cell_type": "code",
      "source": [],
      "metadata": {
        "id": "NCicHhlQKT9E"
      },
      "execution_count": null,
      "outputs": []
    },
    {
      "cell_type": "markdown",
      "source": [
        "#Quiz 1"
      ],
      "metadata": {
        "id": "xgxo9Jnd7rpI"
      }
    },
    {
      "cell_type": "code",
      "source": [
        "#How many elements does my_list have?\n",
        "\n",
        "my_list = [0]\n",
        "\n",
        "len(my_list)"
      ],
      "metadata": {
        "colab": {
          "base_uri": "https://localhost:8080/"
        },
        "id": "D5swcoIr7ulx",
        "outputId": "67198ff0-e1aa-42fa-e777-a04809255476"
      },
      "execution_count": null,
      "outputs": [
        {
          "output_type": "execute_result",
          "data": {
            "text/plain": [
              "1"
            ]
          },
          "metadata": {},
          "execution_count": 11
        }
      ]
    },
    {
      "cell_type": "code",
      "source": [
        "a = []\n",
        "\n",
        "len(a)"
      ],
      "metadata": {
        "colab": {
          "base_uri": "https://localhost:8080/"
        },
        "id": "Y1739x1xcGZ5",
        "outputId": "81f4623c-f896-48e6-a4e0-e561dd42365a"
      },
      "execution_count": null,
      "outputs": [
        {
          "output_type": "execute_result",
          "data": {
            "text/plain": [
              "0"
            ]
          },
          "metadata": {},
          "execution_count": 14
        }
      ]
    },
    {
      "cell_type": "markdown",
      "source": [
        "#Quiz 2"
      ],
      "metadata": {
        "id": "Qe6G-m2JBEI-"
      }
    },
    {
      "cell_type": "code",
      "source": [
        "#what is the output of this?\n",
        "\n",
        "my_list = [1,2,\"Three\"]\n",
        "print(my_list[2])"
      ],
      "metadata": {
        "colab": {
          "base_uri": "https://localhost:8080/"
        },
        "id": "vXR8gTsCBFYk",
        "outputId": "f464ed85-d6d5-45f4-9cd2-0eeeee5a2c06"
      },
      "execution_count": null,
      "outputs": [
        {
          "output_type": "stream",
          "name": "stdout",
          "text": [
            "Three\n"
          ]
        }
      ]
    },
    {
      "cell_type": "markdown",
      "source": [
        "#Quiz 3"
      ],
      "metadata": {
        "id": "S8JPvrNrDDUa"
      }
    },
    {
      "cell_type": "code",
      "source": [
        "#Output of\n",
        "\n",
        "my_list = [1, 2, 3, 4, 5]\n",
        "i = -1\n",
        "while i >= -5:\n",
        "    print(my_list[i], end = \" \")\n",
        "    i -= 1"
      ],
      "metadata": {
        "id": "9V4gWCNMDEBS"
      },
      "execution_count": null,
      "outputs": []
    },
    {
      "cell_type": "markdown",
      "source": [
        "#Quiz 4"
      ],
      "metadata": {
        "id": "EE3SmfGBFcYr"
      }
    },
    {
      "cell_type": "code",
      "source": [
        "#What is the output of the following code?\n",
        "\n",
        "my_list = [5, 4, 3, 2, 1]\n",
        "my_list.append(6)\n",
        "print(my_list)"
      ],
      "metadata": {
        "id": "w0NrGSY2FdE1"
      },
      "execution_count": null,
      "outputs": []
    },
    {
      "cell_type": "markdown",
      "source": [
        "#Quiz 5"
      ],
      "metadata": {
        "id": "OFU5Cex-GDS6"
      }
    },
    {
      "cell_type": "code",
      "source": [
        "#What is the output:\n",
        "\n",
        "list_a = [5, 4, 3]\n",
        "list_b = [2,1,0]\n",
        "\n",
        "list_a.append(list_b)\n",
        "print(list_a)"
      ],
      "metadata": {
        "colab": {
          "base_uri": "https://localhost:8080/"
        },
        "id": "G-g0Kmd5GESZ",
        "outputId": "50dc022f-1d6c-4dde-8ec0-b75b3996bee6"
      },
      "execution_count": null,
      "outputs": [
        {
          "output_type": "stream",
          "name": "stdout",
          "text": [
            "[5, 4, 3, [2, 1, 0]]\n"
          ]
        }
      ]
    }
  ]
}