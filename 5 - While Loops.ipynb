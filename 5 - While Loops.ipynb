{
 "cells": [
  {
   "cell_type": "code",
   "execution_count": 1,
   "id": "9dc65188",
   "metadata": {},
   "outputs": [],
   "source": [
    "# Print all integers from 0 to 5 (both included)"
   ]
  },
  {
   "cell_type": "code",
   "execution_count": 3,
   "id": "b4ea8920",
   "metadata": {},
   "outputs": [
    {
     "name": "stdout",
     "output_type": "stream",
     "text": [
      "0 1 2 3 4 5 "
     ]
    }
   ],
   "source": [
    "number = 0\n",
    "\n",
    "while number <= 5:\n",
    "    print(number, end = \" \")\n",
    "    number += 1"
   ]
  },
  {
   "cell_type": "code",
   "execution_count": 5,
   "id": "ba5d4a97",
   "metadata": {},
   "outputs": [
    {
     "name": "stdout",
     "output_type": "stream",
     "text": [
      "-5 -4 -3 -2 -1 0 1 2 3 4 5 "
     ]
    }
   ],
   "source": [
    "number = -5\n",
    "\n",
    "while number <= 5:\n",
    "    print(number, end = \" \")\n",
    "    number += 1"
   ]
  },
  {
   "cell_type": "code",
   "execution_count": 8,
   "id": "2d04a209",
   "metadata": {},
   "outputs": [
    {
     "data": {
      "text/plain": [
       "'\\nQuestion 1 - \\nTake an integer input from the user and \\nprint alternate numbers from from 1 to input.\\nInput will be a positive number > 1.\\n\\nINPUT - 7\\nOUTPUT - 1 3 5 7\\n'"
      ]
     },
     "execution_count": 8,
     "metadata": {},
     "output_type": "execute_result"
    }
   ],
   "source": [
    "'''\n",
    "Question 1 - \n",
    "Take an integer input from the user and \n",
    "print alternate numbers from from 1 to input.\n",
    "Input will be a positive number > 1.\n",
    "\n",
    "INPUT - 7\n",
    "OUTPUT - 1 3 5 7\n",
    "'''"
   ]
  },
  {
   "cell_type": "code",
   "execution_count": 7,
   "id": "e1cf5b3a",
   "metadata": {},
   "outputs": [
    {
     "name": "stdout",
     "output_type": "stream",
     "text": [
      "Please enter a number - 10\n",
      "1 3 5 7 9 "
     ]
    }
   ],
   "source": [
    "number = int(input(\"Please enter a number - \"))\n",
    "\n",
    "i = 1\n",
    "\n",
    "while i <= number:\n",
    "    print(i, end = \" \")\n",
    "    i += 2"
   ]
  },
  {
   "cell_type": "code",
   "execution_count": 9,
   "id": "4584ce23",
   "metadata": {},
   "outputs": [
    {
     "data": {
      "text/plain": [
       "'\\nQuestion 1.1 - \\nTake an input from the user and \\nprint alternate numbers from from 1 to input.\\nIf number is > 1 -> Print as required.\\nElse print \"Number is smaller than 1!\"\\n\\nINPUT - 7\\nOUTPUT - 1 3 5 7\\n\\nINPUT - -5\\nOUTPUT - Number is smaller than 1!\\n'"
      ]
     },
     "execution_count": 9,
     "metadata": {},
     "output_type": "execute_result"
    }
   ],
   "source": [
    "'''\n",
    "Question 1.1 - \n",
    "Take an input from the user and \n",
    "print alternate numbers from from 1 to input.\n",
    "If number is > 1 -> Print as required.\n",
    "Else print \"Number is smaller than 1!\"\n",
    "\n",
    "INPUT - 7\n",
    "OUTPUT - 1 3 5 7\n",
    "\n",
    "INPUT - -5\n",
    "OUTPUT - Number is smaller than 1!\n",
    "'''"
   ]
  },
  {
   "cell_type": "code",
   "execution_count": 14,
   "id": "2b6c8e30",
   "metadata": {},
   "outputs": [
    {
     "name": "stdout",
     "output_type": "stream",
     "text": [
      "Please enter a number - -5\n",
      "Number is smaller than 1!\n"
     ]
    }
   ],
   "source": [
    "number = int(input(\"Please enter a number - \"))\n",
    "\n",
    "if number >= 1:\n",
    "    i = 1\n",
    "\n",
    "    while i <= number:\n",
    "        print(i, end = \" \")\n",
    "        i += 2\n",
    "else:\n",
    "    print(\"Number is smaller than 1!\")"
   ]
  },
  {
   "cell_type": "code",
   "execution_count": 16,
   "id": "b516259c",
   "metadata": {},
   "outputs": [
    {
     "data": {
      "text/plain": [
       "'\\nQuestion 2 - \\nTake two integer inputs from user for start and end integer values.\\nPrint every third number starting at start till end. \\n(BOTH START AND END TO BE INCLUDED.)\\n\\nINPUT - \\nstart = 1\\nend = 10 \\n\\nOUTPUT - \\n1 4 7 10\\n'"
      ]
     },
     "execution_count": 16,
     "metadata": {},
     "output_type": "execute_result"
    }
   ],
   "source": [
    "'''\n",
    "Question 2 - \n",
    "Take two integer inputs from user for start and end integer values.\n",
    "Print every third number starting at start till end. \n",
    "(BOTH START AND END TO BE INCLUDED.)\n",
    "\n",
    "INPUT - \n",
    "start = 1\n",
    "end = 10 \n",
    "\n",
    "OUTPUT - \n",
    "1 4 7 10\n",
    "'''"
   ]
  },
  {
   "cell_type": "code",
   "execution_count": 17,
   "id": "e7a2d716",
   "metadata": {},
   "outputs": [
    {
     "name": "stdout",
     "output_type": "stream",
     "text": [
      "Starting Value - 2\n",
      "Ending Value - 20\n",
      "2 5 8 11 14 17 20 "
     ]
    }
   ],
   "source": [
    "start = int(input(\"Starting Value - \"))\n",
    "end = int(input(\"Ending Value - \"))\n",
    "\n",
    "while start <= end:\n",
    "    print(start, end = \" \")\n",
    "    start += 3"
   ]
  },
  {
   "cell_type": "code",
   "execution_count": 20,
   "id": "8e2e357d",
   "metadata": {},
   "outputs": [
    {
     "name": "stdout",
     "output_type": "stream",
     "text": [
      "Starting Value - 2\n",
      "Ending Value - 10\n",
      "2 5 8 "
     ]
    }
   ],
   "source": [
    "start = int(input(\"Starting Value - \"))\n",
    "end = int(input(\"Ending Value - \"))\n",
    "\n",
    "if start <= end:\n",
    "    while start <= end:\n",
    "        print(start, end = \" \")\n",
    "        start += 3\n",
    "else:\n",
    "    print(\"Start can't be greater than end!\")"
   ]
  },
  {
   "cell_type": "code",
   "execution_count": 21,
   "id": "f08f47ee",
   "metadata": {},
   "outputs": [
    {
     "data": {
      "text/plain": [
       "'\\nQuestion 3 - \\nTake an input from user for start and end values.\\nPrint all even numbers between them. (start and end included)\\n\\nINPUT - \\nstart = 3\\nend = 7\\n\\nOUTPUT - 4 6\\n'"
      ]
     },
     "execution_count": 21,
     "metadata": {},
     "output_type": "execute_result"
    }
   ],
   "source": [
    "'''\n",
    "Question 3 - \n",
    "Take an input from user for start and end values.\n",
    "Print all even numbers between them. (start and end included)\n",
    "\n",
    "INPUT - \n",
    "start = 3\n",
    "end = 7\n",
    "\n",
    "OUTPUT - 4 6\n",
    "'''"
   ]
  },
  {
   "cell_type": "code",
   "execution_count": 22,
   "id": "1ee1c764",
   "metadata": {},
   "outputs": [
    {
     "name": "stdout",
     "output_type": "stream",
     "text": [
      "Starting value - 5\n",
      "Ending value - 20\n",
      "6 8 10 12 14 16 18 20 "
     ]
    }
   ],
   "source": [
    "start = int(input(\"Starting value - \"))\n",
    "end = int(input(\"Ending value - \"))\n",
    "\n",
    "while start <= end:\n",
    "    if start % 2 == 0:\n",
    "        print(start, end = \" \")\n",
    "    \n",
    "    start += 1"
   ]
  },
  {
   "cell_type": "code",
   "execution_count": 23,
   "id": "7cb97383",
   "metadata": {},
   "outputs": [
    {
     "name": "stdout",
     "output_type": "stream",
     "text": [
      "Starting value - 5\n",
      "Ending value - 20\n",
      "6 8 10 12 14 16 18 20 \n",
      "This loop was run 16 times!\n"
     ]
    }
   ],
   "source": [
    "start = int(input(\"Starting value - \"))\n",
    "end = int(input(\"Ending value - \"))\n",
    "\n",
    "loop_count = 0\n",
    "\n",
    "while start <= end:\n",
    "    loop_count += 1\n",
    "    \n",
    "    if start % 2 == 0:\n",
    "        print(start, end = \" \")\n",
    "    \n",
    "    start += 1\n",
    "    \n",
    "print(\"\\nThis loop was run\", loop_count, \"times!\")"
   ]
  },
  {
   "cell_type": "code",
   "execution_count": 24,
   "id": "6a786327",
   "metadata": {},
   "outputs": [
    {
     "name": "stdout",
     "output_type": "stream",
     "text": [
      "Starting value - 5\n",
      "Ending value - 20\n",
      "6 8 10 12 14 16 18 20 "
     ]
    }
   ],
   "source": [
    "start = int(input(\"Starting value - \"))\n",
    "end = int(input(\"Ending value - \"))\n",
    "\n",
    "if start % 2 != 0:\n",
    "    start += 1\n",
    "\n",
    "while start <= end:\n",
    "    print(start, end = \" \")\n",
    "    \n",
    "    start += 2"
   ]
  },
  {
   "cell_type": "code",
   "execution_count": 25,
   "id": "65e1a783",
   "metadata": {},
   "outputs": [
    {
     "name": "stdout",
     "output_type": "stream",
     "text": [
      "Starting value - 5\n",
      "Ending value - 20\n",
      "6 8 10 12 14 16 18 20 \n",
      "This loop was run 8 times!\n"
     ]
    }
   ],
   "source": [
    "start = int(input(\"Starting value - \"))\n",
    "end = int(input(\"Ending value - \"))\n",
    "\n",
    "if start % 2 != 0:\n",
    "    start += 1\n",
    "\n",
    "loop_count = 0\n",
    "\n",
    "while start <= end:\n",
    "    loop_count += 1\n",
    "    \n",
    "    print(start, end = \" \")\n",
    "    \n",
    "    start += 2\n",
    "    \n",
    "print(\"\\nThis loop was run\", loop_count, \"times!\")"
   ]
  },
  {
   "cell_type": "code",
   "execution_count": 26,
   "id": "be177ada",
   "metadata": {},
   "outputs": [
    {
     "data": {
      "text/plain": [
       "'\\nQuestion 4 -\\nTake a number input from user.\\nPrint its multiplication table till 10th multiple.\\n\\nINPUT - 7\\nOUTPUT - 7 14 21 28 35 42 49 56 63 70\\n'"
      ]
     },
     "execution_count": 26,
     "metadata": {},
     "output_type": "execute_result"
    }
   ],
   "source": [
    "'''\n",
    "Question 4 -\n",
    "Take a number input from user.\n",
    "Print its multiplication table till 10th multiple.\n",
    "\n",
    "INPUT - 7\n",
    "OUTPUT - 7 14 21 28 35 42 49 56 63 70\n",
    "'''"
   ]
  },
  {
   "cell_type": "code",
   "execution_count": 27,
   "id": "f5192bd6",
   "metadata": {},
   "outputs": [
    {
     "name": "stdout",
     "output_type": "stream",
     "text": [
      "9\n",
      "9 18 27 36 45 54 63 72 81 90 "
     ]
    }
   ],
   "source": [
    "number = int(input())\n",
    "\n",
    "i = 1\n",
    "\n",
    "while i <= 10:\n",
    "    print(number * i, end = \" \")\n",
    "    i += 1"
   ]
  },
  {
   "cell_type": "code",
   "execution_count": 28,
   "id": "601e4b79",
   "metadata": {},
   "outputs": [
    {
     "data": {
      "text/plain": [
       "'\\nQuestion 5 - \\n1. Take an integer input from user. \\nThis is the number of test cases. (count)\\n2. Take int input for each test case from the user.\\n3. Print multiplication table of that integer.\\n\\n\\nINPUT - 3\\n\\nOUTPUT - \\nPlease input number 1 - 2\\nMultiplication table - 2 4 6 8 10 12 14 16 18 20\\n\\nPlese input number 2 - 1\\nMultiplication table - 1 2 3 4 5 6 7 8 9 10\\n\\nPlease input number 3 - 5\\nMultiplication table - 5 10 15 20 25 30 35 40 45 50\\n'"
      ]
     },
     "execution_count": 28,
     "metadata": {},
     "output_type": "execute_result"
    }
   ],
   "source": [
    "'''\n",
    "Question 5 - \n",
    "1. Take an integer input from user. \n",
    "This is the number of test cases. (count)\n",
    "2. Take int input for each test case from the user.\n",
    "3. Print multiplication table of that integer.\n",
    "\n",
    "\n",
    "INPUT - 3\n",
    "\n",
    "OUTPUT - \n",
    "Please input number 1 - 2\n",
    "Multiplication table - 2 4 6 8 10 12 14 16 18 20\n",
    "\n",
    "Plese input number 2 - 1\n",
    "Multiplication table - 1 2 3 4 5 6 7 8 9 10\n",
    "\n",
    "Please input number 3 - 5\n",
    "Multiplication table - 5 10 15 20 25 30 35 40 45 50\n",
    "'''"
   ]
  },
  {
   "cell_type": "code",
   "execution_count": 30,
   "id": "f06091d4",
   "metadata": {},
   "outputs": [
    {
     "name": "stdout",
     "output_type": "stream",
     "text": [
      "Enter the number of test cases - 2\n",
      "Please input number - 9\n",
      "9 18 27 36 45 54 63 72 81 90 \n",
      "Please input number - 5\n",
      "5 10 15 20 25 30 35 40 45 50 \n"
     ]
    }
   ],
   "source": [
    "test_cases = int(input(\"Enter the number of test cases - \"))\n",
    "\n",
    "t = 1\n",
    "\n",
    "while t <= test_cases:\n",
    "    # CODE FOR MULTIPLICATION TABLE\n",
    "    number = int(input(\"Please input number - \"))\n",
    "\n",
    "    i = 1\n",
    "\n",
    "    while i <= 10:\n",
    "        print(number * i, end = \" \")\n",
    "        i += 1\n",
    "    # ENDS HERE\n",
    "    \n",
    "    print()\n",
    "    t += 1\n",
    "    \n"
   ]
  },
  {
   "cell_type": "code",
   "execution_count": null,
   "id": "9109fc76",
   "metadata": {},
   "outputs": [],
   "source": []
  }
 ],
 "metadata": {
  "kernelspec": {
   "display_name": "Python 3 (ipykernel)",
   "language": "python",
   "name": "python3"
  },
  "language_info": {
   "codemirror_mode": {
    "name": "ipython",
    "version": 3
   },
   "file_extension": ".py",
   "mimetype": "text/x-python",
   "name": "python",
   "nbconvert_exporter": "python",
   "pygments_lexer": "ipython3",
   "version": "3.9.5"
  }
 },
 "nbformat": 4,
 "nbformat_minor": 5
}
