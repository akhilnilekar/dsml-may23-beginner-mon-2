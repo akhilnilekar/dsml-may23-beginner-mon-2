{
 "cells": [
  {
   "cell_type": "code",
   "execution_count": 1,
   "id": "a88f7530",
   "metadata": {},
   "outputs": [],
   "source": [
    "a = \"double quotes\""
   ]
  },
  {
   "cell_type": "code",
   "execution_count": 2,
   "id": "25058b9d",
   "metadata": {},
   "outputs": [],
   "source": [
    "b = 'single quotes'"
   ]
  },
  {
   "cell_type": "code",
   "execution_count": 3,
   "id": "894113c2",
   "metadata": {},
   "outputs": [],
   "source": [
    "c = '''triple quotes -> DOCSTRING'''"
   ]
  },
  {
   "cell_type": "code",
   "execution_count": 4,
   "id": "8c1b9478",
   "metadata": {},
   "outputs": [],
   "source": [
    "d = \"\"\"triple double quotes -> DOCSTRING\"\"\""
   ]
  },
  {
   "cell_type": "code",
   "execution_count": 8,
   "id": "f41ef362",
   "metadata": {},
   "outputs": [
    {
     "data": {
      "text/plain": [
       "str"
      ]
     },
     "execution_count": 8,
     "metadata": {},
     "output_type": "execute_result"
    }
   ],
   "source": [
    "type(d)"
   ]
  },
  {
   "cell_type": "code",
   "execution_count": 9,
   "id": "1cfeeadf",
   "metadata": {},
   "outputs": [],
   "source": [
    "string = \"fgcshjfbaejhhjab AFAHVDHSBWJS @#$%^&*(*&^%$#@ 23456789865432)\""
   ]
  },
  {
   "cell_type": "code",
   "execution_count": 10,
   "id": "69a2861d",
   "metadata": {},
   "outputs": [
    {
     "data": {
      "text/plain": [
       "'fgcshjfbaejhhjab AFAHVDHSBWJS @#$%^&*(*&^%$#@ 23456789865432)'"
      ]
     },
     "execution_count": 10,
     "metadata": {},
     "output_type": "execute_result"
    }
   ],
   "source": [
    "string"
   ]
  },
  {
   "cell_type": "code",
   "execution_count": 11,
   "id": "7f39ac90",
   "metadata": {},
   "outputs": [
    {
     "ename": "SyntaxError",
     "evalue": "EOL while scanning string literal (374261817.py, line 1)",
     "output_type": "error",
     "traceback": [
      "\u001b[0;36m  Cell \u001b[0;32mIn[11], line 1\u001b[0;36m\u001b[0m\n\u001b[0;31m    random = \"mixed quotations do not work!'\u001b[0m\n\u001b[0m                                            ^\u001b[0m\n\u001b[0;31mSyntaxError\u001b[0m\u001b[0;31m:\u001b[0m EOL while scanning string literal\n"
     ]
    }
   ],
   "source": [
    "random = \"mixed quotations do not work!'"
   ]
  },
  {
   "cell_type": "code",
   "execution_count": 12,
   "id": "8b6754dd",
   "metadata": {},
   "outputs": [
    {
     "ename": "SyntaxError",
     "evalue": "invalid syntax (1718815046.py, line 3)",
     "output_type": "error",
     "traceback": [
      "\u001b[0;36m  Cell \u001b[0;32mIn[12], line 3\u001b[0;36m\u001b[0m\n\u001b[0;31m    a = \"something \"random\" which is highlighted!\"\u001b[0m\n\u001b[0m                    ^\u001b[0m\n\u001b[0;31mSyntaxError\u001b[0m\u001b[0;31m:\u001b[0m invalid syntax\n"
     ]
    }
   ],
   "source": [
    "# What if the string itself contains quotes!\n",
    "\n",
    "a = \"something \"random\" which is highlighted!\""
   ]
  },
  {
   "cell_type": "code",
   "execution_count": 13,
   "id": "09ca8f79",
   "metadata": {},
   "outputs": [],
   "source": [
    "a = 'something \"random\" which is highlighted!'"
   ]
  },
  {
   "cell_type": "code",
   "execution_count": 14,
   "id": "cd5fa4e6",
   "metadata": {},
   "outputs": [],
   "source": [
    "a = '''something \"random\" which is highlighted!'''"
   ]
  },
  {
   "cell_type": "code",
   "execution_count": 15,
   "id": "17cb2e4f",
   "metadata": {},
   "outputs": [],
   "source": [
    "a = \"something 'random' which is highlighted!\""
   ]
  },
  {
   "cell_type": "code",
   "execution_count": 16,
   "id": "a0abcfc4",
   "metadata": {},
   "outputs": [],
   "source": [
    "# IF YOU WANT TO USE SOME FORM OF QUOTATION INSIDE THE STRING\n",
    "# DO NOT USE THE SAME TO CREATE IT!"
   ]
  },
  {
   "cell_type": "code",
   "execution_count": 17,
   "id": "9fcb4c34",
   "metadata": {},
   "outputs": [],
   "source": [
    "# ESCAPE CHARACTERS!"
   ]
  },
  {
   "cell_type": "code",
   "execution_count": 18,
   "id": "1d28f92b",
   "metadata": {},
   "outputs": [
    {
     "ename": "SyntaxError",
     "evalue": "invalid syntax (862366027.py, line 1)",
     "output_type": "error",
     "traceback": [
      "\u001b[0;36m  Cell \u001b[0;32mIn[18], line 1\u001b[0;36m\u001b[0m\n\u001b[0;31m    a = 'can't'\u001b[0m\n\u001b[0m             ^\u001b[0m\n\u001b[0;31mSyntaxError\u001b[0m\u001b[0;31m:\u001b[0m invalid syntax\n"
     ]
    }
   ],
   "source": [
    "a = 'can't'"
   ]
  },
  {
   "cell_type": "code",
   "execution_count": 19,
   "id": "283575d2",
   "metadata": {},
   "outputs": [],
   "source": [
    "a = 'can\\'t' # \\' is an escape character for single quote"
   ]
  },
  {
   "cell_type": "code",
   "execution_count": 20,
   "id": "ce4d6e5e",
   "metadata": {},
   "outputs": [
    {
     "data": {
      "text/plain": [
       "\"can't\""
      ]
     },
     "execution_count": 20,
     "metadata": {},
     "output_type": "execute_result"
    }
   ],
   "source": [
    "a"
   ]
  },
  {
   "cell_type": "code",
   "execution_count": 22,
   "id": "7ed745b5",
   "metadata": {},
   "outputs": [
    {
     "data": {
      "text/plain": [
       "'\\nWorking with quotations ->\\n1. Single quotes outside -> Double allowed inside\\n2. Double quotes outside -> Single allowed inside\\n3. Triple quotes outside -> Both double and single allowed inside\\n4. USE ESCAPE CHARACTERS!\\n'"
      ]
     },
     "execution_count": 22,
     "metadata": {},
     "output_type": "execute_result"
    }
   ],
   "source": [
    "'''\n",
    "Working with quotations ->\n",
    "1. Single quotes outside -> Double allowed inside\n",
    "2. Double quotes outside -> Single allowed inside\n",
    "3. Triple quotes outside -> Both double and single allowed inside\n",
    "4. USE ESCAPE CHARACTERS!\n",
    "'''"
   ]
  },
  {
   "cell_type": "code",
   "execution_count": 24,
   "id": "0af42cb9",
   "metadata": {},
   "outputs": [
    {
     "data": {
      "text/plain": [
       "True"
      ]
     },
     "execution_count": 24,
     "metadata": {},
     "output_type": "execute_result"
    }
   ],
   "source": [
    "\"zebra\" > \"aaavhfhsdjfhszbczcgajhgdhjsavcbzvchfah\"\n",
    "# LEXICOGRAPHICAL -> Order in a dictionary"
   ]
  },
  {
   "cell_type": "code",
   "execution_count": 25,
   "id": "c8dcff04",
   "metadata": {},
   "outputs": [
    {
     "data": {
      "text/plain": [
       "False"
      ]
     },
     "execution_count": 25,
     "metadata": {},
     "output_type": "execute_result"
    }
   ],
   "source": [
    "\"abb\" > \"abg\""
   ]
  },
  {
   "cell_type": "code",
   "execution_count": 27,
   "id": "6211288a",
   "metadata": {},
   "outputs": [
    {
     "data": {
      "text/plain": [
       "False"
      ]
     },
     "execution_count": 27,
     "metadata": {},
     "output_type": "execute_result"
    }
   ],
   "source": [
    "\"a\" == \"A\""
   ]
  },
  {
   "cell_type": "code",
   "execution_count": 29,
   "id": "368222db",
   "metadata": {},
   "outputs": [
    {
     "data": {
      "text/plain": [
       "True"
      ]
     },
     "execution_count": 29,
     "metadata": {},
     "output_type": "execute_result"
    }
   ],
   "source": [
    "\"a\" > \"A\" # ASCII value of \"a\" is greater than that of \"A\""
   ]
  },
  {
   "cell_type": "code",
   "execution_count": 30,
   "id": "a5100be1",
   "metadata": {},
   "outputs": [
    {
     "data": {
      "text/plain": [
       "'randomrandom1'"
      ]
     },
     "execution_count": 30,
     "metadata": {},
     "output_type": "execute_result"
    }
   ],
   "source": [
    "\"random\" + \"random1\""
   ]
  },
  {
   "cell_type": "code",
   "execution_count": 31,
   "id": "c6793b95",
   "metadata": {},
   "outputs": [
    {
     "data": {
      "text/plain": [
       "'randomrandomrandomrandomrandomrandom'"
      ]
     },
     "execution_count": 31,
     "metadata": {},
     "output_type": "execute_result"
    }
   ],
   "source": [
    "\"random\" * 2 * 3"
   ]
  },
  {
   "cell_type": "code",
   "execution_count": 33,
   "id": "bd666a43",
   "metadata": {},
   "outputs": [
    {
     "data": {
      "text/plain": [
       "97"
      ]
     },
     "execution_count": 33,
     "metadata": {},
     "output_type": "execute_result"
    }
   ],
   "source": [
    "ord(\"a\") # get the ASCII value of a character"
   ]
  },
  {
   "cell_type": "code",
   "execution_count": 34,
   "id": "3dfb16a8",
   "metadata": {},
   "outputs": [
    {
     "data": {
      "text/plain": [
       "65"
      ]
     },
     "execution_count": 34,
     "metadata": {},
     "output_type": "execute_result"
    }
   ],
   "source": [
    "ord(\"A\")"
   ]
  },
  {
   "cell_type": "code",
   "execution_count": 36,
   "id": "c64cdf33",
   "metadata": {},
   "outputs": [
    {
     "data": {
      "text/plain": [
       "48"
      ]
     },
     "execution_count": 36,
     "metadata": {},
     "output_type": "execute_result"
    }
   ],
   "source": [
    "ord(\"0\")"
   ]
  },
  {
   "cell_type": "code",
   "execution_count": 38,
   "id": "4a9888fa",
   "metadata": {},
   "outputs": [
    {
     "data": {
      "text/plain": [
       "'a'"
      ]
     },
     "execution_count": 38,
     "metadata": {},
     "output_type": "execute_result"
    }
   ],
   "source": [
    "chr(97) # Convert number to corresponding character"
   ]
  },
  {
   "cell_type": "code",
   "execution_count": 39,
   "id": "bc82f004",
   "metadata": {},
   "outputs": [
    {
     "data": {
      "text/plain": [
       "'B'"
      ]
     },
     "execution_count": 39,
     "metadata": {},
     "output_type": "execute_result"
    }
   ],
   "source": [
    "chr(66)"
   ]
  },
  {
   "cell_type": "code",
   "execution_count": 40,
   "id": "9acbc01f",
   "metadata": {},
   "outputs": [],
   "source": [
    "def calc_area(l, b):\n",
    "    a = l * b\n",
    "    print(\"Length =\", l, \", Breath =\", b, \", Area =\", a)"
   ]
  },
  {
   "cell_type": "code",
   "execution_count": 41,
   "id": "cefccaec",
   "metadata": {},
   "outputs": [
    {
     "name": "stdout",
     "output_type": "stream",
     "text": [
      "Length = 10 , Breath = 5 , Area = 50\n"
     ]
    }
   ],
   "source": [
    "calc_area(10, 5)"
   ]
  },
  {
   "cell_type": "code",
   "execution_count": 42,
   "id": "ea337f9a",
   "metadata": {},
   "outputs": [],
   "source": [
    "def calc_area(l, b):\n",
    "    a = l * b\n",
    "    print(\"Length = {} , Breadth = {} , Area = {}\".format(l, b, a))"
   ]
  },
  {
   "cell_type": "code",
   "execution_count": 44,
   "id": "d06d37b3",
   "metadata": {},
   "outputs": [
    {
     "name": "stdout",
     "output_type": "stream",
     "text": [
      "Length = 10 , Breadth = 5 , Area = 50\n"
     ]
    }
   ],
   "source": [
    "calc_area(10, 5)"
   ]
  },
  {
   "cell_type": "code",
   "execution_count": 45,
   "id": "80f6692d",
   "metadata": {},
   "outputs": [],
   "source": [
    "def calc_area(l, b):\n",
    "    a = l * b\n",
    "    print(\"Length = {2} , Breadth = {0} , Area = {1}\".format(b, a, l))"
   ]
  },
  {
   "cell_type": "code",
   "execution_count": 46,
   "id": "acce2c12",
   "metadata": {},
   "outputs": [
    {
     "name": "stdout",
     "output_type": "stream",
     "text": [
      "Length = 10 , Breadth = 5 , Area = 50\n"
     ]
    }
   ],
   "source": [
    "calc_area(10, 5)"
   ]
  },
  {
   "cell_type": "code",
   "execution_count": 47,
   "id": "07fbcd5d",
   "metadata": {},
   "outputs": [],
   "source": [
    "# FORMATTABLE STRINGS"
   ]
  },
  {
   "cell_type": "code",
   "execution_count": 52,
   "id": "af2709a6",
   "metadata": {},
   "outputs": [],
   "source": [
    "def calc_area(l, b):\n",
    "    a = l * b\n",
    "    print(f\"Length = {l} , Breadth = {b} , Area = {a}\")"
   ]
  },
  {
   "cell_type": "code",
   "execution_count": 53,
   "id": "b6cb34cd",
   "metadata": {},
   "outputs": [
    {
     "name": "stdout",
     "output_type": "stream",
     "text": [
      "Length = 10 , Breadth = 5 , Area = 50\n"
     ]
    }
   ],
   "source": [
    "calc_area(10, 5)"
   ]
  },
  {
   "cell_type": "code",
   "execution_count": 54,
   "id": "19b5a722",
   "metadata": {},
   "outputs": [],
   "source": [
    "s1 = \"Undertaker\"\n",
    "s2 = \"Kane\""
   ]
  },
  {
   "cell_type": "code",
   "execution_count": 55,
   "id": "7e83e648",
   "metadata": {},
   "outputs": [],
   "source": [
    "s3 = s1 + \" v/s \" + s2"
   ]
  },
  {
   "cell_type": "code",
   "execution_count": 56,
   "id": "15aa1277",
   "metadata": {},
   "outputs": [
    {
     "data": {
      "text/plain": [
       "'Undertaker v/s Kane'"
      ]
     },
     "execution_count": 56,
     "metadata": {},
     "output_type": "execute_result"
    }
   ],
   "source": [
    "s3"
   ]
  },
  {
   "cell_type": "code",
   "execution_count": 59,
   "id": "e5e65c4e",
   "metadata": {},
   "outputs": [],
   "source": [
    "s4 = f\"{s1} v/s {s2}\""
   ]
  },
  {
   "cell_type": "code",
   "execution_count": 60,
   "id": "fe88148b",
   "metadata": {},
   "outputs": [
    {
     "data": {
      "text/plain": [
       "'Undertaker v/s Kane'"
      ]
     },
     "execution_count": 60,
     "metadata": {},
     "output_type": "execute_result"
    }
   ],
   "source": [
    "s4"
   ]
  },
  {
   "cell_type": "code",
   "execution_count": 61,
   "id": "ba6c8a91",
   "metadata": {},
   "outputs": [
    {
     "data": {
      "text/plain": [
       "'\\nQuestion 1 -\\n1. Take a string as input from the user.\\n2. Print the string character by character in new lines.\\n\\nINPUT - VIRAT\\nOUTPUT -\\nV\\nI\\nR\\nA\\nT\\n'"
      ]
     },
     "execution_count": 61,
     "metadata": {},
     "output_type": "execute_result"
    }
   ],
   "source": [
    "'''\n",
    "Question 1 -\n",
    "1. Take a string as input from the user.\n",
    "2. Print the string character by character in new lines.\n",
    "\n",
    "INPUT - VIRAT\n",
    "OUTPUT -\n",
    "V\n",
    "I\n",
    "R\n",
    "A\n",
    "T\n",
    "'''"
   ]
  },
  {
   "cell_type": "code",
   "execution_count": 62,
   "id": "59a2a198",
   "metadata": {},
   "outputs": [
    {
     "name": "stdout",
     "output_type": "stream",
     "text": [
      "VIRAT122\n",
      "V\n",
      "I\n",
      "R\n",
      "A\n",
      "T\n",
      "1\n",
      "2\n",
      "2\n"
     ]
    }
   ],
   "source": [
    "a = input()\n",
    "\n",
    "for i in a: # STRINGS ARE ITERABLE\n",
    "    print(i)"
   ]
  },
  {
   "cell_type": "code",
   "execution_count": 63,
   "id": "a0427a31",
   "metadata": {},
   "outputs": [
    {
     "data": {
      "text/plain": [
       "'\\nQuestion 2 -\\n1. Take a string as input from the user.\\n2. Print the following - \\n\"First Character - f, Last Character - l\"\\n'"
      ]
     },
     "execution_count": 63,
     "metadata": {},
     "output_type": "execute_result"
    }
   ],
   "source": [
    "'''\n",
    "Question 2 -\n",
    "1. Take a string as input from the user.\n",
    "2. Print the following - \n",
    "\"First Character - f, Last Character - l\"\n",
    "'''"
   ]
  },
  {
   "cell_type": "code",
   "execution_count": 65,
   "id": "1475325d",
   "metadata": {},
   "outputs": [
    {
     "name": "stdout",
     "output_type": "stream",
     "text": [
      "RAKHI\n",
      "First Character - R, Last Character - I\n"
     ]
    }
   ],
   "source": [
    "a = input()\n",
    "\n",
    "print(f\"First Character - {a[0]}, Last Character - {a[-1]}\")"
   ]
  },
  {
   "cell_type": "code",
   "execution_count": 66,
   "id": "30f0ae2b",
   "metadata": {},
   "outputs": [],
   "source": [
    "a = \"Bipin\""
   ]
  },
  {
   "cell_type": "code",
   "execution_count": 67,
   "id": "b261cfe9",
   "metadata": {},
   "outputs": [
    {
     "data": {
      "text/plain": [
       "'B'"
      ]
     },
     "execution_count": 67,
     "metadata": {},
     "output_type": "execute_result"
    }
   ],
   "source": [
    "a[0]"
   ]
  },
  {
   "cell_type": "code",
   "execution_count": 68,
   "id": "5f9735dd",
   "metadata": {},
   "outputs": [
    {
     "data": {
      "text/plain": [
       "'n'"
      ]
     },
     "execution_count": 68,
     "metadata": {},
     "output_type": "execute_result"
    }
   ],
   "source": [
    "a[-1]"
   ]
  },
  {
   "cell_type": "code",
   "execution_count": 69,
   "id": "5a433bd6",
   "metadata": {},
   "outputs": [
    {
     "data": {
      "text/plain": [
       "'pin'"
      ]
     },
     "execution_count": 69,
     "metadata": {},
     "output_type": "execute_result"
    }
   ],
   "source": [
    "a[2:5]"
   ]
  },
  {
   "cell_type": "code",
   "execution_count": 70,
   "id": "ed3ec5c1",
   "metadata": {},
   "outputs": [
    {
     "data": {
      "text/plain": [
       "'\\nQuestion 3 -\\n1. Take a string as input from the user.\\n2. Check whether that string is a palindrome.\\n   Create a function which returns \"PALINDROME\" if true otherwise \"NOT A PALINDROME.\"\\n'"
      ]
     },
     "execution_count": 70,
     "metadata": {},
     "output_type": "execute_result"
    }
   ],
   "source": [
    "'''\n",
    "Question 3 -\n",
    "1. Take a string as input from the user.\n",
    "2. Check whether that string is a palindrome.\n",
    "   Create a function which returns \"PALINDROME\" if true otherwise \"NOT A PALINDROME.\"\n",
    "'''"
   ]
  },
  {
   "cell_type": "code",
   "execution_count": 71,
   "id": "1b134d45",
   "metadata": {},
   "outputs": [
    {
     "data": {
      "text/plain": [
       "True"
      ]
     },
     "execution_count": 71,
     "metadata": {},
     "output_type": "execute_result"
    }
   ],
   "source": [
    "\"naman\" == \"naman\""
   ]
  },
  {
   "cell_type": "code",
   "execution_count": 72,
   "id": "d5d92f26",
   "metadata": {},
   "outputs": [
    {
     "data": {
      "text/plain": [
       "False"
      ]
     },
     "execution_count": 72,
     "metadata": {},
     "output_type": "execute_result"
    }
   ],
   "source": [
    "\"Naman\" == \"namaN\" "
   ]
  },
  {
   "cell_type": "code",
   "execution_count": 73,
   "id": "5f508639",
   "metadata": {},
   "outputs": [
    {
     "data": {
      "text/plain": [
       "32"
      ]
     },
     "execution_count": 73,
     "metadata": {},
     "output_type": "execute_result"
    }
   ],
   "source": [
    "ord(\"a\") - ord(\"A\")"
   ]
  },
  {
   "cell_type": "code",
   "execution_count": 75,
   "id": "7d005ee2",
   "metadata": {},
   "outputs": [
    {
     "data": {
      "text/plain": [
       "32"
      ]
     },
     "execution_count": 75,
     "metadata": {},
     "output_type": "execute_result"
    }
   ],
   "source": [
    "ord(\"b\") - ord(\"B\")"
   ]
  },
  {
   "cell_type": "code",
   "execution_count": 78,
   "id": "5c4a6cfe",
   "metadata": {},
   "outputs": [
    {
     "data": {
      "text/plain": [
       "'z'"
      ]
     },
     "execution_count": 78,
     "metadata": {},
     "output_type": "execute_result"
    }
   ],
   "source": [
    "chr(ord(\"Z\") + 32) "
   ]
  },
  {
   "cell_type": "code",
   "execution_count": 79,
   "id": "13e5a970",
   "metadata": {},
   "outputs": [],
   "source": [
    "def lower_case(a):\n",
    "    result = \"\"\n",
    "    \n",
    "    for i in a:\n",
    "        if i >= \"A\" and i <= \"Z\":\n",
    "            result += chr(ord(i) + 32)\n",
    "        else:\n",
    "            result += i\n",
    "            \n",
    "    return result"
   ]
  },
  {
   "cell_type": "code",
   "execution_count": 80,
   "id": "792612ca",
   "metadata": {},
   "outputs": [],
   "source": [
    "a = \"this IS ranDOm!\""
   ]
  },
  {
   "cell_type": "code",
   "execution_count": 81,
   "id": "b08b9fd1",
   "metadata": {},
   "outputs": [
    {
     "data": {
      "text/plain": [
       "'this is random!'"
      ]
     },
     "execution_count": 81,
     "metadata": {},
     "output_type": "execute_result"
    }
   ],
   "source": [
    "lower_case(a)"
   ]
  },
  {
   "cell_type": "code",
   "execution_count": 83,
   "id": "09734239",
   "metadata": {},
   "outputs": [
    {
     "data": {
      "text/plain": [
       "'!mODnar SI siht'"
      ]
     },
     "execution_count": 83,
     "metadata": {},
     "output_type": "execute_result"
    }
   ],
   "source": [
    "a[::-1]"
   ]
  },
  {
   "cell_type": "code",
   "execution_count": 84,
   "id": "a3668666",
   "metadata": {},
   "outputs": [],
   "source": [
    "def check_palindrome(a):\n",
    "    a = lower_case(a)\n",
    "    \n",
    "    if a == a[::-1]:\n",
    "        return \"PALINDROME!\"\n",
    "    else:\n",
    "        return \"NOT A PALINDROME!\""
   ]
  },
  {
   "cell_type": "code",
   "execution_count": 88,
   "id": "522059b4",
   "metadata": {},
   "outputs": [
    {
     "data": {
      "text/plain": [
       "'PALINDROME!'"
      ]
     },
     "execution_count": 88,
     "metadata": {},
     "output_type": "execute_result"
    }
   ],
   "source": [
    "check_palindrome(\"NitIn\")"
   ]
  },
  {
   "cell_type": "code",
   "execution_count": 89,
   "id": "542106e6",
   "metadata": {},
   "outputs": [
    {
     "data": {
      "text/plain": [
       "'NOT A PALINDROME!'"
      ]
     },
     "execution_count": 89,
     "metadata": {},
     "output_type": "execute_result"
    }
   ],
   "source": [
    "check_palindrome(\"bipIn\")"
   ]
  },
  {
   "cell_type": "code",
   "execution_count": 90,
   "id": "44b0093a",
   "metadata": {},
   "outputs": [
    {
     "data": {
      "text/plain": [
       "'\\nQuestion 4 -\\n1. Take a string as input from the user.\\n2. Print the count of uppercase characters in that string. (alphabets)\\n\\nINPUT - \"This is a Random%^&*()\"\\nOUTPUT - 2\\n'"
      ]
     },
     "execution_count": 90,
     "metadata": {},
     "output_type": "execute_result"
    }
   ],
   "source": [
    "'''\n",
    "Question 4 -\n",
    "1. Take a string as input from the user.\n",
    "2. Print the count of uppercase characters in that string. (alphabets)\n",
    "\n",
    "INPUT - \"This is a Random%^&*()\"\n",
    "OUTPUT - 2\n",
    "'''"
   ]
  },
  {
   "cell_type": "code",
   "execution_count": 92,
   "id": "4dca754e",
   "metadata": {},
   "outputs": [],
   "source": [
    "def count_upper_case(a):\n",
    "    count = 0\n",
    "    \n",
    "    for i in a:\n",
    "        if i >= \"A\" and i <= \"Z\":\n",
    "            count += 1\n",
    "            \n",
    "    return count"
   ]
  },
  {
   "cell_type": "code",
   "execution_count": 94,
   "id": "8cc0c8d9",
   "metadata": {},
   "outputs": [
    {
     "data": {
      "text/plain": [
       "9"
      ]
     },
     "execution_count": 94,
     "metadata": {},
     "output_type": "execute_result"
    }
   ],
   "source": [
    "count_upper_case(\"This IS a RANDOM string!\")"
   ]
  },
  {
   "cell_type": "code",
   "execution_count": 95,
   "id": "b689bb35",
   "metadata": {},
   "outputs": [
    {
     "data": {
      "text/plain": [
       "'\\nQuestion 5 -\\n1. You are given a list as input to a function.\\n2. Generate a string from the chr values of the integers in the list.\\n\\nINPUT = [65, 97, 68]\\nOUTPUT = \"AaD\"\\n\\nEXPLANATION - \\n\"A\" -> 65\\n\"a\" -> 97\\n\"D\" -> 68\\n'"
      ]
     },
     "execution_count": 95,
     "metadata": {},
     "output_type": "execute_result"
    }
   ],
   "source": [
    "'''\n",
    "Question 5 -\n",
    "1. You are given a list as input to a function.\n",
    "2. Generate a string from the chr values of the integers in the list.\n",
    "\n",
    "INPUT = [65, 97, 68]\n",
    "OUTPUT = \"AaD\"\n",
    "\n",
    "EXPLANATION - \n",
    "\"A\" -> 65\n",
    "\"a\" -> 97\n",
    "\"D\" -> 68\n",
    "'''"
   ]
  },
  {
   "cell_type": "code",
   "execution_count": 96,
   "id": "47848167",
   "metadata": {},
   "outputs": [],
   "source": [
    "a = [80, 89, 84, 72, 79, 78, 128013]"
   ]
  },
  {
   "cell_type": "code",
   "execution_count": 97,
   "id": "0acbee5b",
   "metadata": {},
   "outputs": [],
   "source": [
    "def generate_string(a):\n",
    "    s = \"\"\n",
    "    \n",
    "    for i in a:\n",
    "        s += chr(i)\n",
    "        \n",
    "    return s"
   ]
  },
  {
   "cell_type": "code",
   "execution_count": 98,
   "id": "e783f97a",
   "metadata": {},
   "outputs": [
    {
     "data": {
      "text/plain": [
       "'PYTHON🐍'"
      ]
     },
     "execution_count": 98,
     "metadata": {},
     "output_type": "execute_result"
    }
   ],
   "source": [
    "generate_string(a)"
   ]
  },
  {
   "cell_type": "code",
   "execution_count": null,
   "id": "fce87064",
   "metadata": {},
   "outputs": [],
   "source": []
  }
 ],
 "metadata": {
  "kernelspec": {
   "display_name": "Python 3 (ipykernel)",
   "language": "python",
   "name": "python3"
  },
  "language_info": {
   "codemirror_mode": {
    "name": "ipython",
    "version": 3
   },
   "file_extension": ".py",
   "mimetype": "text/x-python",
   "name": "python",
   "nbconvert_exporter": "python",
   "pygments_lexer": "ipython3",
   "version": "3.9.5"
  }
 },
 "nbformat": 4,
 "nbformat_minor": 5
}
