{
 "cells": [
  {
   "cell_type": "code",
   "execution_count": 3,
   "id": "828e7baa",
   "metadata": {},
   "outputs": [
    {
     "name": "stdout",
     "output_type": "stream",
     "text": [
      "456\n",
      "456\n"
     ]
    }
   ],
   "source": [
    "x = 123\n",
    "\n",
    "def random():\n",
    "    global x\n",
    "    x = 456\n",
    "    print(x)\n",
    "    \n",
    "random()\n",
    "print(x)"
   ]
  },
  {
   "cell_type": "code",
   "execution_count": 6,
   "id": "1b2bab42",
   "metadata": {},
   "outputs": [
    {
     "name": "stdout",
     "output_type": "stream",
     "text": [
      "1,2,2"
     ]
    }
   ],
   "source": [
    "x = 1\n",
    "\n",
    "def foo():\n",
    "    global x\n",
    "    print(x, end=\",\")\n",
    "    x = 2\n",
    "    print(x, end=\",\")   \n",
    "    \n",
    "foo()\n",
    "print(x, end=\"\")"
   ]
  },
  {
   "cell_type": "code",
   "execution_count": 10,
   "id": "acae3548",
   "metadata": {},
   "outputs": [
    {
     "name": "stdout",
     "output_type": "stream",
     "text": [
      "hello world\n"
     ]
    },
    {
     "ename": "NameError",
     "evalue": "name 'abc' is not defined",
     "output_type": "error",
     "traceback": [
      "\u001b[0;31m---------------------------------------------------------------------------\u001b[0m",
      "\u001b[0;31mNameError\u001b[0m                                 Traceback (most recent call last)",
      "Cell \u001b[0;32mIn[10], line 8\u001b[0m\n\u001b[1;32m      6\u001b[0m random \u001b[38;5;241m=\u001b[39m foo()\n\u001b[1;32m      7\u001b[0m \u001b[38;5;28mprint\u001b[39m(random)\n\u001b[0;32m----> 8\u001b[0m \u001b[38;5;28mprint\u001b[39m(\u001b[43mabc\u001b[49m)\n",
      "\u001b[0;31mNameError\u001b[0m: name 'abc' is not defined"
     ]
    }
   ],
   "source": [
    "def foo():\n",
    "    abc = \"hello world\"\n",
    "    \n",
    "    return abc\n",
    "    \n",
    "random = foo()\n",
    "print(random)\n",
    "print(abc)"
   ]
  },
  {
   "cell_type": "code",
   "execution_count": 11,
   "id": "615913e1",
   "metadata": {},
   "outputs": [],
   "source": [
    "a = [1,2,3,4,5]"
   ]
  },
  {
   "cell_type": "code",
   "execution_count": 12,
   "id": "8d0dbde1",
   "metadata": {},
   "outputs": [],
   "source": [
    "b = a.copy()"
   ]
  },
  {
   "cell_type": "code",
   "execution_count": 13,
   "id": "877ab13d",
   "metadata": {},
   "outputs": [
    {
     "data": {
      "text/plain": [
       "140541274056256"
      ]
     },
     "execution_count": 13,
     "metadata": {},
     "output_type": "execute_result"
    }
   ],
   "source": [
    "id(a)"
   ]
  },
  {
   "cell_type": "code",
   "execution_count": 14,
   "id": "6b0c895d",
   "metadata": {},
   "outputs": [
    {
     "data": {
      "text/plain": [
       "140541274107840"
      ]
     },
     "execution_count": 14,
     "metadata": {},
     "output_type": "execute_result"
    }
   ],
   "source": [
    "id(b)"
   ]
  },
  {
   "cell_type": "code",
   "execution_count": 16,
   "id": "6aff9526",
   "metadata": {},
   "outputs": [
    {
     "data": {
      "text/plain": [
       "'\\nA -> Average cases recovered per day\\nB -> New cases per day\\nC -> Current active cases\\n'"
      ]
     },
     "execution_count": 16,
     "metadata": {},
     "output_type": "execute_result"
    }
   ],
   "source": [
    "\"\"\"\n",
    "A -> Average cases recovered per day\n",
    "B -> New cases per day\n",
    "C -> Current active cases\n",
    "\"\"\""
   ]
  },
  {
   "cell_type": "code",
   "execution_count": 17,
   "id": "c09a46db",
   "metadata": {},
   "outputs": [],
   "source": [
    "def corona_cases(new, recovered, current):\n",
    "    day_count = 0\n",
    "    \n",
    "    while current > 0:\n",
    "        day_count += 1\n",
    "        current = current + new - recovered\n",
    "        \n",
    "    return day_count"
   ]
  },
  {
   "cell_type": "code",
   "execution_count": 18,
   "id": "6fcd8b44",
   "metadata": {},
   "outputs": [
    {
     "data": {
      "text/plain": [
       "10"
      ]
     },
     "execution_count": 18,
     "metadata": {},
     "output_type": "execute_result"
    }
   ],
   "source": [
    "corona_cases(5, 6, 10)"
   ]
  },
  {
   "cell_type": "code",
   "execution_count": 22,
   "id": "644bf69b",
   "metadata": {},
   "outputs": [],
   "source": [
    "def corona_cases(new, recovered, current):\n",
    "    x = current / (recovered - new)\n",
    "    \n",
    "    return (x // 1) + 1"
   ]
  },
  {
   "cell_type": "code",
   "execution_count": 28,
   "id": "970f2811",
   "metadata": {},
   "outputs": [
    {
     "data": {
      "text/plain": [
       "6.0"
      ]
     },
     "execution_count": 28,
     "metadata": {},
     "output_type": "execute_result"
    }
   ],
   "source": [
    "corona_cases(3, 5, 10)"
   ]
  },
  {
   "cell_type": "code",
   "execution_count": 24,
   "id": "6f79cb42",
   "metadata": {},
   "outputs": [
    {
     "data": {
      "text/plain": [
       "46.0"
      ]
     },
     "execution_count": 24,
     "metadata": {},
     "output_type": "execute_result"
    }
   ],
   "source": [
    "(45.88 // 1) + 1"
   ]
  },
  {
   "cell_type": "code",
   "execution_count": 25,
   "id": "cbc68809",
   "metadata": {},
   "outputs": [
    {
     "data": {
      "text/plain": [
       "45.0"
      ]
     },
     "execution_count": 25,
     "metadata": {},
     "output_type": "execute_result"
    }
   ],
   "source": [
    "45.891 // 1"
   ]
  },
  {
   "cell_type": "code",
   "execution_count": 27,
   "id": "1e73b25d",
   "metadata": {},
   "outputs": [],
   "source": [
    "import math"
   ]
  },
  {
   "cell_type": "code",
   "execution_count": 29,
   "id": "9f8dfcf3",
   "metadata": {},
   "outputs": [],
   "source": [
    "string = \"this is a random string\""
   ]
  },
  {
   "cell_type": "code",
   "execution_count": 30,
   "id": "3cd83666",
   "metadata": {},
   "outputs": [
    {
     "data": {
      "text/plain": [
       "['this', 'is', 'a', 'random', 'string']"
      ]
     },
     "execution_count": 30,
     "metadata": {},
     "output_type": "execute_result"
    }
   ],
   "source": [
    "string.split(\" \")"
   ]
  },
  {
   "cell_type": "code",
   "execution_count": 31,
   "id": "5c8b409a",
   "metadata": {},
   "outputs": [
    {
     "name": "stdout",
     "output_type": "stream",
     "text": [
      "5 6 18 90 56 4 3 2 1 10 20\n"
     ]
    }
   ],
   "source": [
    "user_input = input()"
   ]
  },
  {
   "cell_type": "code",
   "execution_count": 33,
   "id": "d057f01e",
   "metadata": {},
   "outputs": [
    {
     "data": {
      "text/plain": [
       "'5 6 18 90 56 4 3 2 1 10 20'"
      ]
     },
     "execution_count": 33,
     "metadata": {},
     "output_type": "execute_result"
    }
   ],
   "source": [
    "user_input"
   ]
  },
  {
   "cell_type": "code",
   "execution_count": 34,
   "id": "735f4b99",
   "metadata": {},
   "outputs": [],
   "source": [
    "user_input = user_input.split(\" \")"
   ]
  },
  {
   "cell_type": "code",
   "execution_count": 35,
   "id": "c2ea7201",
   "metadata": {},
   "outputs": [
    {
     "data": {
      "text/plain": [
       "['5', '6', '18', '90', '56', '4', '3', '2', '1', '10', '20']"
      ]
     },
     "execution_count": 35,
     "metadata": {},
     "output_type": "execute_result"
    }
   ],
   "source": [
    "user_input"
   ]
  },
  {
   "cell_type": "code",
   "execution_count": 36,
   "id": "1ff0628c",
   "metadata": {},
   "outputs": [],
   "source": [
    "final_input = []\n",
    "\n",
    "for i in user_input:\n",
    "    final_input.append(int(i))"
   ]
  },
  {
   "cell_type": "code",
   "execution_count": 38,
   "id": "3e4338a6",
   "metadata": {},
   "outputs": [
    {
     "data": {
      "text/plain": [
       "[5, 6, 18, 90, 56, 4, 3, 2, 1, 10, 20]"
      ]
     },
     "execution_count": 38,
     "metadata": {},
     "output_type": "execute_result"
    }
   ],
   "source": [
    "final_input"
   ]
  },
  {
   "cell_type": "code",
   "execution_count": 43,
   "id": "d6a54dae",
   "metadata": {},
   "outputs": [
    {
     "name": "stdout",
     "output_type": "stream",
     "text": [
      "45 6 7 8\n"
     ]
    },
    {
     "data": {
      "text/plain": [
       "[45, 6, 7, 8]"
      ]
     },
     "execution_count": 43,
     "metadata": {},
     "output_type": "execute_result"
    }
   ],
   "source": [
    "# TAKING A LIST OF NUMBERS AS INPUT\n",
    "\n",
    "user_input = input()\n",
    "\n",
    "user_input = user_input.split(\" \")\n",
    "\n",
    "final_input = []\n",
    "\n",
    "for i in user_input:\n",
    "    final_input.append(int(i))\n",
    "    \n",
    "final_input"
   ]
  },
  {
   "cell_type": "code",
   "execution_count": 44,
   "id": "bbd3f96b",
   "metadata": {},
   "outputs": [
    {
     "name": "stdout",
     "output_type": "stream",
     "text": [
      "4 5 6 7\n"
     ]
    }
   ],
   "source": [
    "user_input = input().split()"
   ]
  },
  {
   "cell_type": "code",
   "execution_count": 46,
   "id": "b5cf2e58",
   "metadata": {},
   "outputs": [
    {
     "data": {
      "text/plain": [
       "['4', '5', '6', '7']"
      ]
     },
     "execution_count": 46,
     "metadata": {},
     "output_type": "execute_result"
    }
   ],
   "source": [
    "user_input"
   ]
  },
  {
   "cell_type": "code",
   "execution_count": 47,
   "id": "a63aec81",
   "metadata": {},
   "outputs": [
    {
     "name": "stdout",
     "output_type": "stream",
     "text": [
      "4 5 6 7\n"
     ]
    }
   ],
   "source": [
    "user_input = list(input().split())"
   ]
  },
  {
   "cell_type": "code",
   "execution_count": null,
   "id": "af4f8e95",
   "metadata": {},
   "outputs": [],
   "source": []
  }
 ],
 "metadata": {
  "kernelspec": {
   "display_name": "Python 3 (ipykernel)",
   "language": "python",
   "name": "python3"
  },
  "language_info": {
   "codemirror_mode": {
    "name": "ipython",
    "version": 3
   },
   "file_extension": ".py",
   "mimetype": "text/x-python",
   "name": "python",
   "nbconvert_exporter": "python",
   "pygments_lexer": "ipython3",
   "version": "3.9.5"
  }
 },
 "nbformat": 4,
 "nbformat_minor": 5
}
