{
 "cells": [
  {
   "cell_type": "code",
   "execution_count": 2,
   "id": "1565963d",
   "metadata": {},
   "outputs": [
    {
     "name": "stdout",
     "output_type": "stream",
     "text": [
      "0 1 2 3 4 5 "
     ]
    }
   ],
   "source": [
    "for i in range(0, 6):\n",
    "    print(i, end = \" \")"
   ]
  },
  {
   "cell_type": "code",
   "execution_count": 8,
   "id": "13337a8e",
   "metadata": {},
   "outputs": [
    {
     "name": "stdout",
     "output_type": "stream",
     "text": [
      "0\n",
      "1\n",
      "2\n"
     ]
    }
   ],
   "source": [
    "for i in range(3):\n",
    "    print(i)"
   ]
  },
  {
   "cell_type": "code",
   "execution_count": 9,
   "id": "a61257ba",
   "metadata": {},
   "outputs": [
    {
     "data": {
      "text/plain": [
       "True"
      ]
     },
     "execution_count": 9,
     "metadata": {},
     "output_type": "execute_result"
    }
   ],
   "source": [
    "# If only one value is provided\n",
    "# that value becomes end and start is 0 by default\n",
    "range(3) == range(0,3)"
   ]
  },
  {
   "cell_type": "code",
   "execution_count": 11,
   "id": "5d0116df",
   "metadata": {},
   "outputs": [
    {
     "ename": "TypeError",
     "evalue": "'float' object cannot be interpreted as an integer",
     "output_type": "error",
     "traceback": [
      "\u001b[0;31m---------------------------------------------------------------------------\u001b[0m",
      "\u001b[0;31mTypeError\u001b[0m                                 Traceback (most recent call last)",
      "Cell \u001b[0;32mIn[11], line 1\u001b[0m\n\u001b[0;32m----> 1\u001b[0m \u001b[38;5;28;43mrange\u001b[39;49m\u001b[43m(\u001b[49m\u001b[38;5;241;43m1.7\u001b[39;49m\u001b[43m,\u001b[49m\u001b[43m \u001b[49m\u001b[38;5;241;43m8.7\u001b[39;49m\u001b[43m)\u001b[49m \u001b[38;5;66;03m# range only works with integers\u001b[39;00m\n",
      "\u001b[0;31mTypeError\u001b[0m: 'float' object cannot be interpreted as an integer"
     ]
    }
   ],
   "source": [
    "range(1.7, 8.7) # range only works with integers"
   ]
  },
  {
   "cell_type": "code",
   "execution_count": 12,
   "id": "0a0791d2",
   "metadata": {},
   "outputs": [
    {
     "ename": "TypeError",
     "evalue": "'float' object cannot be interpreted as an integer",
     "output_type": "error",
     "traceback": [
      "\u001b[0;31m---------------------------------------------------------------------------\u001b[0m",
      "\u001b[0;31mTypeError\u001b[0m                                 Traceback (most recent call last)",
      "Cell \u001b[0;32mIn[12], line 1\u001b[0m\n\u001b[0;32m----> 1\u001b[0m \u001b[38;5;28;43mrange\u001b[39;49m\u001b[43m(\u001b[49m\u001b[38;5;241;43m1\u001b[39;49m\u001b[43m,\u001b[49m\u001b[43m \u001b[49m\u001b[38;5;241;43m2\u001b[39;49m\u001b[43m,\u001b[49m\u001b[43m \u001b[49m\u001b[38;5;241;43m0.5\u001b[39;49m\u001b[43m)\u001b[49m\n",
      "\u001b[0;31mTypeError\u001b[0m: 'float' object cannot be interpreted as an integer"
     ]
    }
   ],
   "source": [
    "range(1, 2, 0.5)"
   ]
  },
  {
   "cell_type": "code",
   "execution_count": 13,
   "id": "ec7fd5ec",
   "metadata": {},
   "outputs": [
    {
     "ename": "ValueError",
     "evalue": "range() arg 3 must not be zero",
     "output_type": "error",
     "traceback": [
      "\u001b[0;31m---------------------------------------------------------------------------\u001b[0m",
      "\u001b[0;31mValueError\u001b[0m                                Traceback (most recent call last)",
      "Cell \u001b[0;32mIn[13], line 1\u001b[0m\n\u001b[0;32m----> 1\u001b[0m \u001b[38;5;28;43mrange\u001b[39;49m\u001b[43m(\u001b[49m\u001b[38;5;241;43m1\u001b[39;49m\u001b[43m,\u001b[49m\u001b[43m \u001b[49m\u001b[38;5;241;43m7\u001b[39;49m\u001b[43m,\u001b[49m\u001b[43m \u001b[49m\u001b[38;5;241;43m0\u001b[39;49m\u001b[43m)\u001b[49m\n",
      "\u001b[0;31mValueError\u001b[0m: range() arg 3 must not be zero"
     ]
    }
   ],
   "source": [
    "range(1, 7, 0)"
   ]
  },
  {
   "cell_type": "code",
   "execution_count": 14,
   "id": "6d8361b1",
   "metadata": {},
   "outputs": [
    {
     "data": {
      "text/plain": [
       "7"
      ]
     },
     "execution_count": 14,
     "metadata": {},
     "output_type": "execute_result"
    }
   ],
   "source": [
    "len(range(1,8))"
   ]
  },
  {
   "cell_type": "code",
   "execution_count": 15,
   "id": "416d35be",
   "metadata": {},
   "outputs": [
    {
     "data": {
      "text/plain": [
       "4"
      ]
     },
     "execution_count": 15,
     "metadata": {},
     "output_type": "execute_result"
    }
   ],
   "source": [
    "len(range(1,9,2))"
   ]
  },
  {
   "cell_type": "code",
   "execution_count": 17,
   "id": "5f4a0f88",
   "metadata": {},
   "outputs": [
    {
     "data": {
      "text/plain": [
       "4"
      ]
     },
     "execution_count": 17,
     "metadata": {},
     "output_type": "execute_result"
    }
   ],
   "source": [
    "len(range(5, 1, -1))"
   ]
  },
  {
   "cell_type": "code",
   "execution_count": 19,
   "id": "56303c9b",
   "metadata": {},
   "outputs": [
    {
     "data": {
      "text/plain": [
       "'\\nQuestion 1 - \\nPrint all integers from 1 to N using for loop. (N to be included)\\nTake N as input from the user.\\n'"
      ]
     },
     "execution_count": 19,
     "metadata": {},
     "output_type": "execute_result"
    }
   ],
   "source": [
    "'''\n",
    "Question 1 - \n",
    "Print all integers from 1 to N using for loop. (N to be included)\n",
    "Take N as input from the user.\n",
    "'''"
   ]
  },
  {
   "cell_type": "code",
   "execution_count": 21,
   "id": "f206fab9",
   "metadata": {},
   "outputs": [
    {
     "name": "stdout",
     "output_type": "stream",
     "text": [
      "10\n",
      "1 2 3 4 5 6 7 8 9 10 "
     ]
    }
   ],
   "source": [
    "N = int(input())\n",
    "\n",
    "for i in range(1, N + 1):\n",
    "    print(i, end = \" \")"
   ]
  },
  {
   "cell_type": "code",
   "execution_count": 22,
   "id": "2dcf07c0",
   "metadata": {},
   "outputs": [
    {
     "data": {
      "text/plain": [
       "'\\nQuestion 2 - \\nTake N as input from the user.\\nCalculate the sum of all numbers from 1 to N (N is included).\\n'"
      ]
     },
     "execution_count": 22,
     "metadata": {},
     "output_type": "execute_result"
    }
   ],
   "source": [
    "'''\n",
    "Question 2 - \n",
    "Take N as input from the user.\n",
    "Calculate the sum of all numbers from 1 to N (N is included).\n",
    "'''"
   ]
  },
  {
   "cell_type": "code",
   "execution_count": 24,
   "id": "2e33208c",
   "metadata": {},
   "outputs": [
    {
     "name": "stdout",
     "output_type": "stream",
     "text": [
      "3\n",
      "The final sum is - 6\n"
     ]
    }
   ],
   "source": [
    "N = int(input())\n",
    "\n",
    "final_sum = 0\n",
    "\n",
    "for value in range(1, N + 1):\n",
    "    final_sum += value # final_sum = final_sum + value\n",
    "    \n",
    "print(\"The final sum is -\", final_sum)"
   ]
  },
  {
   "cell_type": "code",
   "execution_count": 25,
   "id": "1e1ad396",
   "metadata": {},
   "outputs": [
    {
     "data": {
      "text/plain": [
       "'\\nDRY RUN - \\nN = 3\\nfinal_sum = 0\\n\\nSTART OF THE FOR LOOP ->\\nIteration 1 - \\n    value = 1\\n    final_sum = final_sum + value -> final_sum = 0 + 1 -> final_sum = 1\\n\\nIteration 2 - \\n    value = 2\\n    final_sum = 1 + 2 -> final_sum = 3\\n    \\nIteration 3 - \\n    value = 3\\n    final_sum = 3 + 3 -> final_sum = 6\\n'"
      ]
     },
     "execution_count": 25,
     "metadata": {},
     "output_type": "execute_result"
    }
   ],
   "source": [
    "'''\n",
    "DRY RUN - \n",
    "N = 3\n",
    "final_sum = 0\n",
    "\n",
    "START OF THE FOR LOOP ->\n",
    "Iteration 1 - \n",
    "    value = 1\n",
    "    final_sum = final_sum + value -> final_sum = 0 + 1 -> final_sum = 1\n",
    "\n",
    "Iteration 2 - \n",
    "    value = 2\n",
    "    final_sum = 1 + 2 -> final_sum = 3\n",
    "    \n",
    "Iteration 3 - \n",
    "    value = 3\n",
    "    final_sum = 3 + 3 -> final_sum = 6\n",
    "'''"
   ]
  },
  {
   "cell_type": "code",
   "execution_count": 26,
   "id": "4084465c",
   "metadata": {},
   "outputs": [
    {
     "data": {
      "text/plain": [
       "'\\nQuestion 3 - \\nFACTORIAL ->\\nTake N an input from the user.\\nCalculate the product of all numbers from 1 to N (N is included).\\n'"
      ]
     },
     "execution_count": 26,
     "metadata": {},
     "output_type": "execute_result"
    }
   ],
   "source": [
    "'''\n",
    "Question 3 - \n",
    "FACTORIAL ->\n",
    "Take N an input from the user.\n",
    "Calculate the product of all numbers from 1 to N (N is included).\n",
    "'''"
   ]
  },
  {
   "cell_type": "code",
   "execution_count": 31,
   "id": "c1ce2646",
   "metadata": {},
   "outputs": [
    {
     "name": "stdout",
     "output_type": "stream",
     "text": [
      "0\n",
      "Factorial = 1\n"
     ]
    }
   ],
   "source": [
    "N = int(input())\n",
    "\n",
    "factorial = 1\n",
    "\n",
    "for i in range(2, N + 1):\n",
    "    factorial *= i\n",
    "    \n",
    "print(\"Factorial =\", factorial)"
   ]
  },
  {
   "cell_type": "code",
   "execution_count": 33,
   "id": "ffbfe445",
   "metadata": {},
   "outputs": [
    {
     "data": {
      "text/plain": [
       "0"
      ]
     },
     "execution_count": 33,
     "metadata": {},
     "output_type": "execute_result"
    }
   ],
   "source": [
    "len(range(2, 1))"
   ]
  },
  {
   "cell_type": "code",
   "execution_count": 34,
   "id": "b74bf54f",
   "metadata": {},
   "outputs": [
    {
     "name": "stdout",
     "output_type": "stream",
     "text": [
      "5\n",
      "Factorial = 120\n"
     ]
    }
   ],
   "source": [
    "N = int(input())\n",
    "\n",
    "factorial = N\n",
    "\n",
    "for i in range(N - 1, 1, -1):\n",
    "    factorial *= i\n",
    "    \n",
    "print(\"Factorial =\", factorial)"
   ]
  },
  {
   "cell_type": "code",
   "execution_count": 35,
   "id": "1a42ac47",
   "metadata": {},
   "outputs": [
    {
     "data": {
      "text/plain": [
       "'\\nQuestion 4 - \\nTake N as input from the user.\\nCalculate the product of all even numbers between 1 and N. Both included.\\n'"
      ]
     },
     "execution_count": 35,
     "metadata": {},
     "output_type": "execute_result"
    }
   ],
   "source": [
    "'''\n",
    "Question 4 - \n",
    "Take N as input from the user.\n",
    "Calculate the product of all even numbers between 1 and N. Both included.\n",
    "'''"
   ]
  },
  {
   "cell_type": "code",
   "execution_count": null,
   "id": "3e8a25a7",
   "metadata": {},
   "outputs": [],
   "source": [
    "range(2, N + 1, 2)"
   ]
  },
  {
   "cell_type": "code",
   "execution_count": 38,
   "id": "2ad3f5f3",
   "metadata": {},
   "outputs": [
    {
     "name": "stdout",
     "output_type": "stream",
     "text": [
      "7\n",
      "48\n"
     ]
    }
   ],
   "source": [
    "N = int(input())\n",
    "\n",
    "even_product = 1\n",
    "\n",
    "for i in range(2, N + 1, 2):\n",
    "    even_product *= i\n",
    "    \n",
    "print(even_product)"
   ]
  },
  {
   "cell_type": "code",
   "execution_count": 42,
   "id": "fd5e20fd",
   "metadata": {},
   "outputs": [
    {
     "name": "stdout",
     "output_type": "stream",
     "text": [
      "7\n",
      "product of even numbers = 48\n"
     ]
    }
   ],
   "source": [
    "N = int(input())\n",
    "\n",
    "product = 1\n",
    "\n",
    "for i in range(2, N+1 ,2):\n",
    "    product *= i\n",
    "\n",
    "print(\"product of even numbers =\",product)"
   ]
  },
  {
   "cell_type": "code",
   "execution_count": 39,
   "id": "0c991897",
   "metadata": {},
   "outputs": [
    {
     "data": {
      "text/plain": [
       "'\\nQuestion 5 - \\nTake start and end as input from the user.\\nCalculate the product of all even numbers between start and end.\\nBoth included.\\n\\nGIVEN - Both start and end will be greater than 0.\\n'"
      ]
     },
     "execution_count": 39,
     "metadata": {},
     "output_type": "execute_result"
    }
   ],
   "source": [
    "'''\n",
    "Question 5 - \n",
    "Take start and end as input from the user.\n",
    "Calculate the product of all even numbers between start and end.\n",
    "Both included.\n",
    "\n",
    "GIVEN - Both start and end will be greater than 0.\n",
    "'''"
   ]
  },
  {
   "cell_type": "code",
   "execution_count": 43,
   "id": "96a7307f",
   "metadata": {},
   "outputs": [
    {
     "name": "stdout",
     "output_type": "stream",
     "text": [
      "START - 2\n",
      "END - 9\n",
      "Even Product = 384\n"
     ]
    }
   ],
   "source": [
    "# SOLUTION 1\n",
    "\n",
    "start = int(input(\"START - \"))\n",
    "end = int(input(\"END - \"))\n",
    "\n",
    "even_product = 1\n",
    "\n",
    "for i in range(start, end + 1):\n",
    "    if i % 2 == 0:\n",
    "        even_product *= i\n",
    "        \n",
    "print(\"Even Product =\", even_product)"
   ]
  },
  {
   "cell_type": "code",
   "execution_count": 44,
   "id": "6aa1ef7a",
   "metadata": {},
   "outputs": [
    {
     "name": "stdout",
     "output_type": "stream",
     "text": [
      "START - 2\n",
      "END - 9\n",
      "Even Product = 384\n"
     ]
    }
   ],
   "source": [
    "# SOLUTION 2\n",
    "\n",
    "start = int(input(\"START - \"))\n",
    "end = int(input(\"END - \"))\n",
    "\n",
    "even_product = 1\n",
    "\n",
    "if start % 2 != 0:\n",
    "    start += 1\n",
    "    \n",
    "for i in range(start, end + 1, 2):\n",
    "    even_product *= i\n",
    "    \n",
    "print(\"Even Product =\", even_product)"
   ]
  },
  {
   "cell_type": "code",
   "execution_count": 45,
   "id": "259e3689",
   "metadata": {},
   "outputs": [
    {
     "data": {
      "text/plain": [
       "'\\nQuestion 6 -\\nPrint all the numbers from an input N to 1 in reverse order.\\nN > 1 -> Given\\n'"
      ]
     },
     "execution_count": 45,
     "metadata": {},
     "output_type": "execute_result"
    }
   ],
   "source": [
    "'''\n",
    "Question 6 -\n",
    "Print all the numbers from an input N to 1 in reverse order.\n",
    "N > 1 -> Given\n",
    "'''"
   ]
  },
  {
   "cell_type": "code",
   "execution_count": 46,
   "id": "bbe4e8b9",
   "metadata": {},
   "outputs": [
    {
     "name": "stdout",
     "output_type": "stream",
     "text": [
      "10\n",
      "10 9 8 7 6 5 4 3 2 1 "
     ]
    }
   ],
   "source": [
    "N = int(input())\n",
    "\n",
    "for i in range(N, 0, -1):\n",
    "    print(i , end = \" \")"
   ]
  },
  {
   "cell_type": "code",
   "execution_count": 47,
   "id": "1fcc343b",
   "metadata": {},
   "outputs": [
    {
     "data": {
      "text/plain": [
       "'\\nQuestion 7 -\\nPrint all the numbers from an input N to 1 in reverse order.\\nWITHOUT USING NEGATIVE JUMP!\\nN > 1 -> Given\\n'"
      ]
     },
     "execution_count": 47,
     "metadata": {},
     "output_type": "execute_result"
    }
   ],
   "source": [
    "'''\n",
    "Question 7 -\n",
    "Print all the numbers from an input N to 1 in reverse order.\n",
    "WITHOUT USING NEGATIVE JUMP!\n",
    "N > 1 -> Given\n",
    "'''"
   ]
  },
  {
   "cell_type": "code",
   "execution_count": 48,
   "id": "a7af9d5e",
   "metadata": {},
   "outputs": [
    {
     "name": "stdout",
     "output_type": "stream",
     "text": [
      "5\n",
      "5 4 3 2 1 "
     ]
    }
   ],
   "source": [
    "# SOLUTION 1\n",
    "\n",
    "N = int(input()) # 5\n",
    "\n",
    "for i in range(N): # 0 1 2 3 4\n",
    "    print(N - i, end = \" \") # 5, 4, 3, 2, 1"
   ]
  },
  {
   "cell_type": "code",
   "execution_count": 49,
   "id": "3d5f9ebd",
   "metadata": {},
   "outputs": [
    {
     "name": "stdout",
     "output_type": "stream",
     "text": [
      "5\n",
      "5 4 3 2 1 "
     ]
    }
   ],
   "source": [
    "# SOLUTION 2\n",
    "\n",
    "N = int(input()) # 5\n",
    "\n",
    "for i in range(-N, 0): # -5 -4 -3 -2 -1\n",
    "    print(-i, end = \" \") # 5 4 3 2 1"
   ]
  },
  {
   "cell_type": "code",
   "execution_count": null,
   "id": "2fb34412",
   "metadata": {},
   "outputs": [],
   "source": []
  }
 ],
 "metadata": {
  "kernelspec": {
   "display_name": "Python 3 (ipykernel)",
   "language": "python",
   "name": "python3"
  },
  "language_info": {
   "codemirror_mode": {
    "name": "ipython",
    "version": 3
   },
   "file_extension": ".py",
   "mimetype": "text/x-python",
   "name": "python",
   "nbconvert_exporter": "python",
   "pygments_lexer": "ipython3",
   "version": "3.9.5"
  }
 },
 "nbformat": 4,
 "nbformat_minor": 5
}
