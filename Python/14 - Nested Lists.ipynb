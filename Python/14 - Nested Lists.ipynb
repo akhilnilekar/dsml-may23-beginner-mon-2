{
 "cells": [
  {
   "cell_type": "code",
   "execution_count": 1,
   "id": "d730cceb",
   "metadata": {},
   "outputs": [
    {
     "data": {
      "text/plain": [
       "'\\nQuestion 1 - \\nRotate a given list by 1 element.\\n\\nINPUT - [1,2,3,4,5]\\nOUTPUT - [5,1,2,3,4]\\n'"
      ]
     },
     "execution_count": 1,
     "metadata": {},
     "output_type": "execute_result"
    }
   ],
   "source": [
    "'''\n",
    "Question 1 - \n",
    "Rotate a given list by 1 element.\n",
    "\n",
    "INPUT - [1,2,3,4,5]\n",
    "OUTPUT - [5,1,2,3,4]\n",
    "'''"
   ]
  },
  {
   "cell_type": "code",
   "execution_count": 2,
   "id": "745989da",
   "metadata": {},
   "outputs": [],
   "source": [
    "a = [1,2,3,4,5]"
   ]
  },
  {
   "cell_type": "code",
   "execution_count": 3,
   "id": "aaa384f8",
   "metadata": {},
   "outputs": [
    {
     "data": {
      "text/plain": [
       "5"
      ]
     },
     "execution_count": 3,
     "metadata": {},
     "output_type": "execute_result"
    }
   ],
   "source": [
    "a[-1]"
   ]
  },
  {
   "cell_type": "code",
   "execution_count": 4,
   "id": "53e165ff",
   "metadata": {},
   "outputs": [
    {
     "data": {
      "text/plain": [
       "[1, 2, 3, 4]"
      ]
     },
     "execution_count": 4,
     "metadata": {},
     "output_type": "execute_result"
    }
   ],
   "source": [
    "a[:-1]"
   ]
  },
  {
   "cell_type": "code",
   "execution_count": 5,
   "id": "35e11211",
   "metadata": {},
   "outputs": [],
   "source": [
    "rotated_list = [a[-1]] + a[:-1] # Approach 1"
   ]
  },
  {
   "cell_type": "code",
   "execution_count": 6,
   "id": "8cc3d90b",
   "metadata": {},
   "outputs": [
    {
     "data": {
      "text/plain": [
       "[5, 1, 2, 3, 4]"
      ]
     },
     "execution_count": 6,
     "metadata": {},
     "output_type": "execute_result"
    }
   ],
   "source": [
    "rotated_list"
   ]
  },
  {
   "cell_type": "code",
   "execution_count": 7,
   "id": "ab664e75",
   "metadata": {},
   "outputs": [
    {
     "data": {
      "text/plain": [
       "[1, 2, 3, 4, 5]"
      ]
     },
     "execution_count": 7,
     "metadata": {},
     "output_type": "execute_result"
    }
   ],
   "source": [
    "a"
   ]
  },
  {
   "cell_type": "code",
   "execution_count": 8,
   "id": "8204025c",
   "metadata": {},
   "outputs": [],
   "source": [
    "last_element = a.pop()\n",
    "a.insert(0, last_element) # Approach 2"
   ]
  },
  {
   "cell_type": "code",
   "execution_count": 9,
   "id": "156102e4",
   "metadata": {},
   "outputs": [
    {
     "data": {
      "text/plain": [
       "[5, 1, 2, 3, 4]"
      ]
     },
     "execution_count": 9,
     "metadata": {},
     "output_type": "execute_result"
    }
   ],
   "source": [
    "a"
   ]
  },
  {
   "cell_type": "code",
   "execution_count": 10,
   "id": "67bedc99",
   "metadata": {},
   "outputs": [],
   "source": [
    "a = [10, 20, 30, 40, 50, 60]"
   ]
  },
  {
   "cell_type": "code",
   "execution_count": 11,
   "id": "1a941d96",
   "metadata": {},
   "outputs": [
    {
     "data": {
      "text/plain": [
       "2"
      ]
     },
     "execution_count": 11,
     "metadata": {},
     "output_type": "execute_result"
    }
   ],
   "source": [
    "a.index(30)"
   ]
  },
  {
   "cell_type": "code",
   "execution_count": 12,
   "id": "9ecaf39b",
   "metadata": {},
   "outputs": [
    {
     "ename": "ValueError",
     "evalue": "100 is not in list",
     "output_type": "error",
     "traceback": [
      "\u001b[0;31m---------------------------------------------------------------------------\u001b[0m",
      "\u001b[0;31mValueError\u001b[0m                                Traceback (most recent call last)",
      "Cell \u001b[0;32mIn[12], line 1\u001b[0m\n\u001b[0;32m----> 1\u001b[0m \u001b[43ma\u001b[49m\u001b[38;5;241;43m.\u001b[39;49m\u001b[43mindex\u001b[49m\u001b[43m(\u001b[49m\u001b[38;5;241;43m100\u001b[39;49m\u001b[43m)\u001b[49m\n",
      "\u001b[0;31mValueError\u001b[0m: 100 is not in list"
     ]
    }
   ],
   "source": [
    "a.index(100)"
   ]
  },
  {
   "cell_type": "code",
   "execution_count": 13,
   "id": "6d67f9f3",
   "metadata": {},
   "outputs": [],
   "source": [
    "a = [10, 20, 30, 40, 50, 60, 30, 30, 40, 50, 30]"
   ]
  },
  {
   "cell_type": "code",
   "execution_count": 14,
   "id": "9a889477",
   "metadata": {},
   "outputs": [
    {
     "data": {
      "text/plain": [
       "2"
      ]
     },
     "execution_count": 14,
     "metadata": {},
     "output_type": "execute_result"
    }
   ],
   "source": [
    "a.index(30)"
   ]
  },
  {
   "cell_type": "code",
   "execution_count": 15,
   "id": "d006ec5a",
   "metadata": {},
   "outputs": [
    {
     "data": {
      "text/plain": [
       "'\\nQuestion 2 (HOMEWORK) -\\nWrite a python function which prints a list of indexes \\nof all the occurences of a certain element within the parent list.\\n\\nINPUT = [10,20,30,30,40], target = 30\\nOUTPUT = [2,3]\\n'"
      ]
     },
     "execution_count": 15,
     "metadata": {},
     "output_type": "execute_result"
    }
   ],
   "source": [
    "'''\n",
    "Question 2 (HOMEWORK) -\n",
    "Write a python function which prints a list of indexes \n",
    "of all the occurences of a certain element within the parent list.\n",
    "\n",
    "INPUT = [10,20,30,30,40], target = 30\n",
    "OUTPUT = [2,3]\n",
    "'''"
   ]
  },
  {
   "cell_type": "code",
   "execution_count": 16,
   "id": "ccaa2278",
   "metadata": {},
   "outputs": [],
   "source": [
    "a = [[1,2,3], [4,5,6], [7,8,9], [10,12,14]]"
   ]
  },
  {
   "cell_type": "code",
   "execution_count": 19,
   "id": "8972ba0f",
   "metadata": {},
   "outputs": [
    {
     "data": {
      "text/plain": [
       "[7, 8, 9]"
      ]
     },
     "execution_count": 19,
     "metadata": {},
     "output_type": "execute_result"
    }
   ],
   "source": [
    "a[2]"
   ]
  },
  {
   "cell_type": "code",
   "execution_count": 20,
   "id": "057e5d9c",
   "metadata": {},
   "outputs": [
    {
     "data": {
      "text/plain": [
       "5"
      ]
     },
     "execution_count": 20,
     "metadata": {},
     "output_type": "execute_result"
    }
   ],
   "source": [
    "a[1][1]"
   ]
  },
  {
   "cell_type": "code",
   "execution_count": 21,
   "id": "2e3edc16",
   "metadata": {},
   "outputs": [],
   "source": [
    "rows = len(a)"
   ]
  },
  {
   "cell_type": "code",
   "execution_count": 22,
   "id": "91dbb739",
   "metadata": {},
   "outputs": [
    {
     "data": {
      "text/plain": [
       "4"
      ]
     },
     "execution_count": 22,
     "metadata": {},
     "output_type": "execute_result"
    }
   ],
   "source": [
    "rows"
   ]
  },
  {
   "cell_type": "code",
   "execution_count": 23,
   "id": "7c40db51",
   "metadata": {},
   "outputs": [],
   "source": [
    "columns = len(a[0])"
   ]
  },
  {
   "cell_type": "code",
   "execution_count": 24,
   "id": "6a5df984",
   "metadata": {},
   "outputs": [
    {
     "data": {
      "text/plain": [
       "3"
      ]
     },
     "execution_count": 24,
     "metadata": {},
     "output_type": "execute_result"
    }
   ],
   "source": [
    "columns"
   ]
  },
  {
   "cell_type": "code",
   "execution_count": 25,
   "id": "75d3f938",
   "metadata": {},
   "outputs": [
    {
     "name": "stdout",
     "output_type": "stream",
     "text": [
      "1 2 3 \n",
      "4 5 6 \n",
      "7 8 9 \n",
      "10 12 14 \n"
     ]
    }
   ],
   "source": [
    "# ITERATION - MATRIX\n",
    "rows = len(a)\n",
    "columns = len(a[0])\n",
    "\n",
    "for i in range(rows):\n",
    "    for j in range(columns):\n",
    "        print(a[i][j], end = \" \")\n",
    "        \n",
    "    print()"
   ]
  },
  {
   "cell_type": "code",
   "execution_count": 29,
   "id": "c0736f49",
   "metadata": {},
   "outputs": [
    {
     "name": "stdout",
     "output_type": "stream",
     "text": [
      "1 2 3 \n",
      "4 5 6 \n",
      "7 8 9 \n",
      "10 12 14 \n"
     ]
    }
   ],
   "source": [
    "# ITERATION - ANY 2D LIST\n",
    "\n",
    "for inner_list in a:\n",
    "    for element in inner_list:\n",
    "        print(element, end = \" \")\n",
    "        \n",
    "    print()"
   ]
  },
  {
   "cell_type": "code",
   "execution_count": 33,
   "id": "c2e6bd13",
   "metadata": {},
   "outputs": [],
   "source": [
    "b = [[1,2,3], [4,5,10], [7,8,9,10,11]]"
   ]
  },
  {
   "cell_type": "code",
   "execution_count": 34,
   "id": "e08ee0e1",
   "metadata": {},
   "outputs": [
    {
     "name": "stdout",
     "output_type": "stream",
     "text": [
      "1 2 3 \n",
      "4 5 10 \n",
      "7 8 9 \n"
     ]
    }
   ],
   "source": [
    "rows = len(b)\n",
    "columns = len(b[0])\n",
    "\n",
    "for i in range(rows):\n",
    "    for j in range(columns):\n",
    "        print(b[i][j], end = \" \")\n",
    "        \n",
    "    print()"
   ]
  },
  {
   "cell_type": "code",
   "execution_count": 35,
   "id": "50bb8536",
   "metadata": {},
   "outputs": [
    {
     "name": "stdout",
     "output_type": "stream",
     "text": [
      "1 2 3 \n",
      "4 5 10 \n",
      "7 8 9 10 11 \n"
     ]
    }
   ],
   "source": [
    "for inner_list in b:\n",
    "    for element in inner_list:\n",
    "        print(element, end = \" \")\n",
    "        \n",
    "    print()"
   ]
  },
  {
   "cell_type": "code",
   "execution_count": 47,
   "id": "2a4036bd",
   "metadata": {},
   "outputs": [],
   "source": [
    "def check_matrix(matrix):\n",
    "    is_matrix = True\n",
    "    \n",
    "    for i in range(len(matrix) - 1):\n",
    "        if len(matrix[i]) != len(matrix[i + 1]):\n",
    "            is_matrix = False\n",
    "            break\n",
    "            \n",
    "    return is_matrix"
   ]
  },
  {
   "cell_type": "code",
   "execution_count": 48,
   "id": "04620c2f",
   "metadata": {},
   "outputs": [
    {
     "data": {
      "text/plain": [
       "[[1, 2, 3], [4, 5, 6], [7, 8, 9], [10, 12, 14]]"
      ]
     },
     "execution_count": 48,
     "metadata": {},
     "output_type": "execute_result"
    }
   ],
   "source": [
    "a"
   ]
  },
  {
   "cell_type": "code",
   "execution_count": 49,
   "id": "0ef4bfb6",
   "metadata": {},
   "outputs": [
    {
     "data": {
      "text/plain": [
       "[[1, 2, 3], [4, 5, 10], [7, 8, 9, 10, 11]]"
      ]
     },
     "execution_count": 49,
     "metadata": {},
     "output_type": "execute_result"
    }
   ],
   "source": [
    "b"
   ]
  },
  {
   "cell_type": "code",
   "execution_count": 50,
   "id": "6d8871ad",
   "metadata": {},
   "outputs": [
    {
     "data": {
      "text/plain": [
       "True"
      ]
     },
     "execution_count": 50,
     "metadata": {},
     "output_type": "execute_result"
    }
   ],
   "source": [
    "check_matrix(a)"
   ]
  },
  {
   "cell_type": "code",
   "execution_count": 51,
   "id": "e9949889",
   "metadata": {},
   "outputs": [
    {
     "data": {
      "text/plain": [
       "False"
      ]
     },
     "execution_count": 51,
     "metadata": {},
     "output_type": "execute_result"
    }
   ],
   "source": [
    "check_matrix(b)"
   ]
  },
  {
   "cell_type": "code",
   "execution_count": 71,
   "id": "92a5626a",
   "metadata": {},
   "outputs": [
    {
     "data": {
      "text/plain": [
       "'\\nQuestion 3 - \\nTake a 3X3 matrix as an input from the user.\\nGiven this matrix.\\n1. Calculate the sum of all the elements in the matrix\\n2. Calculate the sum of each row\\n3. Calculate the sum of each column (HOMEWORK!)\\n'"
      ]
     },
     "execution_count": 71,
     "metadata": {},
     "output_type": "execute_result"
    }
   ],
   "source": [
    "'''\n",
    "Question 3 - \n",
    "Take a 3X3 matrix as an input from the user.\n",
    "Given this matrix.\n",
    "1. Calculate the sum of all the elements in the matrix\n",
    "2. Calculate the sum of each row\n",
    "3. Calculate the sum of each column (HOMEWORK!)\n",
    "'''"
   ]
  },
  {
   "cell_type": "code",
   "execution_count": 53,
   "id": "558435ae",
   "metadata": {},
   "outputs": [
    {
     "name": "stdout",
     "output_type": "stream",
     "text": [
      "5\n",
      "10\n",
      "15\n"
     ]
    }
   ],
   "source": [
    "row = []\n",
    "\n",
    "for i in range(3):\n",
    "    row.append(int(input()))"
   ]
  },
  {
   "cell_type": "code",
   "execution_count": 54,
   "id": "1b33b40d",
   "metadata": {},
   "outputs": [
    {
     "data": {
      "text/plain": [
       "[5, 10, 15]"
      ]
     },
     "execution_count": 54,
     "metadata": {},
     "output_type": "execute_result"
    }
   ],
   "source": [
    "row"
   ]
  },
  {
   "cell_type": "code",
   "execution_count": 55,
   "id": "768224cf",
   "metadata": {},
   "outputs": [
    {
     "name": "stdout",
     "output_type": "stream",
     "text": [
      "1\n",
      "2\n",
      "3\n",
      "4\n",
      "5\n",
      "6\n",
      "7\n",
      "8\n",
      "9\n"
     ]
    }
   ],
   "source": [
    "matrix = []\n",
    "\n",
    "for i in range(3):\n",
    "    row = []\n",
    "\n",
    "    for j in range(3):\n",
    "        row.append(int(input()))\n",
    "        \n",
    "    matrix.append(row)"
   ]
  },
  {
   "cell_type": "code",
   "execution_count": 59,
   "id": "8a5c1a75",
   "metadata": {},
   "outputs": [
    {
     "data": {
      "text/plain": [
       "[[1, 2, 3], [4, 5, 6], [7, 8, 9]]"
      ]
     },
     "execution_count": 59,
     "metadata": {},
     "output_type": "execute_result"
    }
   ],
   "source": [
    "matrix"
   ]
  },
  {
   "cell_type": "code",
   "execution_count": 57,
   "id": "b3b85723",
   "metadata": {},
   "outputs": [],
   "source": [
    "def generate_matrix(rows, columns):\n",
    "    matrix = []\n",
    "    \n",
    "    for i in range(rows):\n",
    "        row = []\n",
    "        \n",
    "        for j in range(columns):\n",
    "            message = \"Please input element at \" + str(i) + \",\" + str(j) + \" - \"\n",
    "            row.append(int(input(message)))\n",
    "            \n",
    "        matrix.append(row)\n",
    "    \n",
    "    return matrix"
   ]
  },
  {
   "cell_type": "code",
   "execution_count": 58,
   "id": "94a7433d",
   "metadata": {},
   "outputs": [
    {
     "name": "stdout",
     "output_type": "stream",
     "text": [
      "Please input element at 0,0 - 1\n",
      "Please input element at 0,1 - 2\n",
      "Please input element at 1,0 - 3\n",
      "Please input element at 1,1 - 4\n",
      "Please input element at 2,0 - 5\n",
      "Please input element at 2,1 - 6\n"
     ]
    },
    {
     "data": {
      "text/plain": [
       "[[1, 2], [3, 4], [5, 6]]"
      ]
     },
     "execution_count": 58,
     "metadata": {},
     "output_type": "execute_result"
    }
   ],
   "source": [
    "generate_matrix(3,2)"
   ]
  },
  {
   "cell_type": "code",
   "execution_count": 63,
   "id": "1504fbf5",
   "metadata": {},
   "outputs": [
    {
     "data": {
      "text/plain": [
       "[[1, 2, 3], [4, 5, 6], [7, 8, 9]]"
      ]
     },
     "execution_count": 63,
     "metadata": {},
     "output_type": "execute_result"
    }
   ],
   "source": [
    "matrix"
   ]
  },
  {
   "cell_type": "code",
   "execution_count": 64,
   "id": "92d673ea",
   "metadata": {},
   "outputs": [],
   "source": [
    "sum_all = 0\n",
    "\n",
    "for inner_list in matrix:\n",
    "    for element in inner_list:\n",
    "        sum_all += element"
   ]
  },
  {
   "cell_type": "code",
   "execution_count": 65,
   "id": "5e8a3017",
   "metadata": {},
   "outputs": [
    {
     "data": {
      "text/plain": [
       "45"
      ]
     },
     "execution_count": 65,
     "metadata": {},
     "output_type": "execute_result"
    }
   ],
   "source": [
    "sum_all"
   ]
  },
  {
   "cell_type": "code",
   "execution_count": 66,
   "id": "07e14ea7",
   "metadata": {},
   "outputs": [],
   "source": [
    "def sum_each_row(matrix):\n",
    "    rows = len(matrix)\n",
    "    columns = len(matrix[0])\n",
    "    \n",
    "    for i in range(rows):\n",
    "        print(\"Going over row\", i, \"-\")\n",
    "        \n",
    "        sum_row = 0\n",
    "        for j in range(columns):\n",
    "            sum_row += matrix[i][j]\n",
    "            \n",
    "        print(\"Sum of row\", i, \"=\", sum_row)\n",
    "        print(\"-\"*25)"
   ]
  },
  {
   "cell_type": "code",
   "execution_count": 68,
   "id": "3113baba",
   "metadata": {},
   "outputs": [
    {
     "name": "stdout",
     "output_type": "stream",
     "text": [
      "Going over row 0 -\n",
      "Sum of row 0 = 6\n",
      "-------------------------\n",
      "Going over row 1 -\n",
      "Sum of row 1 = 15\n",
      "-------------------------\n",
      "Going over row 2 -\n",
      "Sum of row 2 = 24\n",
      "-------------------------\n"
     ]
    }
   ],
   "source": [
    "sum_each_row(matrix)"
   ]
  },
  {
   "cell_type": "code",
   "execution_count": 69,
   "id": "01e04629",
   "metadata": {},
   "outputs": [],
   "source": [
    "def sum_each_row(matrix):\n",
    "    i = 1\n",
    "    for row in matrix:\n",
    "        sum_row = 0\n",
    "        \n",
    "        for element in row:\n",
    "            sum_row += element\n",
    "            \n",
    "        print(\"Sum of row\", i, \"=\", sum_row)\n",
    "        print(\"-\"*25)\n",
    "        \n",
    "        i += 1"
   ]
  },
  {
   "cell_type": "code",
   "execution_count": 70,
   "id": "6720f961",
   "metadata": {},
   "outputs": [
    {
     "name": "stdout",
     "output_type": "stream",
     "text": [
      "Sum of row 1 = 6\n",
      "-------------------------\n",
      "Sum of row 2 = 15\n",
      "-------------------------\n",
      "Sum of row 3 = 24\n",
      "-------------------------\n"
     ]
    }
   ],
   "source": [
    "sum_each_row(matrix)"
   ]
  },
  {
   "cell_type": "code",
   "execution_count": null,
   "id": "cc83894f",
   "metadata": {},
   "outputs": [],
   "source": []
  }
 ],
 "metadata": {
  "kernelspec": {
   "display_name": "Python 3 (ipykernel)",
   "language": "python",
   "name": "python3"
  },
  "language_info": {
   "codemirror_mode": {
    "name": "ipython",
    "version": 3
   },
   "file_extension": ".py",
   "mimetype": "text/x-python",
   "name": "python",
   "nbconvert_exporter": "python",
   "pygments_lexer": "ipython3",
   "version": "3.9.5"
  }
 },
 "nbformat": 4,
 "nbformat_minor": 5
}
