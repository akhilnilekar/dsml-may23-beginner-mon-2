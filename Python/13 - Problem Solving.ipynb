{
 "cells": [
  {
   "cell_type": "code",
   "execution_count": 3,
   "id": "cbb822dd",
   "metadata": {},
   "outputs": [
    {
     "name": "stdout",
     "output_type": "stream",
     "text": [
      "456\n",
      "456\n"
     ]
    }
   ],
   "source": [
    "x = 123\n",
    "\n",
    "def random():\n",
    "    global x\n",
    "    x = 456\n",
    "    print(x)\n",
    "    \n",
    "random()\n",
    "print(x)"
   ]
  },
  {
   "cell_type": "code",
   "execution_count": 6,
   "id": "b229ce55",
   "metadata": {},
   "outputs": [
    {
     "name": "stdout",
     "output_type": "stream",
     "text": [
      "1,2,2"
     ]
    }
   ],
   "source": [
    "x = 1\n",
    "\n",
    "def foo():\n",
    "    global x\n",
    "    print(x, end=\",\")\n",
    "    x = 2\n",
    "    print(x, end=\",\")   \n",
    "    \n",
    "foo()\n",
    "print(x, end=\"\")"
   ]
  },
  {
   "cell_type": "code",
   "execution_count": 10,
   "id": "2ce3b284",
   "metadata": {},
   "outputs": [
    {
     "name": "stdout",
     "output_type": "stream",
     "text": [
      "hello world\n"
     ]
    },
    {
     "ename": "NameError",
     "evalue": "name 'abc' is not defined",
     "output_type": "error",
     "traceback": [
      "\u001b[0;31m---------------------------------------------------------------------------\u001b[0m",
      "\u001b[0;31mNameError\u001b[0m                                 Traceback (most recent call last)",
      "Cell \u001b[0;32mIn[10], line 8\u001b[0m\n\u001b[1;32m      6\u001b[0m random \u001b[38;5;241m=\u001b[39m foo()\n\u001b[1;32m      7\u001b[0m \u001b[38;5;28mprint\u001b[39m(random)\n\u001b[0;32m----> 8\u001b[0m \u001b[38;5;28mprint\u001b[39m(\u001b[43mabc\u001b[49m)\n",
      "\u001b[0;31mNameError\u001b[0m: name 'abc' is not defined"
     ]
    }
   ],
   "source": [
    "def foo():\n",
    "    abc = \"hello world\"\n",
    "    \n",
    "    return abc\n",
    "    \n",
    "random = foo()\n",
    "print(random)\n",
    "print(abc)"
   ]
  },
  {
   "cell_type": "code",
   "execution_count": 11,
   "id": "412bffc3",
   "metadata": {},
   "outputs": [],
   "source": [
    "a = [1,2,3,4,5]"
   ]
  },
  {
   "cell_type": "code",
   "execution_count": 12,
   "id": "ab121078",
   "metadata": {},
   "outputs": [],
   "source": [
    "b = a.copy()"
   ]
  },
  {
   "cell_type": "code",
   "execution_count": 13,
   "id": "b7876a92",
   "metadata": {},
   "outputs": [
    {
     "data": {
      "text/plain": [
       "140541274056256"
      ]
     },
     "execution_count": 13,
     "metadata": {},
     "output_type": "execute_result"
    }
   ],
   "source": [
    "id(a)"
   ]
  },
  {
   "cell_type": "code",
   "execution_count": 14,
   "id": "da42b200",
   "metadata": {},
   "outputs": [
    {
     "data": {
      "text/plain": [
       "140541274107840"
      ]
     },
     "execution_count": 14,
     "metadata": {},
     "output_type": "execute_result"
    }
   ],
   "source": [
    "id(b)"
   ]
  },
  {
   "cell_type": "code",
   "execution_count": 16,
   "id": "d75aaa2d",
   "metadata": {},
   "outputs": [
    {
     "data": {
      "text/plain": [
       "'\\nA -> Average cases recovered per day\\nB -> New cases per day\\nC -> Current active cases\\n'"
      ]
     },
     "execution_count": 16,
     "metadata": {},
     "output_type": "execute_result"
    }
   ],
   "source": [
    "\"\"\"\n",
    "A -> Average cases recovered per day\n",
    "B -> New cases per day\n",
    "C -> Current active cases\n",
    "\"\"\""
   ]
  },
  {
   "cell_type": "code",
   "execution_count": 17,
   "id": "a7dac777",
   "metadata": {},
   "outputs": [],
   "source": [
    "def corona_cases(new, recovered, current):\n",
    "    day_count = 0\n",
    "    \n",
    "    while current > 0:\n",
    "        day_count += 1\n",
    "        current = current + new - recovered\n",
    "        \n",
    "    return day_count"
   ]
  },
  {
   "cell_type": "code",
   "execution_count": 18,
   "id": "8ab0204c",
   "metadata": {},
   "outputs": [
    {
     "data": {
      "text/plain": [
       "10"
      ]
     },
     "execution_count": 18,
     "metadata": {},
     "output_type": "execute_result"
    }
   ],
   "source": [
    "corona_cases(5, 6, 10)"
   ]
  },
  {
   "cell_type": "code",
   "execution_count": 73,
   "id": "ea586376",
   "metadata": {},
   "outputs": [],
   "source": [
    "def corona_cases(new, recovered, current):\n",
    "    if new >= recovered:\n",
    "        return \"NOT POSSIBLE!\"\n",
    "    \n",
    "    x = current / (recovered - new)\n",
    "    \n",
    "    return (x // 1) + 1"
   ]
  },
  {
   "cell_type": "code",
   "execution_count": 72,
   "id": "f2ddf922",
   "metadata": {},
   "outputs": [
    {
     "name": "stdout",
     "output_type": "stream",
     "text": [
      "1.0\n",
      "NOT POSSIBLE!\n"
     ]
    }
   ],
   "source": [
    "print(corona_cases(3,5,1))\n",
    "print(corona_cases(4,3,2))"
   ]
  },
  {
   "cell_type": "code",
   "execution_count": null,
   "id": "ce8b5bfc",
   "metadata": {},
   "outputs": [],
   "source": []
  },
  {
   "cell_type": "code",
   "execution_count": 28,
   "id": "52a9493f",
   "metadata": {},
   "outputs": [
    {
     "data": {
      "text/plain": [
       "6.0"
      ]
     },
     "execution_count": 28,
     "metadata": {},
     "output_type": "execute_result"
    }
   ],
   "source": [
    "corona_cases(3, 5, 10)"
   ]
  },
  {
   "cell_type": "code",
   "execution_count": 24,
   "id": "3ec15ebe",
   "metadata": {},
   "outputs": [
    {
     "data": {
      "text/plain": [
       "46.0"
      ]
     },
     "execution_count": 24,
     "metadata": {},
     "output_type": "execute_result"
    }
   ],
   "source": [
    "(45.88 // 1) + 1"
   ]
  },
  {
   "cell_type": "code",
   "execution_count": 25,
   "id": "deb2006e",
   "metadata": {},
   "outputs": [
    {
     "data": {
      "text/plain": [
       "45.0"
      ]
     },
     "execution_count": 25,
     "metadata": {},
     "output_type": "execute_result"
    }
   ],
   "source": [
    "45.891 // 1"
   ]
  },
  {
   "cell_type": "code",
   "execution_count": 27,
   "id": "f6d66b36",
   "metadata": {},
   "outputs": [],
   "source": [
    "import math"
   ]
  },
  {
   "cell_type": "code",
   "execution_count": 29,
   "id": "9229037c",
   "metadata": {},
   "outputs": [],
   "source": [
    "string = \"this is a random string\""
   ]
  },
  {
   "cell_type": "code",
   "execution_count": 30,
   "id": "83822f4c",
   "metadata": {},
   "outputs": [
    {
     "data": {
      "text/plain": [
       "['this', 'is', 'a', 'random', 'string']"
      ]
     },
     "execution_count": 30,
     "metadata": {},
     "output_type": "execute_result"
    }
   ],
   "source": [
    "string.split(\" \")"
   ]
  },
  {
   "cell_type": "code",
   "execution_count": 31,
   "id": "329e3d4c",
   "metadata": {},
   "outputs": [
    {
     "name": "stdout",
     "output_type": "stream",
     "text": [
      "5 6 18 90 56 4 3 2 1 10 20\n"
     ]
    }
   ],
   "source": [
    "user_input = input()"
   ]
  },
  {
   "cell_type": "code",
   "execution_count": 33,
   "id": "2c99cf0b",
   "metadata": {},
   "outputs": [
    {
     "data": {
      "text/plain": [
       "'5 6 18 90 56 4 3 2 1 10 20'"
      ]
     },
     "execution_count": 33,
     "metadata": {},
     "output_type": "execute_result"
    }
   ],
   "source": [
    "user_input"
   ]
  },
  {
   "cell_type": "code",
   "execution_count": 34,
   "id": "f50b2f58",
   "metadata": {},
   "outputs": [],
   "source": [
    "user_input = user_input.split(\" \")"
   ]
  },
  {
   "cell_type": "code",
   "execution_count": 35,
   "id": "22a5a996",
   "metadata": {},
   "outputs": [
    {
     "data": {
      "text/plain": [
       "['5', '6', '18', '90', '56', '4', '3', '2', '1', '10', '20']"
      ]
     },
     "execution_count": 35,
     "metadata": {},
     "output_type": "execute_result"
    }
   ],
   "source": [
    "user_input"
   ]
  },
  {
   "cell_type": "code",
   "execution_count": 36,
   "id": "2dc14e2f",
   "metadata": {},
   "outputs": [],
   "source": [
    "final_input = []\n",
    "\n",
    "for i in user_input:\n",
    "    final_input.append(int(i))"
   ]
  },
  {
   "cell_type": "code",
   "execution_count": 38,
   "id": "8836a4ee",
   "metadata": {},
   "outputs": [
    {
     "data": {
      "text/plain": [
       "[5, 6, 18, 90, 56, 4, 3, 2, 1, 10, 20]"
      ]
     },
     "execution_count": 38,
     "metadata": {},
     "output_type": "execute_result"
    }
   ],
   "source": [
    "final_input"
   ]
  },
  {
   "cell_type": "code",
   "execution_count": 49,
   "id": "dbfbd038",
   "metadata": {},
   "outputs": [
    {
     "name": "stdout",
     "output_type": "stream",
     "text": [
      "4 5 6 7\n"
     ]
    },
    {
     "data": {
      "text/plain": [
       "[4, 5, 6, 7]"
      ]
     },
     "execution_count": 49,
     "metadata": {},
     "output_type": "execute_result"
    }
   ],
   "source": [
    "# TAKING A LIST OF NUMBERS AS INPUT\n",
    "\n",
    "user_input = input() # Takes a string as input\n",
    "\n",
    "user_input = user_input.split(\" \") # Converts the input string to a list of strings delimited at space\n",
    "\n",
    "final_input = []\n",
    "\n",
    "for i in user_input: # Iterates over the list and stores int values inside strings in a new list\n",
    "    final_input.append(int(i))\n",
    "    \n",
    "final_input"
   ]
  },
  {
   "cell_type": "code",
   "execution_count": 44,
   "id": "23d408d3",
   "metadata": {},
   "outputs": [
    {
     "name": "stdout",
     "output_type": "stream",
     "text": [
      "4 5 6 7\n"
     ]
    }
   ],
   "source": [
    "user_input = input().split()"
   ]
  },
  {
   "cell_type": "code",
   "execution_count": 46,
   "id": "408866ca",
   "metadata": {},
   "outputs": [
    {
     "data": {
      "text/plain": [
       "['4', '5', '6', '7']"
      ]
     },
     "execution_count": 46,
     "metadata": {},
     "output_type": "execute_result"
    }
   ],
   "source": [
    "user_input"
   ]
  },
  {
   "cell_type": "code",
   "execution_count": 47,
   "id": "f4703af7",
   "metadata": {},
   "outputs": [
    {
     "name": "stdout",
     "output_type": "stream",
     "text": [
      "4 5 6 7\n"
     ]
    }
   ],
   "source": [
    "user_input = list(input().split())"
   ]
  },
  {
   "cell_type": "code",
   "execution_count": 48,
   "id": "79057adf",
   "metadata": {},
   "outputs": [
    {
     "data": {
      "text/plain": [
       "['4', '5', '6', '7']"
      ]
     },
     "execution_count": 48,
     "metadata": {},
     "output_type": "execute_result"
    }
   ],
   "source": [
    "user_input"
   ]
  },
  {
   "cell_type": "code",
   "execution_count": 51,
   "id": "05231ca0",
   "metadata": {},
   "outputs": [
    {
     "data": {
      "text/plain": [
       "True"
      ]
     },
     "execution_count": 51,
     "metadata": {},
     "output_type": "execute_result"
    }
   ],
   "source": [
    "4 % 2 == 0"
   ]
  },
  {
   "cell_type": "code",
   "execution_count": 52,
   "id": "0aea5231",
   "metadata": {},
   "outputs": [],
   "source": [
    "a = [4,5,6,7,8,9,10,11,12]"
   ]
  },
  {
   "cell_type": "code",
   "execution_count": 53,
   "id": "b59a5c58",
   "metadata": {},
   "outputs": [],
   "source": [
    "for i in a:\n",
    "    if i % 2 == 0:\n",
    "        a.remove(i)"
   ]
  },
  {
   "cell_type": "code",
   "execution_count": 54,
   "id": "b7312202",
   "metadata": {},
   "outputs": [
    {
     "data": {
      "text/plain": [
       "[5, 7, 9, 11]"
      ]
     },
     "execution_count": 54,
     "metadata": {},
     "output_type": "execute_result"
    }
   ],
   "source": [
    "a"
   ]
  },
  {
   "cell_type": "code",
   "execution_count": 55,
   "id": "e07ceeb8",
   "metadata": {},
   "outputs": [
    {
     "data": {
      "text/plain": [
       "[5, 7, 9, 11]"
      ]
     },
     "execution_count": 55,
     "metadata": {},
     "output_type": "execute_result"
    }
   ],
   "source": [
    "a = [4,5,6,7,8,9,10,11,12]\n",
    "\n",
    "for i in a:\n",
    "    if i % 2 != 1:\n",
    "        a.remove(i)\n",
    "\n",
    "a"
   ]
  },
  {
   "cell_type": "code",
   "execution_count": 58,
   "id": "8d99899a",
   "metadata": {},
   "outputs": [
    {
     "name": "stdout",
     "output_type": "stream",
     "text": [
      "[4, 5, 6, 7, 8, 9, 10, 11, 12]\n",
      "[5, 7, 9, 11]\n"
     ]
    }
   ],
   "source": [
    "a = [4,5,6,7,8,9,10,11,12]\n",
    "b = []\n",
    "\n",
    "for i in a:\n",
    "    if i % 2 != 0:\n",
    "        b.append(i)\n",
    "\n",
    "print(a)\n",
    "print(b)"
   ]
  },
  {
   "cell_type": "code",
   "execution_count": 59,
   "id": "651e9a32",
   "metadata": {},
   "outputs": [
    {
     "data": {
      "text/plain": [
       "'\\nWrite a program to input N numbers array, \\na number X and a number Y from user and insert \\nan element Y in it at specified position X. \\nX is based on 1-based indexing \\n\\nNote: When an element is inserted at position X, \\nall elements that were already present at position >= X, \\ngets shifted to one position right, not replaced.\\n'"
      ]
     },
     "execution_count": 59,
     "metadata": {},
     "output_type": "execute_result"
    }
   ],
   "source": [
    "'''\n",
    "Write a program to input N numbers array, \n",
    "a number X and a number Y from user and insert \n",
    "an element Y in it at specified position X. \n",
    "X is based on 1-based indexing \n",
    "\n",
    "Note: When an element is inserted at position X, \n",
    "all elements that were already present at position >= X, \n",
    "gets shifted to one position right, not replaced.\n",
    "'''"
   ]
  },
  {
   "cell_type": "code",
   "execution_count": 60,
   "id": "18188ae2",
   "metadata": {},
   "outputs": [
    {
     "name": "stdout",
     "output_type": "stream",
     "text": [
      "5 6 7 8 9 10 3 4 5\n"
     ]
    },
    {
     "data": {
      "text/plain": [
       "[5, 6, 7, 8, 9, 10, 3, 4, 5]"
      ]
     },
     "execution_count": 60,
     "metadata": {},
     "output_type": "execute_result"
    }
   ],
   "source": [
    "user_input = input() \n",
    "\n",
    "user_input = user_input.split(\" \") \n",
    "\n",
    "final_input = []\n",
    "\n",
    "for i in user_input: \n",
    "    final_input.append(int(i))\n",
    "    \n",
    "final_input"
   ]
  },
  {
   "cell_type": "code",
   "execution_count": 61,
   "id": "54753139",
   "metadata": {},
   "outputs": [
    {
     "name": "stdout",
     "output_type": "stream",
     "text": [
      "5\n",
      "5000\n"
     ]
    }
   ],
   "source": [
    "x = int(input())\n",
    "y = int(input())"
   ]
  },
  {
   "cell_type": "code",
   "execution_count": 62,
   "id": "10d63ac5",
   "metadata": {},
   "outputs": [],
   "source": [
    "final_input.insert(x-1, y)"
   ]
  },
  {
   "cell_type": "code",
   "execution_count": 63,
   "id": "fb2ae1a3",
   "metadata": {},
   "outputs": [
    {
     "data": {
      "text/plain": [
       "[5, 6, 7, 8, 5000, 9, 10, 3, 4, 5]"
      ]
     },
     "execution_count": 63,
     "metadata": {},
     "output_type": "execute_result"
    }
   ],
   "source": [
    "final_input"
   ]
  },
  {
   "cell_type": "code",
   "execution_count": 66,
   "id": "be6bfc92",
   "metadata": {},
   "outputs": [
    {
     "ename": "NameError",
     "evalue": "name 'n' is not defined",
     "output_type": "error",
     "traceback": [
      "\u001b[0;31m---------------------------------------------------------------------------\u001b[0m",
      "\u001b[0;31mNameError\u001b[0m                                 Traceback (most recent call last)",
      "Cell \u001b[0;32mIn[66], line 7\u001b[0m\n\u001b[1;32m      1\u001b[0m \u001b[38;5;28;01mdef\u001b[39;00m \u001b[38;5;21mcheck_prime\u001b[39m(num):\n\u001b[1;32m      2\u001b[0m     \u001b[38;5;66;03m# CODE FOR CHECKING PRIME NUMBER\u001b[39;00m\n\u001b[1;32m      3\u001b[0m     \u001b[38;5;66;03m# RETURN TRUE IF PRIME\u001b[39;00m\n\u001b[1;32m      4\u001b[0m     \u001b[38;5;66;03m# OTHERWISE RETURN FALSE\u001b[39;00m\n\u001b[1;32m      5\u001b[0m     \u001b[38;5;28;01mpass\u001b[39;00m\n\u001b[0;32m----> 7\u001b[0m \u001b[38;5;28;01mfor\u001b[39;00m i \u001b[38;5;129;01min\u001b[39;00m \u001b[38;5;28mrange\u001b[39m(\u001b[38;5;241m2\u001b[39m, \u001b[43mn\u001b[49m \u001b[38;5;241m+\u001b[39m \u001b[38;5;241m1\u001b[39m):\n\u001b[1;32m      8\u001b[0m     sum_prime \u001b[38;5;241m=\u001b[39m \u001b[38;5;241m0\u001b[39m\n\u001b[1;32m     10\u001b[0m     i_prime \u001b[38;5;241m=\u001b[39m check_prime(i)\n",
      "\u001b[0;31mNameError\u001b[0m: name 'n' is not defined"
     ]
    }
   ],
   "source": [
    "def check_prime(num):\n",
    "    # CODE FOR CHECKING PRIME NUMBER\n",
    "    # RETURN TRUE IF PRIME\n",
    "    # OTHERWISE RETURN FALSE\n",
    "    pass\n",
    "\n",
    "for i in range(2, n + 1):\n",
    "    sum_prime = 0\n",
    "    \n",
    "    i_prime = check_prime(i)\n",
    "    \n",
    "    if i_prime:\n",
    "        sum_prime += i\n",
    "        \n",
    "sum_prime"
   ]
  },
  {
   "cell_type": "code",
   "execution_count": 74,
   "id": "cdd6a50b",
   "metadata": {},
   "outputs": [
    {
     "name": "stdout",
     "output_type": "stream",
     "text": [
      "5 6 7 8 19\n"
     ]
    }
   ],
   "source": [
    "random = input()"
   ]
  },
  {
   "cell_type": "code",
   "execution_count": 75,
   "id": "e2c669f7",
   "metadata": {},
   "outputs": [
    {
     "data": {
      "text/plain": [
       "'5 6 7 8 19'"
      ]
     },
     "execution_count": 75,
     "metadata": {},
     "output_type": "execute_result"
    }
   ],
   "source": [
    "random"
   ]
  },
  {
   "cell_type": "code",
   "execution_count": 76,
   "id": "e49813d8",
   "metadata": {},
   "outputs": [
    {
     "ename": "ValueError",
     "evalue": "invalid literal for int() with base 10: '5 6 7 8 19'",
     "output_type": "error",
     "traceback": [
      "\u001b[0;31m---------------------------------------------------------------------------\u001b[0m",
      "\u001b[0;31mValueError\u001b[0m                                Traceback (most recent call last)",
      "Cell \u001b[0;32mIn[76], line 1\u001b[0m\n\u001b[0;32m----> 1\u001b[0m \u001b[38;5;28;43mint\u001b[39;49m\u001b[43m(\u001b[49m\u001b[43mrandom\u001b[49m\u001b[43m)\u001b[49m\n",
      "\u001b[0;31mValueError\u001b[0m: invalid literal for int() with base 10: '5 6 7 8 19'"
     ]
    }
   ],
   "source": [
    "int(random)"
   ]
  },
  {
   "cell_type": "code",
   "execution_count": 77,
   "id": "a7e49058",
   "metadata": {},
   "outputs": [],
   "source": [
    "random = random.split(\" \")"
   ]
  },
  {
   "cell_type": "code",
   "execution_count": 78,
   "id": "64404a63",
   "metadata": {},
   "outputs": [
    {
     "data": {
      "text/plain": [
       "['5', '6', '7', '8', '19']"
      ]
     },
     "execution_count": 78,
     "metadata": {},
     "output_type": "execute_result"
    }
   ],
   "source": [
    "random"
   ]
  },
  {
   "cell_type": "code",
   "execution_count": 79,
   "id": "9daaf4c4",
   "metadata": {},
   "outputs": [],
   "source": [
    "random1 = []\n",
    "\n",
    "for i in random:\n",
    "    random1.append(int(i))"
   ]
  },
  {
   "cell_type": "code",
   "execution_count": 80,
   "id": "4ba88944",
   "metadata": {},
   "outputs": [
    {
     "data": {
      "text/plain": [
       "[5, 6, 7, 8, 19]"
      ]
     },
     "execution_count": 80,
     "metadata": {},
     "output_type": "execute_result"
    }
   ],
   "source": [
    "random1"
   ]
  },
  {
   "cell_type": "code",
   "execution_count": null,
   "id": "d90ee688",
   "metadata": {},
   "outputs": [],
   "source": []
  }
 ],
 "metadata": {
  "kernelspec": {
   "display_name": "Python 3 (ipykernel)",
   "language": "python",
   "name": "python3"
  },
  "language_info": {
   "codemirror_mode": {
    "name": "ipython",
    "version": 3
   },
   "file_extension": ".py",
   "mimetype": "text/x-python",
   "name": "python",
   "nbconvert_exporter": "python",
   "pygments_lexer": "ipython3",
   "version": "3.9.5"
  }
 },
 "nbformat": 4,
 "nbformat_minor": 5
}
