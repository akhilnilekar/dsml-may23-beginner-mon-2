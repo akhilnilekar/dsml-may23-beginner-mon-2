{
 "cells": [
  {
   "cell_type": "markdown",
   "id": "ba571301",
   "metadata": {},
   "source": [
    "# COMPREHENSION"
   ]
  },
  {
   "cell_type": "code",
   "execution_count": 1,
   "id": "dc445c89",
   "metadata": {},
   "outputs": [],
   "source": [
    "# Create a list which contains the squares of all numbers from 1 to 10"
   ]
  },
  {
   "cell_type": "code",
   "execution_count": 6,
   "id": "e8ba1838",
   "metadata": {},
   "outputs": [],
   "source": [
    "squares1 = [] # 1. Create an empty list\n",
    "\n",
    "for i in range(1, 11): # 2. Loop\n",
    "    squares1.append(i ** 2) # 3. Value to be appended"
   ]
  },
  {
   "cell_type": "code",
   "execution_count": 7,
   "id": "ba257379",
   "metadata": {},
   "outputs": [
    {
     "data": {
      "text/plain": [
       "[1, 4, 9, 16, 25, 36, 49, 64, 81, 100]"
      ]
     },
     "execution_count": 7,
     "metadata": {},
     "output_type": "execute_result"
    }
   ],
   "source": [
    "squares1"
   ]
  },
  {
   "cell_type": "code",
   "execution_count": 8,
   "id": "41b4e53c",
   "metadata": {},
   "outputs": [],
   "source": [
    "squares2 = [ i ** 2 for i in range(1,11) ]"
   ]
  },
  {
   "cell_type": "code",
   "execution_count": 9,
   "id": "d4a56853",
   "metadata": {},
   "outputs": [
    {
     "data": {
      "text/plain": [
       "[1, 4, 9, 16, 25, 36, 49, 64, 81, 100]"
      ]
     },
     "execution_count": 9,
     "metadata": {},
     "output_type": "execute_result"
    }
   ],
   "source": [
    "squares2"
   ]
  },
  {
   "cell_type": "code",
   "execution_count": 10,
   "id": "de30a71b",
   "metadata": {},
   "outputs": [],
   "source": [
    "# Print the multiplication table of all numbers till 10"
   ]
  },
  {
   "cell_type": "code",
   "execution_count": 11,
   "id": "046af09c",
   "metadata": {},
   "outputs": [],
   "source": [
    "table = []\n",
    "\n",
    "for i in range(1, 11):\n",
    "    row = []\n",
    "    \n",
    "    for j in range(1, 11):\n",
    "        row.append(i * j)\n",
    "        \n",
    "    table.append(row)"
   ]
  },
  {
   "cell_type": "code",
   "execution_count": 12,
   "id": "8c1981c3",
   "metadata": {},
   "outputs": [
    {
     "data": {
      "text/plain": [
       "[[1, 2, 3, 4, 5, 6, 7, 8, 9, 10],\n",
       " [2, 4, 6, 8, 10, 12, 14, 16, 18, 20],\n",
       " [3, 6, 9, 12, 15, 18, 21, 24, 27, 30],\n",
       " [4, 8, 12, 16, 20, 24, 28, 32, 36, 40],\n",
       " [5, 10, 15, 20, 25, 30, 35, 40, 45, 50],\n",
       " [6, 12, 18, 24, 30, 36, 42, 48, 54, 60],\n",
       " [7, 14, 21, 28, 35, 42, 49, 56, 63, 70],\n",
       " [8, 16, 24, 32, 40, 48, 56, 64, 72, 80],\n",
       " [9, 18, 27, 36, 45, 54, 63, 72, 81, 90],\n",
       " [10, 20, 30, 40, 50, 60, 70, 80, 90, 100]]"
      ]
     },
     "execution_count": 12,
     "metadata": {},
     "output_type": "execute_result"
    }
   ],
   "source": [
    "table"
   ]
  },
  {
   "cell_type": "code",
   "execution_count": 22,
   "id": "3bf122e5",
   "metadata": {},
   "outputs": [],
   "source": [
    "table = [ [ i * j for j in range(1, 11) ] for i in range(1, 11) ]"
   ]
  },
  {
   "cell_type": "code",
   "execution_count": 23,
   "id": "c0c0f91a",
   "metadata": {},
   "outputs": [
    {
     "data": {
      "text/plain": [
       "[[1, 2, 3, 4, 5, 6, 7, 8, 9, 10],\n",
       " [2, 4, 6, 8, 10, 12, 14, 16, 18, 20],\n",
       " [3, 6, 9, 12, 15, 18, 21, 24, 27, 30],\n",
       " [4, 8, 12, 16, 20, 24, 28, 32, 36, 40],\n",
       " [5, 10, 15, 20, 25, 30, 35, 40, 45, 50],\n",
       " [6, 12, 18, 24, 30, 36, 42, 48, 54, 60],\n",
       " [7, 14, 21, 28, 35, 42, 49, 56, 63, 70],\n",
       " [8, 16, 24, 32, 40, 48, 56, 64, 72, 80],\n",
       " [9, 18, 27, 36, 45, 54, 63, 72, 81, 90],\n",
       " [10, 20, 30, 40, 50, 60, 70, 80, 90, 100]]"
      ]
     },
     "execution_count": 23,
     "metadata": {},
     "output_type": "execute_result"
    }
   ],
   "source": [
    "table"
   ]
  },
  {
   "cell_type": "markdown",
   "id": "417ab9a6",
   "metadata": {},
   "source": [
    "# MODULES"
   ]
  },
  {
   "cell_type": "code",
   "execution_count": 24,
   "id": "ed91aaae",
   "metadata": {},
   "outputs": [],
   "source": [
    "# First way of importing"
   ]
  },
  {
   "cell_type": "code",
   "execution_count": 25,
   "id": "00b0c40b",
   "metadata": {},
   "outputs": [],
   "source": [
    "import math"
   ]
  },
  {
   "cell_type": "code",
   "execution_count": 26,
   "id": "370969cf",
   "metadata": {},
   "outputs": [
    {
     "data": {
      "text/plain": [
       "120"
      ]
     },
     "execution_count": 26,
     "metadata": {},
     "output_type": "execute_result"
    }
   ],
   "source": [
    "math.factorial(5)"
   ]
  },
  {
   "cell_type": "code",
   "execution_count": 27,
   "id": "2fcddd2d",
   "metadata": {},
   "outputs": [
    {
     "data": {
      "text/plain": [
       "6"
      ]
     },
     "execution_count": 27,
     "metadata": {},
     "output_type": "execute_result"
    }
   ],
   "source": [
    "math.ceil(5.5)"
   ]
  },
  {
   "cell_type": "code",
   "execution_count": 28,
   "id": "5ede53ac",
   "metadata": {},
   "outputs": [
    {
     "data": {
      "text/plain": [
       "5"
      ]
     },
     "execution_count": 28,
     "metadata": {},
     "output_type": "execute_result"
    }
   ],
   "source": [
    "math.floor(5.6)"
   ]
  },
  {
   "cell_type": "code",
   "execution_count": 29,
   "id": "f0e28c97",
   "metadata": {},
   "outputs": [
    {
     "data": {
      "text/plain": [
       "3.141592653589793"
      ]
     },
     "execution_count": 29,
     "metadata": {},
     "output_type": "execute_result"
    }
   ],
   "source": [
    "math.pi"
   ]
  },
  {
   "cell_type": "code",
   "execution_count": 31,
   "id": "973a748f",
   "metadata": {},
   "outputs": [],
   "source": [
    "# help(math)"
   ]
  },
  {
   "cell_type": "code",
   "execution_count": 32,
   "id": "fd31ddff",
   "metadata": {},
   "outputs": [
    {
     "data": {
      "text/plain": [
       "'\\nPorblems with this import method - \\n    - Unnecessary code imported. Makes file bulky.\\n    - Having to write math. every single time.\\n'"
      ]
     },
     "execution_count": 32,
     "metadata": {},
     "output_type": "execute_result"
    }
   ],
   "source": [
    "'''\n",
    "Porblems with this import method - \n",
    "    - Unnecessary code imported. Makes file bulky.\n",
    "    - Having to write math. every single time.\n",
    "'''"
   ]
  },
  {
   "cell_type": "code",
   "execution_count": 38,
   "id": "cf02fe96",
   "metadata": {},
   "outputs": [],
   "source": [
    "# Second way of importing\n",
    "# BEST WAY OF IMPORTING"
   ]
  },
  {
   "cell_type": "code",
   "execution_count": 39,
   "id": "f449f591",
   "metadata": {},
   "outputs": [],
   "source": [
    "from math import factorial, ceil, floor"
   ]
  },
  {
   "cell_type": "code",
   "execution_count": 40,
   "id": "de018491",
   "metadata": {},
   "outputs": [
    {
     "data": {
      "text/plain": [
       "120"
      ]
     },
     "execution_count": 40,
     "metadata": {},
     "output_type": "execute_result"
    }
   ],
   "source": [
    "factorial(5)"
   ]
  },
  {
   "cell_type": "code",
   "execution_count": 41,
   "id": "d0e06736",
   "metadata": {},
   "outputs": [
    {
     "data": {
      "text/plain": [
       "6"
      ]
     },
     "execution_count": 41,
     "metadata": {},
     "output_type": "execute_result"
    }
   ],
   "source": [
    "ceil(5.5)"
   ]
  },
  {
   "cell_type": "code",
   "execution_count": 42,
   "id": "8641073d",
   "metadata": {},
   "outputs": [
    {
     "data": {
      "text/plain": [
       "5"
      ]
     },
     "execution_count": 42,
     "metadata": {},
     "output_type": "execute_result"
    }
   ],
   "source": [
    "floor(5.6)"
   ]
  },
  {
   "cell_type": "code",
   "execution_count": 48,
   "id": "77223efe",
   "metadata": {},
   "outputs": [],
   "source": [
    "# Third way of importing\n",
    "# WORST WAY OF IMPORTING"
   ]
  },
  {
   "cell_type": "code",
   "execution_count": 44,
   "id": "9f6d9033",
   "metadata": {},
   "outputs": [],
   "source": [
    "from math import *"
   ]
  },
  {
   "cell_type": "code",
   "execution_count": 45,
   "id": "9ef9dee7",
   "metadata": {},
   "outputs": [
    {
     "data": {
      "text/plain": [
       "120"
      ]
     },
     "execution_count": 45,
     "metadata": {},
     "output_type": "execute_result"
    }
   ],
   "source": [
    "factorial(5)"
   ]
  },
  {
   "cell_type": "code",
   "execution_count": 46,
   "id": "c389a948",
   "metadata": {},
   "outputs": [
    {
     "data": {
      "text/plain": [
       "6"
      ]
     },
     "execution_count": 46,
     "metadata": {},
     "output_type": "execute_result"
    }
   ],
   "source": [
    "ceil(5.5)"
   ]
  },
  {
   "cell_type": "code",
   "execution_count": 47,
   "id": "163df835",
   "metadata": {},
   "outputs": [
    {
     "data": {
      "text/plain": [
       "3.141592653589793"
      ]
     },
     "execution_count": 47,
     "metadata": {},
     "output_type": "execute_result"
    }
   ],
   "source": [
    "pi"
   ]
  },
  {
   "cell_type": "code",
   "execution_count": 49,
   "id": "114f43dc",
   "metadata": {},
   "outputs": [],
   "source": [
    "# Fourth way of importing"
   ]
  },
  {
   "cell_type": "code",
   "execution_count": 50,
   "id": "366baf0a",
   "metadata": {},
   "outputs": [],
   "source": [
    "import math as m # aliases"
   ]
  },
  {
   "cell_type": "code",
   "execution_count": 51,
   "id": "19b33bc9",
   "metadata": {},
   "outputs": [
    {
     "data": {
      "text/plain": [
       "720"
      ]
     },
     "execution_count": 51,
     "metadata": {},
     "output_type": "execute_result"
    }
   ],
   "source": [
    "m.factorial(6)"
   ]
  },
  {
   "cell_type": "code",
   "execution_count": 52,
   "id": "dec36994",
   "metadata": {},
   "outputs": [],
   "source": [
    "from math import factorial as fact, log as lg, ceil as c"
   ]
  },
  {
   "cell_type": "code",
   "execution_count": 53,
   "id": "3ce11d55",
   "metadata": {},
   "outputs": [],
   "source": [
    "import random"
   ]
  },
  {
   "cell_type": "code",
   "execution_count": 62,
   "id": "a4c2505a",
   "metadata": {},
   "outputs": [
    {
     "data": {
      "text/plain": [
       "45"
      ]
     },
     "execution_count": 62,
     "metadata": {},
     "output_type": "execute_result"
    }
   ],
   "source": [
    "random.randint(0, 100)"
   ]
  },
  {
   "cell_type": "code",
   "execution_count": 64,
   "id": "db5f8024",
   "metadata": {},
   "outputs": [],
   "source": [
    "# help(random)"
   ]
  },
  {
   "cell_type": "code",
   "execution_count": 65,
   "id": "1547a1df",
   "metadata": {},
   "outputs": [],
   "source": [
    "# from module1 import factorial as f1\n",
    "# from module2 import factorial as f2"
   ]
  },
  {
   "cell_type": "code",
   "execution_count": 66,
   "id": "4c3c5308",
   "metadata": {},
   "outputs": [
    {
     "data": {
      "text/plain": [
       "9"
      ]
     },
     "execution_count": 66,
     "metadata": {},
     "output_type": "execute_result"
    }
   ],
   "source": [
    "4 + 5"
   ]
  },
  {
   "cell_type": "code",
   "execution_count": 67,
   "id": "80b6f383",
   "metadata": {},
   "outputs": [
    {
     "data": {
      "text/plain": [
       "'bipinkalra'"
      ]
     },
     "execution_count": 67,
     "metadata": {},
     "output_type": "execute_result"
    }
   ],
   "source": [
    "\"bipin\" + \"kalra\""
   ]
  },
  {
   "cell_type": "code",
   "execution_count": 68,
   "id": "1c9f9e6a",
   "metadata": {},
   "outputs": [
    {
     "data": {
      "text/plain": [
       "[1, 2, 3, 4, 5, 6]"
      ]
     },
     "execution_count": 68,
     "metadata": {},
     "output_type": "execute_result"
    }
   ],
   "source": [
    "[1,2,3] + [4,5,6]"
   ]
  },
  {
   "cell_type": "code",
   "execution_count": null,
   "id": "6d0e8e25",
   "metadata": {},
   "outputs": [],
   "source": []
  }
 ],
 "metadata": {
  "kernelspec": {
   "display_name": "Python 3 (ipykernel)",
   "language": "python",
   "name": "python3"
  },
  "language_info": {
   "codemirror_mode": {
    "name": "ipython",
    "version": 3
   },
   "file_extension": ".py",
   "mimetype": "text/x-python",
   "name": "python",
   "nbconvert_exporter": "python",
   "pygments_lexer": "ipython3",
   "version": "3.9.5"
  }
 },
 "nbformat": 4,
 "nbformat_minor": 5
}
