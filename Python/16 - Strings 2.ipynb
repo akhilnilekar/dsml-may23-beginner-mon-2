{
 "cells": [
  {
   "cell_type": "code",
   "execution_count": 1,
   "id": "46d55bcd",
   "metadata": {},
   "outputs": [],
   "source": [
    "# 1. SPLIT"
   ]
  },
  {
   "cell_type": "code",
   "execution_count": 2,
   "id": "c6c66141",
   "metadata": {},
   "outputs": [],
   "source": [
    "a = \"a string with a few words!\""
   ]
  },
  {
   "cell_type": "code",
   "execution_count": 3,
   "id": "f0795e09",
   "metadata": {},
   "outputs": [
    {
     "data": {
      "text/plain": [
       "['a', 'string', 'with', 'a', 'few', 'words!']"
      ]
     },
     "execution_count": 3,
     "metadata": {},
     "output_type": "execute_result"
    }
   ],
   "source": [
    "a.split(\" \") # delimiter is provided as an argument"
   ]
  },
  {
   "cell_type": "code",
   "execution_count": 4,
   "id": "74d1567e",
   "metadata": {},
   "outputs": [
    {
     "data": {
      "text/plain": [
       "['a ', 'tring with a few word', '!']"
      ]
     },
     "execution_count": 4,
     "metadata": {},
     "output_type": "execute_result"
    }
   ],
   "source": [
    "a.split(\"s\")"
   ]
  },
  {
   "cell_type": "code",
   "execution_count": 6,
   "id": "2700b31a",
   "metadata": {},
   "outputs": [],
   "source": [
    "a = \"thisRANDOMisRANDOMaRANDOMstringRANDOM!\""
   ]
  },
  {
   "cell_type": "code",
   "execution_count": 7,
   "id": "4ddbb1e9",
   "metadata": {},
   "outputs": [
    {
     "data": {
      "text/plain": [
       "['this', 'is', 'a', 'string', '!']"
      ]
     },
     "execution_count": 7,
     "metadata": {},
     "output_type": "execute_result"
    }
   ],
   "source": [
    "a.split(\"RANDOM\")"
   ]
  },
  {
   "cell_type": "code",
   "execution_count": 8,
   "id": "e50a4405",
   "metadata": {},
   "outputs": [],
   "source": [
    "csv = \"1,2,3,4,5,6,7,8,9,10\""
   ]
  },
  {
   "cell_type": "code",
   "execution_count": 9,
   "id": "c68b3ba5",
   "metadata": {},
   "outputs": [],
   "source": [
    "data = csv.split(\",\")"
   ]
  },
  {
   "cell_type": "code",
   "execution_count": 10,
   "id": "f45d69c4",
   "metadata": {},
   "outputs": [
    {
     "data": {
      "text/plain": [
       "['1', '2', '3', '4', '5', '6', '7', '8', '9', '10']"
      ]
     },
     "execution_count": 10,
     "metadata": {},
     "output_type": "execute_result"
    }
   ],
   "source": [
    "data"
   ]
  },
  {
   "cell_type": "code",
   "execution_count": 11,
   "id": "ccd59f33",
   "metadata": {},
   "outputs": [],
   "source": [
    "final_data = []\n",
    "\n",
    "for i in data:\n",
    "    final_data.append(int(i))"
   ]
  },
  {
   "cell_type": "code",
   "execution_count": 12,
   "id": "c0f18e9b",
   "metadata": {},
   "outputs": [
    {
     "data": {
      "text/plain": [
       "[1, 2, 3, 4, 5, 6, 7, 8, 9, 10]"
      ]
     },
     "execution_count": 12,
     "metadata": {},
     "output_type": "execute_result"
    }
   ],
   "source": [
    "final_data"
   ]
  },
  {
   "cell_type": "code",
   "execution_count": 13,
   "id": "720e08be",
   "metadata": {},
   "outputs": [
    {
     "name": "stdout",
     "output_type": "stream",
     "text": [
      "80 90 45 101 23 2 7 9 15\n"
     ]
    }
   ],
   "source": [
    "random = input()"
   ]
  },
  {
   "cell_type": "code",
   "execution_count": 14,
   "id": "5fb80379",
   "metadata": {},
   "outputs": [
    {
     "data": {
      "text/plain": [
       "'80 90 45 101 23 2 7 9 15'"
      ]
     },
     "execution_count": 14,
     "metadata": {},
     "output_type": "execute_result"
    }
   ],
   "source": [
    "random"
   ]
  },
  {
   "cell_type": "code",
   "execution_count": 15,
   "id": "05149a9c",
   "metadata": {},
   "outputs": [],
   "source": [
    "random = random.split(\" \")"
   ]
  },
  {
   "cell_type": "code",
   "execution_count": 16,
   "id": "6b1269ae",
   "metadata": {},
   "outputs": [
    {
     "data": {
      "text/plain": [
       "['80', '90', '45', '101', '23', '2', '7', '9', '15']"
      ]
     },
     "execution_count": 16,
     "metadata": {},
     "output_type": "execute_result"
    }
   ],
   "source": [
    "random"
   ]
  },
  {
   "cell_type": "code",
   "execution_count": 17,
   "id": "3575f361",
   "metadata": {},
   "outputs": [],
   "source": [
    "final_data = []\n",
    "\n",
    "for i in random:\n",
    "    final_data.append(int(i))"
   ]
  },
  {
   "cell_type": "code",
   "execution_count": 18,
   "id": "eab5b5e1",
   "metadata": {},
   "outputs": [
    {
     "data": {
      "text/plain": [
       "[80, 90, 45, 101, 23, 2, 7, 9, 15]"
      ]
     },
     "execution_count": 18,
     "metadata": {},
     "output_type": "execute_result"
    }
   ],
   "source": [
    "final_data"
   ]
  },
  {
   "cell_type": "code",
   "execution_count": 19,
   "id": "b4ad3d3b",
   "metadata": {},
   "outputs": [
    {
     "name": "stdout",
     "output_type": "stream",
     "text": [
      "5 6 7 8 9 10\n"
     ]
    }
   ],
   "source": [
    "# Takes a single string of space separated integers as input\n",
    "random = input()\n",
    "\n",
    "# Converts the string into a list of individual inputs\n",
    "random = random.split(\" \")\n",
    "\n",
    "# Converts a list of strings to a list of integers\n",
    "final = []\n",
    "\n",
    "for i in random:\n",
    "    final.append(int(i))"
   ]
  },
  {
   "cell_type": "code",
   "execution_count": 20,
   "id": "3ed51408",
   "metadata": {},
   "outputs": [
    {
     "data": {
      "text/plain": [
       "[5, 6, 7, 8, 9, 10]"
      ]
     },
     "execution_count": 20,
     "metadata": {},
     "output_type": "execute_result"
    }
   ],
   "source": [
    "final"
   ]
  },
  {
   "cell_type": "code",
   "execution_count": 21,
   "id": "a7badc3b",
   "metadata": {},
   "outputs": [],
   "source": [
    "# 2. JOIN"
   ]
  },
  {
   "cell_type": "code",
   "execution_count": 22,
   "id": "1222c37c",
   "metadata": {},
   "outputs": [
    {
     "data": {
      "text/plain": [
       "'\\nUsing split,\\nwe split a string into a list of strings, delimited at a character(s)\\n\\nUsing join,\\nwe join a list of strings into one string using a joining a character(s)\\n'"
      ]
     },
     "execution_count": 22,
     "metadata": {},
     "output_type": "execute_result"
    }
   ],
   "source": [
    "'''\n",
    "Using split,\n",
    "we split a string into a list of strings, delimited at a character(s)\n",
    "\n",
    "Using join,\n",
    "we join a list of strings into one string using a joining a character(s)\n",
    "'''"
   ]
  },
  {
   "cell_type": "code",
   "execution_count": 23,
   "id": "01d01a1b",
   "metadata": {},
   "outputs": [],
   "source": [
    "a = ['a', 'string', 'with', 'a', 'few', 'words!']"
   ]
  },
  {
   "cell_type": "code",
   "execution_count": 24,
   "id": "cdfec751",
   "metadata": {},
   "outputs": [
    {
     "data": {
      "text/plain": [
       "'a string with a few words!'"
      ]
     },
     "execution_count": 24,
     "metadata": {},
     "output_type": "execute_result"
    }
   ],
   "source": [
    "\" \".join(a) # \"delimiter\".join(list_of_strings)"
   ]
  },
  {
   "cell_type": "code",
   "execution_count": 25,
   "id": "6c20eef0",
   "metadata": {},
   "outputs": [
    {
     "data": {
      "text/plain": [
       "'a_+_string_+_with_+_a_+_few_+_words!'"
      ]
     },
     "execution_count": 25,
     "metadata": {},
     "output_type": "execute_result"
    }
   ],
   "source": [
    "\"_+_\".join(a)"
   ]
  },
  {
   "cell_type": "code",
   "execution_count": 26,
   "id": "5b2d22ea",
   "metadata": {},
   "outputs": [],
   "source": [
    "a = [\"random\", 45, 6.7, \"string\"]"
   ]
  },
  {
   "cell_type": "code",
   "execution_count": 27,
   "id": "99d84246",
   "metadata": {},
   "outputs": [
    {
     "ename": "TypeError",
     "evalue": "sequence item 1: expected str instance, int found",
     "output_type": "error",
     "traceback": [
      "\u001b[0;31m---------------------------------------------------------------------------\u001b[0m",
      "\u001b[0;31mTypeError\u001b[0m                                 Traceback (most recent call last)",
      "Cell \u001b[0;32mIn[27], line 1\u001b[0m\n\u001b[0;32m----> 1\u001b[0m \u001b[38;5;124;43m\"\u001b[39;49m\u001b[38;5;124;43m \u001b[39;49m\u001b[38;5;124;43m\"\u001b[39;49m\u001b[38;5;241;43m.\u001b[39;49m\u001b[43mjoin\u001b[49m\u001b[43m(\u001b[49m\u001b[43ma\u001b[49m\u001b[43m)\u001b[49m\n",
      "\u001b[0;31mTypeError\u001b[0m: sequence item 1: expected str instance, int found"
     ]
    }
   ],
   "source": [
    "\" \".join(a)"
   ]
  },
  {
   "cell_type": "code",
   "execution_count": 28,
   "id": "40553999",
   "metadata": {},
   "outputs": [],
   "source": [
    "a = [\"random\", \"45\", \"6.7\", \"string\"]"
   ]
  },
  {
   "cell_type": "code",
   "execution_count": 29,
   "id": "cfb40b8c",
   "metadata": {},
   "outputs": [
    {
     "data": {
      "text/plain": [
       "'random 45 6.7 string'"
      ]
     },
     "execution_count": 29,
     "metadata": {},
     "output_type": "execute_result"
    }
   ],
   "source": [
    "\" \".join(a)"
   ]
  },
  {
   "cell_type": "code",
   "execution_count": 30,
   "id": "e06646e6",
   "metadata": {},
   "outputs": [],
   "source": [
    "def custom_join(list_of_strings, delimiter):\n",
    "    result = \"\"\n",
    "    \n",
    "    for string in list_of_strings:\n",
    "        result += string + delimiter\n",
    "        \n",
    "    return result"
   ]
  },
  {
   "cell_type": "code",
   "execution_count": 31,
   "id": "02b60240",
   "metadata": {},
   "outputs": [],
   "source": [
    "a = ['a', 'string', 'with', 'a', 'few', 'words!']"
   ]
  },
  {
   "cell_type": "code",
   "execution_count": 32,
   "id": "106589cf",
   "metadata": {},
   "outputs": [
    {
     "data": {
      "text/plain": [
       "'a__string__with__a__few__words!__'"
      ]
     },
     "execution_count": 32,
     "metadata": {},
     "output_type": "execute_result"
    }
   ],
   "source": [
    "custom_join(a, \"__\")"
   ]
  },
  {
   "cell_type": "code",
   "execution_count": 34,
   "id": "2cf93f17",
   "metadata": {},
   "outputs": [],
   "source": [
    "def custom_join(list_of_strings, delimiter):\n",
    "    result = \"\"\n",
    "    n = len(list_of_strings)\n",
    "    \n",
    "    for i in range(n):\n",
    "        if i == n - 1:\n",
    "            result += list_of_strings[i]\n",
    "            break\n",
    "        \n",
    "        result += list_of_strings[i] + delimiter\n",
    "        \n",
    "    return result"
   ]
  },
  {
   "cell_type": "code",
   "execution_count": 35,
   "id": "2a735597",
   "metadata": {},
   "outputs": [
    {
     "data": {
      "text/plain": [
       "'a__string__with__a__few__words!'"
      ]
     },
     "execution_count": 35,
     "metadata": {},
     "output_type": "execute_result"
    }
   ],
   "source": [
    "custom_join(a, \"__\")"
   ]
  },
  {
   "cell_type": "code",
   "execution_count": 36,
   "id": "ce088379",
   "metadata": {},
   "outputs": [],
   "source": [
    "def custom_join(list_of_strings, delimiter):\n",
    "    result = \"\"\n",
    "    n = len(list_of_strings)\n",
    "    \n",
    "    for i in range(n - 1):\n",
    "        result += list_of_strings[i] + delimiter\n",
    "        \n",
    "    result += list_of_strings[n - 1]\n",
    "        \n",
    "    return result"
   ]
  },
  {
   "cell_type": "code",
   "execution_count": 37,
   "id": "ea89a784",
   "metadata": {},
   "outputs": [
    {
     "data": {
      "text/plain": [
       "'a__string__with__a__few__words!'"
      ]
     },
     "execution_count": 37,
     "metadata": {},
     "output_type": "execute_result"
    }
   ],
   "source": [
    "custom_join(a, \"__\")"
   ]
  },
  {
   "cell_type": "code",
   "execution_count": 38,
   "id": "da253bcf",
   "metadata": {},
   "outputs": [],
   "source": [
    "# 3. FIND"
   ]
  },
  {
   "cell_type": "code",
   "execution_count": 69,
   "id": "19e0f0e7",
   "metadata": {},
   "outputs": [],
   "source": [
    "a = \"this is a random string with a lot of words!\""
   ]
  },
  {
   "cell_type": "code",
   "execution_count": 70,
   "id": "e1df984e",
   "metadata": {},
   "outputs": [
    {
     "data": {
      "text/plain": [
       "10"
      ]
     },
     "execution_count": 70,
     "metadata": {},
     "output_type": "execute_result"
    }
   ],
   "source": [
    "a.find(\"random\")"
   ]
  },
  {
   "cell_type": "code",
   "execution_count": 71,
   "id": "51223402",
   "metadata": {},
   "outputs": [
    {
     "data": {
      "text/plain": [
       "2"
      ]
     },
     "execution_count": 71,
     "metadata": {},
     "output_type": "execute_result"
    }
   ],
   "source": [
    "a.find(\"is\")"
   ]
  },
  {
   "cell_type": "code",
   "execution_count": 72,
   "id": "b9b41af4",
   "metadata": {},
   "outputs": [
    {
     "data": {
      "text/plain": [
       "-1"
      ]
     },
     "execution_count": 72,
     "metadata": {},
     "output_type": "execute_result"
    }
   ],
   "source": [
    "a.find(\"not present\")"
   ]
  },
  {
   "cell_type": "code",
   "execution_count": 43,
   "id": "a8ce3f96",
   "metadata": {},
   "outputs": [],
   "source": [
    "starting_point = a.find(\"random\")"
   ]
  },
  {
   "cell_type": "code",
   "execution_count": 46,
   "id": "6aeb7aab",
   "metadata": {},
   "outputs": [],
   "source": [
    "ending_point = starting_point + len(\"random\")"
   ]
  },
  {
   "cell_type": "code",
   "execution_count": 47,
   "id": "4bebe5e9",
   "metadata": {},
   "outputs": [
    {
     "data": {
      "text/plain": [
       "'random'"
      ]
     },
     "execution_count": 47,
     "metadata": {},
     "output_type": "execute_result"
    }
   ],
   "source": [
    "a[starting_point : ending_point]"
   ]
  },
  {
   "cell_type": "code",
   "execution_count": 48,
   "id": "23e8c7b4",
   "metadata": {},
   "outputs": [
    {
     "data": {
      "text/plain": [
       "'this is a '"
      ]
     },
     "execution_count": 48,
     "metadata": {},
     "output_type": "execute_result"
    }
   ],
   "source": [
    "a[: starting_point]"
   ]
  },
  {
   "cell_type": "code",
   "execution_count": 49,
   "id": "cb07f941",
   "metadata": {},
   "outputs": [
    {
     "data": {
      "text/plain": [
       "'string with a lot of words!'"
      ]
     },
     "execution_count": 49,
     "metadata": {},
     "output_type": "execute_result"
    }
   ],
   "source": [
    "a[ending_point + 1 :]"
   ]
  },
  {
   "cell_type": "code",
   "execution_count": 52,
   "id": "85696950",
   "metadata": {},
   "outputs": [
    {
     "data": {
      "text/plain": [
       "'this is a string with a lot of words!'"
      ]
     },
     "execution_count": 52,
     "metadata": {},
     "output_type": "execute_result"
    }
   ],
   "source": [
    "a[: starting_point] + a[ending_point + 1 :]"
   ]
  },
  {
   "cell_type": "code",
   "execution_count": 53,
   "id": "ffcce23b",
   "metadata": {},
   "outputs": [],
   "source": [
    "# 4. REPLACE"
   ]
  },
  {
   "cell_type": "code",
   "execution_count": 54,
   "id": "0f2b2cd7",
   "metadata": {},
   "outputs": [],
   "source": [
    "a = \"this is a random string with very random random words arranged in a random order!\""
   ]
  },
  {
   "cell_type": "code",
   "execution_count": 55,
   "id": "7f797368",
   "metadata": {},
   "outputs": [
    {
     "data": {
      "text/plain": [
       "'this is a random string with very random random words arranged in a random order!'"
      ]
     },
     "execution_count": 55,
     "metadata": {},
     "output_type": "execute_result"
    }
   ],
   "source": [
    "a"
   ]
  },
  {
   "cell_type": "code",
   "execution_count": 59,
   "id": "326fe5ca",
   "metadata": {},
   "outputs": [],
   "source": [
    "a_replaced = a.replace(\"random\", \"SUPERB\")"
   ]
  },
  {
   "cell_type": "code",
   "execution_count": 60,
   "id": "f16f5f5b",
   "metadata": {},
   "outputs": [
    {
     "data": {
      "text/plain": [
       "'this is a random string with very random random words arranged in a random order!'"
      ]
     },
     "execution_count": 60,
     "metadata": {},
     "output_type": "execute_result"
    }
   ],
   "source": [
    "a"
   ]
  },
  {
   "cell_type": "code",
   "execution_count": 61,
   "id": "513f44b0",
   "metadata": {},
   "outputs": [
    {
     "data": {
      "text/plain": [
       "'this is a SUPERB string with very SUPERB SUPERB words arranged in a SUPERB order!'"
      ]
     },
     "execution_count": 61,
     "metadata": {},
     "output_type": "execute_result"
    }
   ],
   "source": [
    "a_replaced"
   ]
  },
  {
   "cell_type": "code",
   "execution_count": 63,
   "id": "1ea96c93",
   "metadata": {},
   "outputs": [
    {
     "data": {
      "text/plain": [
       "'this is a string with very words arranged in a order!'"
      ]
     },
     "execution_count": 63,
     "metadata": {},
     "output_type": "execute_result"
    }
   ],
   "source": [
    "a.replace(\"random \", \"\")"
   ]
  },
  {
   "cell_type": "code",
   "execution_count": 64,
   "id": "be08e61a",
   "metadata": {},
   "outputs": [],
   "source": [
    "a = \"\""
   ]
  },
  {
   "cell_type": "code",
   "execution_count": 66,
   "id": "373bc166",
   "metadata": {},
   "outputs": [],
   "source": [
    "a = \"this is a random string with very random random words arranged in a random order!\""
   ]
  },
  {
   "cell_type": "code",
   "execution_count": 67,
   "id": "135eeaf5",
   "metadata": {},
   "outputs": [
    {
     "data": {
      "text/plain": [
       "'0t0h0i0s0 0i0s0 0a0 0r0a0n0d0o0m0 0s0t0r0i0n0g0 0w0i0t0h0 0v0e0r0y0 0r0a0n0d0o0m0 0r0a0n0d0o0m0 0w0o0r0d0s0 0a0r0r0a0n0g0e0d0 0i0n0 0a0 0r0a0n0d0o0m0 0o0r0d0e0r0!0'"
      ]
     },
     "execution_count": 67,
     "metadata": {},
     "output_type": "execute_result"
    }
   ],
   "source": [
    "a.replace(\"\", \"0\")"
   ]
  },
  {
   "cell_type": "code",
   "execution_count": 68,
   "id": "b87c9a9f",
   "metadata": {},
   "outputs": [],
   "source": [
    "# 5. MEMBERSHIP OPERATOR"
   ]
  },
  {
   "cell_type": "code",
   "execution_count": 73,
   "id": "d79a6060",
   "metadata": {},
   "outputs": [
    {
     "data": {
      "text/plain": [
       "'this is a random string with a lot of words!'"
      ]
     },
     "execution_count": 73,
     "metadata": {},
     "output_type": "execute_result"
    }
   ],
   "source": [
    "a"
   ]
  },
  {
   "cell_type": "code",
   "execution_count": 74,
   "id": "80079f69",
   "metadata": {},
   "outputs": [
    {
     "data": {
      "text/plain": [
       "True"
      ]
     },
     "execution_count": 74,
     "metadata": {},
     "output_type": "execute_result"
    }
   ],
   "source": [
    "\"random\" in a"
   ]
  },
  {
   "cell_type": "code",
   "execution_count": 75,
   "id": "dc00b9a2",
   "metadata": {},
   "outputs": [
    {
     "data": {
      "text/plain": [
       "False"
      ]
     },
     "execution_count": 75,
     "metadata": {},
     "output_type": "execute_result"
    }
   ],
   "source": [
    "\"RANDOM\" in a"
   ]
  },
  {
   "cell_type": "code",
   "execution_count": 76,
   "id": "ecf882f1",
   "metadata": {},
   "outputs": [],
   "source": [
    "# CUSTOM IMPLEMENTATION OF REPLACE!"
   ]
  },
  {
   "cell_type": "code",
   "execution_count": 102,
   "id": "6e9977ca",
   "metadata": {},
   "outputs": [],
   "source": [
    "def custom_replace(string, old_substring, new_substring):\n",
    "    string_list = string.split(old_substring)\n",
    "    \n",
    "    return new_substring.join(string_list)"
   ]
  },
  {
   "cell_type": "code",
   "execution_count": 103,
   "id": "daf6a258",
   "metadata": {},
   "outputs": [],
   "source": [
    "a = \"this is a random string with very random random words arranged in a random order.\""
   ]
  },
  {
   "cell_type": "code",
   "execution_count": 104,
   "id": "8db35043",
   "metadata": {},
   "outputs": [
    {
     "data": {
      "text/plain": [
       "'this is a random string with very random random words arranged in a random order.'"
      ]
     },
     "execution_count": 104,
     "metadata": {},
     "output_type": "execute_result"
    }
   ],
   "source": [
    "a"
   ]
  },
  {
   "cell_type": "code",
   "execution_count": 105,
   "id": "a9d7e280",
   "metadata": {},
   "outputs": [
    {
     "data": {
      "text/plain": [
       "'this is a SUPERB string with very SUPERB SUPERB words arranged in a SUPERB order.'"
      ]
     },
     "execution_count": 105,
     "metadata": {},
     "output_type": "execute_result"
    }
   ],
   "source": [
    "custom_replace(a, \"random\", \"SUPERB\")"
   ]
  },
  {
   "cell_type": "code",
   "execution_count": 77,
   "id": "9a745e2c",
   "metadata": {},
   "outputs": [],
   "source": [
    "# 6. SOME MORE INTERESTING FUNCTIONS"
   ]
  },
  {
   "cell_type": "code",
   "execution_count": 79,
   "id": "784171a4",
   "metadata": {},
   "outputs": [
    {
     "data": {
      "text/plain": [
       "True"
      ]
     },
     "execution_count": 79,
     "metadata": {},
     "output_type": "execute_result"
    }
   ],
   "source": [
    "\"6\".isdigit() # TRUE if the string contains only numbers"
   ]
  },
  {
   "cell_type": "code",
   "execution_count": 80,
   "id": "a55219c5",
   "metadata": {},
   "outputs": [
    {
     "data": {
      "text/plain": [
       "True"
      ]
     },
     "execution_count": 80,
     "metadata": {},
     "output_type": "execute_result"
    }
   ],
   "source": [
    "\"23678754567876\".isdigit()"
   ]
  },
  {
   "cell_type": "code",
   "execution_count": 82,
   "id": "b0caf748",
   "metadata": {},
   "outputs": [
    {
     "data": {
      "text/plain": [
       "False"
      ]
     },
     "execution_count": 82,
     "metadata": {},
     "output_type": "execute_result"
    }
   ],
   "source": [
    "\"5.6\".isdigit()\n",
    "# This string contains \".\" which is not a number"
   ]
  },
  {
   "cell_type": "code",
   "execution_count": 83,
   "id": "02700d26",
   "metadata": {},
   "outputs": [
    {
     "data": {
      "text/plain": [
       "False"
      ]
     },
     "execution_count": 83,
     "metadata": {},
     "output_type": "execute_result"
    }
   ],
   "source": [
    "\"gshahsh123\".isdigit()"
   ]
  },
  {
   "cell_type": "code",
   "execution_count": 86,
   "id": "10501479",
   "metadata": {},
   "outputs": [
    {
     "name": "stdout",
     "output_type": "stream",
     "text": [
      "Please enter your 10 digit phone number - 987abc34567\n",
      "INVALID NUMBER!\n"
     ]
    }
   ],
   "source": [
    "number = input(\"Please enter your 10 digit phone number - \")\n",
    "\n",
    "if len(number) == 10 and number.isdigit():\n",
    "    print(\"VALID NUMBER!\")\n",
    "else:\n",
    "    print(\"INVALID NUMBER!\")"
   ]
  },
  {
   "cell_type": "code",
   "execution_count": 88,
   "id": "e145a062",
   "metadata": {},
   "outputs": [
    {
     "data": {
      "text/plain": [
       "True"
      ]
     },
     "execution_count": 88,
     "metadata": {},
     "output_type": "execute_result"
    }
   ],
   "source": [
    "\"Bipin\".isalpha()"
   ]
  },
  {
   "cell_type": "code",
   "execution_count": 89,
   "id": "447954d8",
   "metadata": {},
   "outputs": [
    {
     "data": {
      "text/plain": [
       "False"
      ]
     },
     "execution_count": 89,
     "metadata": {},
     "output_type": "execute_result"
    }
   ],
   "source": [
    "\"Bipin Kalra\".isalpha()\n",
    "# String contains \" \" which is not an alphabet!"
   ]
  },
  {
   "cell_type": "code",
   "execution_count": 90,
   "id": "e7dcc740",
   "metadata": {},
   "outputs": [
    {
     "data": {
      "text/plain": [
       "False"
      ]
     },
     "execution_count": 90,
     "metadata": {},
     "output_type": "execute_result"
    }
   ],
   "source": [
    "\"HGSAHG^7q732817bsjhdf\".isalpha()"
   ]
  },
  {
   "cell_type": "code",
   "execution_count": 91,
   "id": "1a49f0dc",
   "metadata": {},
   "outputs": [
    {
     "data": {
      "text/plain": [
       "True"
      ]
     },
     "execution_count": 91,
     "metadata": {},
     "output_type": "execute_result"
    }
   ],
   "source": [
    "\"bgsdfhg532647\".isalnum()"
   ]
  },
  {
   "cell_type": "code",
   "execution_count": 92,
   "id": "daf3a527",
   "metadata": {},
   "outputs": [
    {
     "data": {
      "text/plain": [
       "False"
      ]
     },
     "execution_count": 92,
     "metadata": {},
     "output_type": "execute_result"
    }
   ],
   "source": [
    "\"#$%^&*\".isalnum()"
   ]
  },
  {
   "cell_type": "code",
   "execution_count": 93,
   "id": "be5eb9b1",
   "metadata": {},
   "outputs": [
    {
     "data": {
      "text/plain": [
       "True"
      ]
     },
     "execution_count": 93,
     "metadata": {},
     "output_type": "execute_result"
    }
   ],
   "source": [
    "\"A\".isupper()"
   ]
  },
  {
   "cell_type": "code",
   "execution_count": 94,
   "id": "34f82e6a",
   "metadata": {},
   "outputs": [
    {
     "data": {
      "text/plain": [
       "False"
      ]
     },
     "execution_count": 94,
     "metadata": {},
     "output_type": "execute_result"
    }
   ],
   "source": [
    "\"a\".isupper()"
   ]
  },
  {
   "cell_type": "code",
   "execution_count": 95,
   "id": "61ebd774",
   "metadata": {},
   "outputs": [
    {
     "data": {
      "text/plain": [
       "True"
      ]
     },
     "execution_count": 95,
     "metadata": {},
     "output_type": "execute_result"
    }
   ],
   "source": [
    "\"a\".islower()"
   ]
  },
  {
   "cell_type": "code",
   "execution_count": 96,
   "id": "b3276f66",
   "metadata": {},
   "outputs": [
    {
     "data": {
      "text/plain": [
       "False"
      ]
     },
     "execution_count": 96,
     "metadata": {},
     "output_type": "execute_result"
    }
   ],
   "source": [
    "\"A\".islower()"
   ]
  },
  {
   "cell_type": "code",
   "execution_count": 97,
   "id": "278bd21c",
   "metadata": {},
   "outputs": [
    {
     "data": {
      "text/plain": [
       "False"
      ]
     },
     "execution_count": 97,
     "metadata": {},
     "output_type": "execute_result"
    }
   ],
   "source": [
    "\"556\".islower()"
   ]
  },
  {
   "cell_type": "code",
   "execution_count": 98,
   "id": "d24604e6",
   "metadata": {},
   "outputs": [
    {
     "data": {
      "text/plain": [
       "False"
      ]
     },
     "execution_count": 98,
     "metadata": {},
     "output_type": "execute_result"
    }
   ],
   "source": [
    "\"556\".isupper()"
   ]
  },
  {
   "cell_type": "code",
   "execution_count": 99,
   "id": "ba3e8833",
   "metadata": {},
   "outputs": [
    {
     "data": {
      "text/plain": [
       "'this random string has multiple cases!'"
      ]
     },
     "execution_count": 99,
     "metadata": {},
     "output_type": "execute_result"
    }
   ],
   "source": [
    "\"This RANDOM string Has MULTiple CaseS!\".lower()"
   ]
  },
  {
   "cell_type": "code",
   "execution_count": 100,
   "id": "858d6b8d",
   "metadata": {},
   "outputs": [
    {
     "data": {
      "text/plain": [
       "'THIS RANDOM STRING HAS MULTIPLE CASES!'"
      ]
     },
     "execution_count": 100,
     "metadata": {},
     "output_type": "execute_result"
    }
   ],
   "source": [
    "\"This RANDOM string Has MULTiple CaseS!\".upper()"
   ]
  },
  {
   "cell_type": "markdown",
   "id": "7360e55a",
   "metadata": {},
   "source": [
    "# Glossary of string methods\n",
    "\n",
    "1. __split__ -> `\"this is a string\".split(\" \")` -> string to a list\n",
    "\n",
    "2. __join__ -> `\" \".join([\"list\", \"of\", \"strings\"])` -> list of strings to a string\n",
    "\n",
    "3. __replace__ -> `\"this is a string\".replace(\" \", \"_\")` -> replaces all occurences of the first character by the second character. __IMP__ - _CREATES A NEW STRING_\n",
    "\n",
    "4. __find__ -> `\"this is a string\".find(\" a \")` -> Finds the exact sequence or substring in the original string and returns the starting index of that substring.\n",
    "\n",
    "5. __count__ -> `\"this is a string\".count(\"a\")` -> Counts the number of times a character or substring is present within a string\n",
    "\n",
    "6. __isdigit__ -> True if content inside the string is only digits.\n",
    "7. __isalpha__ -> True if content inside the string is only alphabets.\n",
    "8. __islower__ / __isupper__ -> True if content inside the string is all lower case / all upper case\n",
    "9. __isspace__ -> True if the character is a space\n",
    "10. __lower__ / __upper__ -> Converts a string to lowercase / uppercase\n",
    "\n",
    "__Special Mention__\n",
    "- `\"random\" in \"this is random!\"` -> MEMBERSHIP OPERATOR - True if operand1 is present inside operand2."
   ]
  },
  {
   "cell_type": "code",
   "execution_count": 106,
   "id": "d14b61f6",
   "metadata": {},
   "outputs": [],
   "source": [
    "a = [10,20,30,40,40,50,30,30,40,50]"
   ]
  },
  {
   "cell_type": "code",
   "execution_count": 107,
   "id": "53fd141e",
   "metadata": {},
   "outputs": [
    {
     "data": {
      "text/plain": [
       "True"
      ]
     },
     "execution_count": 107,
     "metadata": {},
     "output_type": "execute_result"
    }
   ],
   "source": [
    "30 in a"
   ]
  },
  {
   "cell_type": "code",
   "execution_count": 108,
   "id": "2ddf6069",
   "metadata": {},
   "outputs": [
    {
     "data": {
      "text/plain": [
       "False"
      ]
     },
     "execution_count": 108,
     "metadata": {},
     "output_type": "execute_result"
    }
   ],
   "source": [
    "100 in a"
   ]
  },
  {
   "cell_type": "code",
   "execution_count": 109,
   "id": "d381134a",
   "metadata": {},
   "outputs": [],
   "source": [
    "def remove_all(a, target):\n",
    "    while target in a:\n",
    "        a.remove(target)\n",
    "        \n",
    "    return a"
   ]
  },
  {
   "cell_type": "code",
   "execution_count": 111,
   "id": "d49cf4b6",
   "metadata": {},
   "outputs": [
    {
     "data": {
      "text/plain": [
       "[10, 20, 40, 40, 50, 40, 50]"
      ]
     },
     "execution_count": 111,
     "metadata": {},
     "output_type": "execute_result"
    }
   ],
   "source": [
    "remove_all(a, 30)"
   ]
  },
  {
   "cell_type": "code",
   "execution_count": null,
   "id": "862ff4f1",
   "metadata": {},
   "outputs": [],
   "source": []
  }
 ],
 "metadata": {
  "kernelspec": {
   "display_name": "Python 3 (ipykernel)",
   "language": "python",
   "name": "python3"
  },
  "language_info": {
   "codemirror_mode": {
    "name": "ipython",
    "version": 3
   },
   "file_extension": ".py",
   "mimetype": "text/x-python",
   "name": "python",
   "nbconvert_exporter": "python",
   "pygments_lexer": "ipython3",
   "version": "3.9.5"
  }
 },
 "nbformat": 4,
 "nbformat_minor": 5
}
