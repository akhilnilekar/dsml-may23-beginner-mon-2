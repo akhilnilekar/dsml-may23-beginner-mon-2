{
 "cells": [
  {
   "cell_type": "code",
   "execution_count": 1,
   "id": "71a8a55a",
   "metadata": {},
   "outputs": [
    {
     "name": "stdout",
     "output_type": "stream",
     "text": [
      "2345787234567876543234567898743212345678761234567876543234567\n"
     ]
    }
   ],
   "source": [
    "print(2345787234567876543234567898743212345678761234567876543234567)"
   ]
  },
  {
   "cell_type": "code",
   "execution_count": 2,
   "id": "fc8a26f1",
   "metadata": {},
   "outputs": [
    {
     "name": "stdout",
     "output_type": "stream",
     "text": [
      "9.034567898543235\n"
     ]
    }
   ],
   "source": [
    "print(9.0345678985432345676543)"
   ]
  },
  {
   "cell_type": "code",
   "execution_count": 3,
   "id": "519fa9af",
   "metadata": {},
   "outputs": [
    {
     "name": "stdout",
     "output_type": "stream",
     "text": [
      "0.6\n"
     ]
    }
   ],
   "source": [
    "print(.6)"
   ]
  },
  {
   "cell_type": "code",
   "execution_count": 4,
   "id": "ae9de7e5",
   "metadata": {},
   "outputs": [
    {
     "name": "stdout",
     "output_type": "stream",
     "text": [
      "5.0\n"
     ]
    }
   ],
   "source": [
    "print(5.)"
   ]
  },
  {
   "cell_type": "code",
   "execution_count": 5,
   "id": "476b7f52",
   "metadata": {},
   "outputs": [
    {
     "name": "stdout",
     "output_type": "stream",
     "text": [
      "0.0\n"
     ]
    }
   ],
   "source": [
    "print(0.0)"
   ]
  },
  {
   "cell_type": "code",
   "execution_count": 6,
   "id": "56cffc57",
   "metadata": {},
   "outputs": [
    {
     "name": "stdout",
     "output_type": "stream",
     "text": [
      "random\n"
     ]
    }
   ],
   "source": [
    "print(\"random\")"
   ]
  },
  {
   "cell_type": "code",
   "execution_count": 7,
   "id": "f2a641e0",
   "metadata": {},
   "outputs": [
    {
     "name": "stdout",
     "output_type": "stream",
     "text": [
      "random\n"
     ]
    }
   ],
   "source": [
    "print('random')"
   ]
  },
  {
   "cell_type": "code",
   "execution_count": 9,
   "id": "4ec01c8b",
   "metadata": {},
   "outputs": [
    {
     "ename": "SyntaxError",
     "evalue": "EOL while scanning string literal (2961895910.py, line 1)",
     "output_type": "error",
     "traceback": [
      "\u001b[0;36m  Cell \u001b[0;32mIn[9], line 1\u001b[0;36m\u001b[0m\n\u001b[0;31m    print(\"random')\u001b[0m\n\u001b[0m                   ^\u001b[0m\n\u001b[0;31mSyntaxError\u001b[0m\u001b[0;31m:\u001b[0m EOL while scanning string literal\n"
     ]
    }
   ],
   "source": [
    "print(\"random')\n",
    "      \n",
    "# COMBINATION OF DOUBLE AND SINGLE QUOTES IS NOT ALLOWED!"
   ]
  },
  {
   "cell_type": "code",
   "execution_count": 10,
   "id": "9e12f91e",
   "metadata": {},
   "outputs": [],
   "source": [
    "# THIS IS A COMMENT!"
   ]
  },
  {
   "cell_type": "code",
   "execution_count": 11,
   "id": "2383992b",
   "metadata": {},
   "outputs": [
    {
     "name": "stdout",
     "output_type": "stream",
     "text": [
      "True\n"
     ]
    }
   ],
   "source": [
    "print(True)"
   ]
  },
  {
   "cell_type": "code",
   "execution_count": 12,
   "id": "622463b9",
   "metadata": {},
   "outputs": [
    {
     "name": "stdout",
     "output_type": "stream",
     "text": [
      "False\n"
     ]
    }
   ],
   "source": [
    "print(False)"
   ]
  },
  {
   "cell_type": "code",
   "execution_count": 13,
   "id": "4f110650",
   "metadata": {},
   "outputs": [
    {
     "name": "stdout",
     "output_type": "stream",
     "text": [
      "None\n"
     ]
    }
   ],
   "source": [
    "print(None)"
   ]
  },
  {
   "cell_type": "code",
   "execution_count": 14,
   "id": "8aff81a9",
   "metadata": {},
   "outputs": [
    {
     "name": "stdout",
     "output_type": "stream",
     "text": [
      "(4+6j)\n"
     ]
    }
   ],
   "source": [
    "print(4 + 6j) # Complex Numbers"
   ]
  },
  {
   "cell_type": "code",
   "execution_count": 15,
   "id": "5843e306",
   "metadata": {},
   "outputs": [
    {
     "name": "stdout",
     "output_type": "stream",
     "text": [
      "<class 'int'>\n"
     ]
    }
   ],
   "source": [
    "print(type(5))"
   ]
  },
  {
   "cell_type": "code",
   "execution_count": 16,
   "id": "7c8d2723",
   "metadata": {},
   "outputs": [
    {
     "name": "stdout",
     "output_type": "stream",
     "text": [
      "<class 'float'>\n"
     ]
    }
   ],
   "source": [
    "print(type(5.0))"
   ]
  },
  {
   "cell_type": "code",
   "execution_count": 17,
   "id": "ec28bdff",
   "metadata": {},
   "outputs": [
    {
     "name": "stdout",
     "output_type": "stream",
     "text": [
      "<class 'str'>\n"
     ]
    }
   ],
   "source": [
    "print(type(\"what type am I?\"))"
   ]
  },
  {
   "cell_type": "code",
   "execution_count": 18,
   "id": "52aa2940",
   "metadata": {},
   "outputs": [
    {
     "name": "stdout",
     "output_type": "stream",
     "text": [
      "<class 'bool'>\n"
     ]
    }
   ],
   "source": [
    "print(type(False))"
   ]
  },
  {
   "cell_type": "code",
   "execution_count": 19,
   "id": "afa46214",
   "metadata": {},
   "outputs": [
    {
     "name": "stdout",
     "output_type": "stream",
     "text": [
      "<class 'NoneType'>\n"
     ]
    }
   ],
   "source": [
    "print(type(None))"
   ]
  },
  {
   "cell_type": "code",
   "execution_count": 20,
   "id": "24cc88f6",
   "metadata": {},
   "outputs": [],
   "source": [
    "x = 3.14 # DEFINE A VARIABLE"
   ]
  },
  {
   "cell_type": "code",
   "execution_count": 21,
   "id": "8f4d0258",
   "metadata": {},
   "outputs": [
    {
     "name": "stdout",
     "output_type": "stream",
     "text": [
      "3.14\n"
     ]
    }
   ],
   "source": [
    "print(x)"
   ]
  },
  {
   "cell_type": "code",
   "execution_count": 22,
   "id": "105959e3",
   "metadata": {},
   "outputs": [
    {
     "name": "stdout",
     "output_type": "stream",
     "text": [
      "<class 'float'>\n"
     ]
    }
   ],
   "source": [
    "print(type(x))"
   ]
  },
  {
   "cell_type": "code",
   "execution_count": 23,
   "id": "23426d85",
   "metadata": {},
   "outputs": [],
   "source": [
    "x = \"some random string!\""
   ]
  },
  {
   "cell_type": "code",
   "execution_count": 24,
   "id": "837e85b7",
   "metadata": {},
   "outputs": [
    {
     "name": "stdout",
     "output_type": "stream",
     "text": [
      "<class 'str'>\n"
     ]
    }
   ],
   "source": [
    "print(type(x))"
   ]
  },
  {
   "cell_type": "code",
   "execution_count": 25,
   "id": "ebc9d5a2",
   "metadata": {},
   "outputs": [],
   "source": [
    "x = True"
   ]
  },
  {
   "cell_type": "code",
   "execution_count": 26,
   "id": "b3aac046",
   "metadata": {},
   "outputs": [
    {
     "name": "stdout",
     "output_type": "stream",
     "text": [
      "<class 'bool'>\n"
     ]
    }
   ],
   "source": [
    "print(type(x))"
   ]
  },
  {
   "cell_type": "code",
   "execution_count": 33,
   "id": "d114b341",
   "metadata": {},
   "outputs": [],
   "source": [
    "# 2 RULES TO CREATE VARIABLES!\n",
    "# 1. A variable name can only start with alphabets or _ (underscore)\n",
    "# 2. A variable name can have alphabets, numbers and _ anywhere after the start"
   ]
  },
  {
   "cell_type": "code",
   "execution_count": 28,
   "id": "2372f038",
   "metadata": {},
   "outputs": [],
   "source": [
    "bipin = \"awesome!\""
   ]
  },
  {
   "cell_type": "code",
   "execution_count": 29,
   "id": "993bb9cb",
   "metadata": {},
   "outputs": [],
   "source": [
    "_bipin = \"great!\""
   ]
  },
  {
   "cell_type": "code",
   "execution_count": 31,
   "id": "e3510dbb",
   "metadata": {},
   "outputs": [
    {
     "ename": "SyntaxError",
     "evalue": "invalid syntax (2420351140.py, line 1)",
     "output_type": "error",
     "traceback": [
      "\u001b[0;36m  Cell \u001b[0;32mIn[31], line 1\u001b[0;36m\u001b[0m\n\u001b[0;31m    123bipin = \"ewwww!\" # a variable name can't start with a number\u001b[0m\n\u001b[0m       ^\u001b[0m\n\u001b[0;31mSyntaxError\u001b[0m\u001b[0;31m:\u001b[0m invalid syntax\n"
     ]
    }
   ],
   "source": [
    "123bipin = \"ewwww!\" # a variable name can't start with a number"
   ]
  },
  {
   "cell_type": "code",
   "execution_count": 32,
   "id": "03ea83ca",
   "metadata": {},
   "outputs": [],
   "source": [
    "BIPIN = \"superb!\""
   ]
  },
  {
   "cell_type": "code",
   "execution_count": 34,
   "id": "7ef2a5da",
   "metadata": {},
   "outputs": [],
   "source": [
    "bipin123 = \"still great!\""
   ]
  },
  {
   "cell_type": "code",
   "execution_count": 36,
   "id": "a7e9db61",
   "metadata": {},
   "outputs": [
    {
     "name": "stdout",
     "output_type": "stream",
     "text": [
      "56 78 hello True\n"
     ]
    }
   ],
   "source": [
    "print(56,78,\"hello\",True)\n",
    "# Python will automatically add a space between every value while printint it"
   ]
  },
  {
   "cell_type": "code",
   "execution_count": 37,
   "id": "0a22a79e",
   "metadata": {},
   "outputs": [
    {
     "name": "stdout",
     "output_type": "stream",
     "text": [
      "56 + 78 + hello + True\n"
     ]
    }
   ],
   "source": [
    "print(56,\"+\",78,\"+\",\"hello\",\"+\",True)"
   ]
  },
  {
   "cell_type": "code",
   "execution_count": 38,
   "id": "00709de2",
   "metadata": {},
   "outputs": [],
   "source": [
    "# sep argument"
   ]
  },
  {
   "cell_type": "code",
   "execution_count": 39,
   "id": "6c1fd4ac",
   "metadata": {},
   "outputs": [
    {
     "name": "stdout",
     "output_type": "stream",
     "text": [
      "56+78+hello+True\n"
     ]
    }
   ],
   "source": [
    "print(56,78,\"hello\",True,sep = \"+\")"
   ]
  },
  {
   "cell_type": "code",
   "execution_count": 40,
   "id": "c5d352ed",
   "metadata": {},
   "outputs": [
    {
     "name": "stdout",
     "output_type": "stream",
     "text": [
      "56     78     hello     True\n"
     ]
    }
   ],
   "source": [
    "print(56,78,\"hello\",True,sep = \"     \")"
   ]
  },
  {
   "cell_type": "code",
   "execution_count": 41,
   "id": "5e3f1aef",
   "metadata": {},
   "outputs": [
    {
     "name": "stdout",
     "output_type": "stream",
     "text": [
      "56_+_78_+_hello_+_True\n"
     ]
    }
   ],
   "source": [
    "print(56,78,\"hello\",True,sep = \"_+_\")"
   ]
  },
  {
   "cell_type": "code",
   "execution_count": 42,
   "id": "763a15af",
   "metadata": {},
   "outputs": [
    {
     "name": "stdout",
     "output_type": "stream",
     "text": [
      "56!RANDOM!78!RANDOM!hello!RANDOM!True\n"
     ]
    }
   ],
   "source": [
    "print(56,78,\"hello\",True,sep = \"!RANDOM!\")"
   ]
  },
  {
   "cell_type": "code",
   "execution_count": 43,
   "id": "75460c02",
   "metadata": {},
   "outputs": [
    {
     "name": "stdout",
     "output_type": "stream",
     "text": [
      "5678helloTrue\n"
     ]
    }
   ],
   "source": [
    "print(56,78,\"hello\",True,sep = \"\")"
   ]
  },
  {
   "cell_type": "code",
   "execution_count": 44,
   "id": "eca4d82e",
   "metadata": {},
   "outputs": [
    {
     "name": "stdout",
     "output_type": "stream",
     "text": [
      "line 1\n",
      "line 2\n",
      "line 3\n"
     ]
    }
   ],
   "source": [
    "print(\"line 1\")\n",
    "print(\"line 2\")\n",
    "print(\"line 3\")"
   ]
  },
  {
   "cell_type": "code",
   "execution_count": 45,
   "id": "21031dd4",
   "metadata": {},
   "outputs": [
    {
     "name": "stdout",
     "output_type": "stream",
     "text": [
      "line 1 line 2\n",
      "line 3\n"
     ]
    }
   ],
   "source": [
    "print(\"line 1\", end = \" \") # \\n is the character for \"enter\"\n",
    "print(\"line 2\")\n",
    "print(\"line 3\")"
   ]
  },
  {
   "cell_type": "code",
   "execution_count": 46,
   "id": "85c14650",
   "metadata": {},
   "outputs": [
    {
     "name": "stdout",
     "output_type": "stream",
     "text": [
      "line 1+line 2+line 3+"
     ]
    }
   ],
   "source": [
    "print(\"line 1\", end = \"+\")\n",
    "print(\"line 2\", end = \"+\")\n",
    "print(\"line 3\", end = \"+\")"
   ]
  },
  {
   "cell_type": "code",
   "execution_count": 47,
   "id": "8638f828",
   "metadata": {},
   "outputs": [
    {
     "name": "stdout",
     "output_type": "stream",
     "text": [
      "56\n",
      "78\n",
      "hello\n",
      "True\n"
     ]
    }
   ],
   "source": [
    "print(56,78,\"hello\",True,sep = \"\\n\")"
   ]
  },
  {
   "cell_type": "code",
   "execution_count": 48,
   "id": "9421c154",
   "metadata": {},
   "outputs": [],
   "source": [
    "# DEFAULT VALUES\n",
    "# sep - \" \"\n",
    "# end - \"\\n\""
   ]
  },
  {
   "cell_type": "code",
   "execution_count": 49,
   "id": "30b4e596",
   "metadata": {},
   "outputs": [
    {
     "name": "stdout",
     "output_type": "stream",
     "text": [
      "1+2+3THIS IS THE END!4@5\n"
     ]
    }
   ],
   "source": [
    "print(1,2,3, sep = \"+\", end = \"THIS IS THE END!\")\n",
    "print(4,5, sep = \"@\")"
   ]
  },
  {
   "cell_type": "code",
   "execution_count": 50,
   "id": "9e023872",
   "metadata": {},
   "outputs": [],
   "source": [
    "hello = \"random value!\""
   ]
  },
  {
   "cell_type": "code",
   "execution_count": 51,
   "id": "8529b327",
   "metadata": {},
   "outputs": [],
   "source": [
    "HELLO = \"random value 2!\""
   ]
  },
  {
   "cell_type": "code",
   "execution_count": 52,
   "id": "0a2d640f",
   "metadata": {},
   "outputs": [],
   "source": [
    "hELLO = \"random value 3!\""
   ]
  },
  {
   "cell_type": "code",
   "execution_count": 54,
   "id": "8cb29a22",
   "metadata": {},
   "outputs": [],
   "source": [
    "hElLO = \"random value 4!\""
   ]
  },
  {
   "cell_type": "code",
   "execution_count": 55,
   "id": "17a19eac",
   "metadata": {},
   "outputs": [
    {
     "name": "stdout",
     "output_type": "stream",
     "text": [
      "random value!\n"
     ]
    }
   ],
   "source": [
    "print(hello)"
   ]
  },
  {
   "cell_type": "code",
   "execution_count": 56,
   "id": "2280f380",
   "metadata": {},
   "outputs": [
    {
     "name": "stdout",
     "output_type": "stream",
     "text": [
      "random value 2!\n"
     ]
    }
   ],
   "source": [
    "print(HELLO)"
   ]
  },
  {
   "cell_type": "code",
   "execution_count": 57,
   "id": "9db6665e",
   "metadata": {},
   "outputs": [
    {
     "name": "stdout",
     "output_type": "stream",
     "text": [
      "random value 3!\n"
     ]
    }
   ],
   "source": [
    "print(hELLO)"
   ]
  },
  {
   "cell_type": "code",
   "execution_count": 58,
   "id": "37008fdf",
   "metadata": {},
   "outputs": [
    {
     "name": "stdout",
     "output_type": "stream",
     "text": [
      "random value 4!\n"
     ]
    }
   ],
   "source": [
    "print(hElLO)"
   ]
  },
  {
   "cell_type": "code",
   "execution_count": 59,
   "id": "7f5eaa06",
   "metadata": {},
   "outputs": [],
   "source": [
    "x = 5"
   ]
  },
  {
   "cell_type": "code",
   "execution_count": 60,
   "id": "5c9d2a8e",
   "metadata": {},
   "outputs": [],
   "source": [
    "y = x"
   ]
  },
  {
   "cell_type": "code",
   "execution_count": 61,
   "id": "dae6a6ed",
   "metadata": {},
   "outputs": [
    {
     "name": "stdout",
     "output_type": "stream",
     "text": [
      "5\n"
     ]
    }
   ],
   "source": [
    "print(y)"
   ]
  },
  {
   "cell_type": "code",
   "execution_count": 62,
   "id": "9b2ff728",
   "metadata": {},
   "outputs": [],
   "source": [
    "# TAKING INPUTS FROM A USER!"
   ]
  },
  {
   "cell_type": "code",
   "execution_count": 63,
   "id": "fbd28928",
   "metadata": {},
   "outputs": [
    {
     "name": "stdout",
     "output_type": "stream",
     "text": [
      "this is interesting!\n"
     ]
    }
   ],
   "source": [
    "any_variable_name = input()"
   ]
  },
  {
   "cell_type": "code",
   "execution_count": 64,
   "id": "086411d5",
   "metadata": {},
   "outputs": [
    {
     "name": "stdout",
     "output_type": "stream",
     "text": [
      "this is interesting!\n"
     ]
    }
   ],
   "source": [
    "print(any_variable_name)"
   ]
  },
  {
   "cell_type": "code",
   "execution_count": 65,
   "id": "9549487d",
   "metadata": {},
   "outputs": [
    {
     "name": "stdout",
     "output_type": "stream",
     "text": [
      "<class 'str'>\n"
     ]
    }
   ],
   "source": [
    "print(type(any_variable_name))"
   ]
  },
  {
   "cell_type": "code",
   "execution_count": 66,
   "id": "c0416817",
   "metadata": {},
   "outputs": [
    {
     "name": "stdout",
     "output_type": "stream",
     "text": [
      "12345\n"
     ]
    }
   ],
   "source": [
    "random = input()"
   ]
  },
  {
   "cell_type": "code",
   "execution_count": 67,
   "id": "0682934b",
   "metadata": {},
   "outputs": [
    {
     "name": "stdout",
     "output_type": "stream",
     "text": [
      "12345\n"
     ]
    }
   ],
   "source": [
    "print(random)"
   ]
  },
  {
   "cell_type": "code",
   "execution_count": 68,
   "id": "fcc8a945",
   "metadata": {},
   "outputs": [
    {
     "name": "stdout",
     "output_type": "stream",
     "text": [
      "<class 'str'>\n"
     ]
    }
   ],
   "source": [
    "print(type(random))"
   ]
  },
  {
   "cell_type": "code",
   "execution_count": 69,
   "id": "4b77e200",
   "metadata": {},
   "outputs": [
    {
     "name": "stdout",
     "output_type": "stream",
     "text": [
      "string1string2\n"
     ]
    }
   ],
   "source": [
    "print(\"string1\" + \"string2\")"
   ]
  },
  {
   "cell_type": "code",
   "execution_count": 70,
   "id": "5e9e9692",
   "metadata": {},
   "outputs": [
    {
     "name": "stdout",
     "output_type": "stream",
     "text": [
      "12345\n"
     ]
    }
   ],
   "source": [
    "print(random)"
   ]
  },
  {
   "cell_type": "code",
   "execution_count": 71,
   "id": "b93880a9",
   "metadata": {},
   "outputs": [],
   "source": [
    "random1 = int(random)"
   ]
  },
  {
   "cell_type": "code",
   "execution_count": 72,
   "id": "7b111310",
   "metadata": {},
   "outputs": [
    {
     "name": "stdout",
     "output_type": "stream",
     "text": [
      "<class 'int'>\n"
     ]
    }
   ],
   "source": [
    "print(type(random1))"
   ]
  },
  {
   "cell_type": "code",
   "execution_count": 73,
   "id": "618133ec",
   "metadata": {},
   "outputs": [
    {
     "name": "stdout",
     "output_type": "stream",
     "text": [
      "12345\n"
     ]
    }
   ],
   "source": [
    "print(random1)"
   ]
  },
  {
   "cell_type": "code",
   "execution_count": 74,
   "id": "3cb819d5",
   "metadata": {},
   "outputs": [
    {
     "name": "stdout",
     "output_type": "stream",
     "text": [
      "100\n"
     ]
    }
   ],
   "source": [
    "string_input = input()"
   ]
  },
  {
   "cell_type": "code",
   "execution_count": 75,
   "id": "b9559188",
   "metadata": {},
   "outputs": [
    {
     "name": "stdout",
     "output_type": "stream",
     "text": [
      "<class 'str'>\n"
     ]
    }
   ],
   "source": [
    "print(type(string_input))"
   ]
  },
  {
   "cell_type": "code",
   "execution_count": 76,
   "id": "e93f9c8e",
   "metadata": {},
   "outputs": [],
   "source": [
    "int_input = int(string_input)"
   ]
  },
  {
   "cell_type": "code",
   "execution_count": 77,
   "id": "8259069f",
   "metadata": {},
   "outputs": [
    {
     "name": "stdout",
     "output_type": "stream",
     "text": [
      "<class 'int'>\n"
     ]
    }
   ],
   "source": [
    "print(type(int_input))"
   ]
  },
  {
   "cell_type": "code",
   "execution_count": 80,
   "id": "bf9b89cb",
   "metadata": {},
   "outputs": [
    {
     "name": "stdout",
     "output_type": "stream",
     "text": [
      "12345\n"
     ]
    }
   ],
   "source": [
    "user_input = int(input()) # WAY TO TAKE INTEGERS DIRECTLY!"
   ]
  },
  {
   "cell_type": "code",
   "execution_count": 81,
   "id": "28652086",
   "metadata": {},
   "outputs": [
    {
     "name": "stdout",
     "output_type": "stream",
     "text": [
      "<class 'int'>\n"
     ]
    }
   ],
   "source": [
    "print(type(user_input))"
   ]
  },
  {
   "cell_type": "code",
   "execution_count": 1,
   "id": "85d28e08",
   "metadata": {
    "scrolled": true
   },
   "outputs": [
    {
     "name": "stdout",
     "output_type": "stream",
     "text": [
      "this is not an int!\n"
     ]
    },
    {
     "ename": "ValueError",
     "evalue": "invalid literal for int() with base 10: 'this is not an int!'",
     "output_type": "error",
     "traceback": [
      "\u001b[0;31m---------------------------------------------------------------------------\u001b[0m",
      "\u001b[0;31mValueError\u001b[0m                                Traceback (most recent call last)",
      "Cell \u001b[0;32mIn[1], line 1\u001b[0m\n\u001b[0;32m----> 1\u001b[0m user_input \u001b[38;5;241m=\u001b[39m \u001b[38;5;28;43mint\u001b[39;49m\u001b[43m(\u001b[49m\u001b[38;5;28;43minput\u001b[39;49m\u001b[43m(\u001b[49m\u001b[43m)\u001b[49m\u001b[43m)\u001b[49m\n",
      "\u001b[0;31mValueError\u001b[0m: invalid literal for int() with base 10: 'this is not an int!'"
     ]
    }
   ],
   "source": [
    "user_input = int(input())"
   ]
  },
  {
   "cell_type": "code",
   "execution_count": 2,
   "id": "6c924a9c",
   "metadata": {},
   "outputs": [
    {
     "name": "stdout",
     "output_type": "stream",
     "text": [
      "Please enter a valid integer - 12345\n"
     ]
    }
   ],
   "source": [
    "user_input = int(input(\"Please enter a valid integer - \"))"
   ]
  },
  {
   "cell_type": "code",
   "execution_count": 3,
   "id": "7064fb35",
   "metadata": {},
   "outputs": [
    {
     "name": "stdout",
     "output_type": "stream",
     "text": [
      "12345\n"
     ]
    }
   ],
   "source": [
    "print(user_input)"
   ]
  },
  {
   "cell_type": "code",
   "execution_count": 87,
   "id": "8de5aa98",
   "metadata": {},
   "outputs": [
    {
     "name": "stdout",
     "output_type": "stream",
     "text": [
      "Please input the value of a - 10\n",
      "Please input the value of b - 20\n",
      "Please input the value of c - 30\n"
     ]
    }
   ],
   "source": [
    "a = input(\"Please input the value of a - \")\n",
    "b = input(\"Please input the value of b - \")\n",
    "c = input(\"Please input the value of c - \")"
   ]
  },
  {
   "cell_type": "code",
   "execution_count": 88,
   "id": "ba3096bd",
   "metadata": {},
   "outputs": [
    {
     "name": "stdout",
     "output_type": "stream",
     "text": [
      "10 20 30\n"
     ]
    }
   ],
   "source": [
    "print(a, b, c)"
   ]
  },
  {
   "cell_type": "code",
   "execution_count": 89,
   "id": "6f5e0a5a",
   "metadata": {},
   "outputs": [],
   "source": [
    "x = 12345"
   ]
  },
  {
   "cell_type": "code",
   "execution_count": 94,
   "id": "4c5447d6",
   "metadata": {},
   "outputs": [],
   "source": [
    "string_x = str(x) # TYPECASTING"
   ]
  },
  {
   "cell_type": "code",
   "execution_count": 95,
   "id": "d521e504",
   "metadata": {},
   "outputs": [
    {
     "name": "stdout",
     "output_type": "stream",
     "text": [
      "12345\n"
     ]
    }
   ],
   "source": [
    "print(string_x)"
   ]
  },
  {
   "cell_type": "code",
   "execution_count": 96,
   "id": "8ebeff96",
   "metadata": {},
   "outputs": [],
   "source": [
    "float_x = float(x)"
   ]
  },
  {
   "cell_type": "code",
   "execution_count": 97,
   "id": "1aea3d4a",
   "metadata": {},
   "outputs": [
    {
     "name": "stdout",
     "output_type": "stream",
     "text": [
      "12345.0\n"
     ]
    }
   ],
   "source": [
    "print(float_x)"
   ]
  },
  {
   "cell_type": "code",
   "execution_count": 98,
   "id": "bef21e5a",
   "metadata": {},
   "outputs": [],
   "source": [
    "# Write a code to input two numbers and print the sum of those numbers!"
   ]
  },
  {
   "cell_type": "code",
   "execution_count": 99,
   "id": "5600a399",
   "metadata": {},
   "outputs": [
    {
     "name": "stdout",
     "output_type": "stream",
     "text": [
      "Please input a valid number - 10\n",
      "Please input a valid number - 15\n",
      "25.0\n"
     ]
    }
   ],
   "source": [
    "num1 = float(input(\"Please input a valid number - \"))\n",
    "num2 = float(input(\"Please input a valid number - \"))\n",
    "\n",
    "print(num1 + num2)"
   ]
  },
  {
   "cell_type": "code",
   "execution_count": null,
   "id": "add1caac",
   "metadata": {},
   "outputs": [],
   "source": []
  }
 ],
 "metadata": {
  "kernelspec": {
   "display_name": "Python 3 (ipykernel)",
   "language": "python",
   "name": "python3"
  },
  "language_info": {
   "codemirror_mode": {
    "name": "ipython",
    "version": 3
   },
   "file_extension": ".py",
   "mimetype": "text/x-python",
   "name": "python",
   "nbconvert_exporter": "python",
   "pygments_lexer": "ipython3",
   "version": "3.9.5"
  }
 },
 "nbformat": 4,
 "nbformat_minor": 5
}
