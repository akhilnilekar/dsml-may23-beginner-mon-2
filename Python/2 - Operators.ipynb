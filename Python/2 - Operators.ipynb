{
 "cells": [
  {
   "cell_type": "code",
   "execution_count": 2,
   "id": "645b5e91",
   "metadata": {
    "scrolled": true
   },
   "outputs": [
    {
     "name": "stdout",
     "output_type": "stream",
     "text": [
      "13\n"
     ]
    }
   ],
   "source": [
    "print(10 + 3) # Printing something on the screen"
   ]
  },
  {
   "cell_type": "code",
   "execution_count": 4,
   "id": "c11f1cf2",
   "metadata": {
    "scrolled": false
   },
   "outputs": [
    {
     "data": {
      "text/plain": [
       "13"
      ]
     },
     "execution_count": 4,
     "metadata": {},
     "output_type": "execute_result"
    }
   ],
   "source": [
    "10 + 3 # Generating an output"
   ]
  },
  {
   "cell_type": "code",
   "execution_count": 5,
   "id": "07f8700f",
   "metadata": {},
   "outputs": [],
   "source": [
    "x = 10 + 3"
   ]
  },
  {
   "cell_type": "code",
   "execution_count": 6,
   "id": "689adbe3",
   "metadata": {},
   "outputs": [
    {
     "name": "stdout",
     "output_type": "stream",
     "text": [
      "13\n"
     ]
    }
   ],
   "source": [
    "print(x)"
   ]
  },
  {
   "cell_type": "code",
   "execution_count": 7,
   "id": "350a39bd",
   "metadata": {},
   "outputs": [
    {
     "data": {
      "text/plain": [
       "13"
      ]
     },
     "execution_count": 7,
     "metadata": {},
     "output_type": "execute_result"
    }
   ],
   "source": [
    "x"
   ]
  },
  {
   "cell_type": "code",
   "execution_count": 9,
   "id": "7f830ff6",
   "metadata": {},
   "outputs": [
    {
     "name": "stdout",
     "output_type": "stream",
     "text": [
      "13\n"
     ]
    }
   ],
   "source": [
    "print(10 + 3)"
   ]
  },
  {
   "cell_type": "code",
   "execution_count": 10,
   "id": "ccc6dd30",
   "metadata": {},
   "outputs": [
    {
     "data": {
      "text/plain": [
       "13"
      ]
     },
     "execution_count": 10,
     "metadata": {},
     "output_type": "execute_result"
    }
   ],
   "source": [
    "10 + 3"
   ]
  },
  {
   "cell_type": "code",
   "execution_count": 11,
   "id": "b983f71f",
   "metadata": {},
   "outputs": [
    {
     "data": {
      "text/plain": [
       "7"
      ]
     },
     "execution_count": 11,
     "metadata": {},
     "output_type": "execute_result"
    }
   ],
   "source": [
    "10 - 3"
   ]
  },
  {
   "cell_type": "code",
   "execution_count": 12,
   "id": "b1098a5d",
   "metadata": {},
   "outputs": [
    {
     "data": {
      "text/plain": [
       "30"
      ]
     },
     "execution_count": 12,
     "metadata": {},
     "output_type": "execute_result"
    }
   ],
   "source": [
    "10 * 3"
   ]
  },
  {
   "cell_type": "code",
   "execution_count": 14,
   "id": "7a9e7132",
   "metadata": {},
   "outputs": [
    {
     "data": {
      "text/plain": [
       "30.0"
      ]
     },
     "execution_count": 14,
     "metadata": {},
     "output_type": "execute_result"
    }
   ],
   "source": [
    "10.0 * 3 # If even one of the operands is float, the result is also float"
   ]
  },
  {
   "cell_type": "code",
   "execution_count": 19,
   "id": "05a25b5c",
   "metadata": {},
   "outputs": [
    {
     "data": {
      "text/plain": [
       "3.3333333333333335"
      ]
     },
     "execution_count": 19,
     "metadata": {},
     "output_type": "execute_result"
    }
   ],
   "source": [
    "10 / 3 # Result is always float! FLOATING DIVISION OPERATOR"
   ]
  },
  {
   "cell_type": "code",
   "execution_count": 20,
   "id": "6441ecf3",
   "metadata": {},
   "outputs": [
    {
     "data": {
      "text/plain": [
       "5.0"
      ]
     },
     "execution_count": 20,
     "metadata": {},
     "output_type": "execute_result"
    }
   ],
   "source": [
    "10 / 2"
   ]
  },
  {
   "cell_type": "code",
   "execution_count": 21,
   "id": "20c35e00",
   "metadata": {},
   "outputs": [],
   "source": [
    "# EXPONENTIATION OPERATOR - POWER"
   ]
  },
  {
   "cell_type": "code",
   "execution_count": 22,
   "id": "eab1fb8a",
   "metadata": {},
   "outputs": [
    {
     "data": {
      "text/plain": [
       "100"
      ]
     },
     "execution_count": 22,
     "metadata": {},
     "output_type": "execute_result"
    }
   ],
   "source": [
    "10 ** 2 # 10 to the power 2"
   ]
  },
  {
   "cell_type": "code",
   "execution_count": 24,
   "id": "2d8f7e3b",
   "metadata": {},
   "outputs": [
    {
     "data": {
      "text/plain": [
       "125"
      ]
     },
     "execution_count": 24,
     "metadata": {},
     "output_type": "execute_result"
    }
   ],
   "source": [
    "5 ** 3"
   ]
  },
  {
   "cell_type": "code",
   "execution_count": 25,
   "id": "7731e08d",
   "metadata": {},
   "outputs": [
    {
     "data": {
      "text/plain": [
       "125.0"
      ]
     },
     "execution_count": 25,
     "metadata": {},
     "output_type": "execute_result"
    }
   ],
   "source": [
    "5.0 ** 3.0"
   ]
  },
  {
   "cell_type": "code",
   "execution_count": 26,
   "id": "cfe4e844",
   "metadata": {},
   "outputs": [],
   "source": [
    "# FLOORED DIVISION OPERATOR"
   ]
  },
  {
   "cell_type": "code",
   "execution_count": 28,
   "id": "e9e89c0d",
   "metadata": {},
   "outputs": [
    {
     "data": {
      "text/plain": [
       "3"
      ]
     },
     "execution_count": 28,
     "metadata": {},
     "output_type": "execute_result"
    }
   ],
   "source": [
    "10 // 3 # Quotient"
   ]
  },
  {
   "cell_type": "code",
   "execution_count": 30,
   "id": "6cb803ce",
   "metadata": {},
   "outputs": [
    {
     "data": {
      "text/plain": [
       "-4"
      ]
     },
     "execution_count": 30,
     "metadata": {},
     "output_type": "execute_result"
    }
   ],
   "source": [
    "-10 // 3 # biggest integer < -3.333333..."
   ]
  },
  {
   "cell_type": "code",
   "execution_count": 32,
   "id": "12a14e27",
   "metadata": {},
   "outputs": [],
   "source": [
    "# MODULUS OPERATOR -> Maths for ML\n",
    "# -> a mod b = remainder of a / b\n",
    "# -> -a mod b = b - (a mod b)"
   ]
  },
  {
   "cell_type": "code",
   "execution_count": 33,
   "id": "c442d802",
   "metadata": {},
   "outputs": [
    {
     "data": {
      "text/plain": [
       "1"
      ]
     },
     "execution_count": 33,
     "metadata": {},
     "output_type": "execute_result"
    }
   ],
   "source": [
    "10 % 3"
   ]
  },
  {
   "cell_type": "code",
   "execution_count": 34,
   "id": "9783ad4e",
   "metadata": {},
   "outputs": [
    {
     "data": {
      "text/plain": [
       "2"
      ]
     },
     "execution_count": 34,
     "metadata": {},
     "output_type": "execute_result"
    }
   ],
   "source": [
    "10 % 4"
   ]
  },
  {
   "cell_type": "code",
   "execution_count": 35,
   "id": "e9b71728",
   "metadata": {},
   "outputs": [
    {
     "data": {
      "text/plain": [
       "2"
      ]
     },
     "execution_count": 35,
     "metadata": {},
     "output_type": "execute_result"
    }
   ],
   "source": [
    "-10 % 3 \n",
    "\n",
    "# 3 - (10 % 3)\n",
    "# 3 - (1)\n",
    "# 2"
   ]
  },
  {
   "cell_type": "code",
   "execution_count": 36,
   "id": "9b0e1590",
   "metadata": {},
   "outputs": [],
   "source": [
    "a = 123456789"
   ]
  },
  {
   "cell_type": "code",
   "execution_count": 37,
   "id": "c37167cb",
   "metadata": {},
   "outputs": [
    {
     "data": {
      "text/plain": [
       "9"
      ]
     },
     "execution_count": 37,
     "metadata": {},
     "output_type": "execute_result"
    }
   ],
   "source": [
    "a % 10"
   ]
  },
  {
   "cell_type": "code",
   "execution_count": 38,
   "id": "a02b948b",
   "metadata": {},
   "outputs": [
    {
     "data": {
      "text/plain": [
       "12345678"
      ]
     },
     "execution_count": 38,
     "metadata": {},
     "output_type": "execute_result"
    }
   ],
   "source": [
    "a // 10"
   ]
  },
  {
   "cell_type": "code",
   "execution_count": 44,
   "id": "5fc61aa8",
   "metadata": {},
   "outputs": [
    {
     "data": {
      "text/plain": [
       "4.199999999999999"
      ]
     },
     "execution_count": 44,
     "metadata": {},
     "output_type": "execute_result"
    }
   ],
   "source": [
    "1.2 + 1.4 + 1.6 \n",
    "# Boolean representation of decimals -> What is the binary representation of 2.6"
   ]
  },
  {
   "cell_type": "code",
   "execution_count": 45,
   "id": "47e2dc4e",
   "metadata": {},
   "outputs": [
    {
     "data": {
      "text/plain": [
       "4.2"
      ]
     },
     "execution_count": 45,
     "metadata": {},
     "output_type": "execute_result"
    }
   ],
   "source": [
    "1.4 + 1.6 + 1.2"
   ]
  },
  {
   "cell_type": "code",
   "execution_count": 47,
   "id": "6e9b4666",
   "metadata": {},
   "outputs": [
    {
     "data": {
      "text/plain": [
       "8"
      ]
     },
     "execution_count": 47,
     "metadata": {},
     "output_type": "execute_result"
    }
   ],
   "source": [
    "10 - 4 // 2\n",
    "\n",
    "# Possibility 1 -> 3\n",
    "# Possibility 2 -> 8"
   ]
  },
  {
   "cell_type": "code",
   "execution_count": 48,
   "id": "1df584a0",
   "metadata": {},
   "outputs": [
    {
     "data": {
      "text/plain": [
       "7.5"
      ]
     },
     "execution_count": 48,
     "metadata": {},
     "output_type": "execute_result"
    }
   ],
   "source": [
    "10 / 4 * 3 # Left to Right"
   ]
  },
  {
   "cell_type": "code",
   "execution_count": 49,
   "id": "01ca22cd",
   "metadata": {},
   "outputs": [
    {
     "data": {
      "text/plain": [
       "4"
      ]
     },
     "execution_count": 49,
     "metadata": {},
     "output_type": "execute_result"
    }
   ],
   "source": [
    "10 - 4 * 2 + 5 - 6 // 2\n",
    "\n",
    "# 10 - 8 + 5 - 6 // 2\n",
    "# 10 - 8 + 5 - 3\n",
    "# 2 + 5 - 3\n",
    "# 7 - 3\n",
    "# 4"
   ]
  },
  {
   "cell_type": "code",
   "execution_count": 50,
   "id": "c0853fc4",
   "metadata": {},
   "outputs": [
    {
     "data": {
      "text/plain": [
       "2.0"
      ]
     },
     "execution_count": 50,
     "metadata": {},
     "output_type": "execute_result"
    }
   ],
   "source": [
    "4 ** 0.5"
   ]
  },
  {
   "cell_type": "code",
   "execution_count": 51,
   "id": "442cf311",
   "metadata": {},
   "outputs": [],
   "source": [
    "# TYPECASTING"
   ]
  },
  {
   "cell_type": "code",
   "execution_count": 52,
   "id": "7c2ae634",
   "metadata": {},
   "outputs": [
    {
     "data": {
      "text/plain": [
       "4"
      ]
     },
     "execution_count": 52,
     "metadata": {},
     "output_type": "execute_result"
    }
   ],
   "source": [
    "int(4.0)"
   ]
  },
  {
   "cell_type": "code",
   "execution_count": 53,
   "id": "8f49f805",
   "metadata": {},
   "outputs": [
    {
     "data": {
      "text/plain": [
       "4.0"
      ]
     },
     "execution_count": 53,
     "metadata": {},
     "output_type": "execute_result"
    }
   ],
   "source": [
    "float(4)"
   ]
  },
  {
   "cell_type": "code",
   "execution_count": 54,
   "id": "02430def",
   "metadata": {},
   "outputs": [
    {
     "data": {
      "text/plain": [
       "'4.0'"
      ]
     },
     "execution_count": 54,
     "metadata": {},
     "output_type": "execute_result"
    }
   ],
   "source": [
    "str(4.0)"
   ]
  },
  {
   "cell_type": "code",
   "execution_count": 55,
   "id": "2460991a",
   "metadata": {},
   "outputs": [],
   "source": [
    "# TRUTHY AND FALSY VALUES!"
   ]
  },
  {
   "cell_type": "code",
   "execution_count": 56,
   "id": "6997f1e5",
   "metadata": {},
   "outputs": [
    {
     "data": {
      "text/plain": [
       "True"
      ]
     },
     "execution_count": 56,
     "metadata": {},
     "output_type": "execute_result"
    }
   ],
   "source": [
    "bool(1)"
   ]
  },
  {
   "cell_type": "code",
   "execution_count": 58,
   "id": "5d233e66",
   "metadata": {},
   "outputs": [
    {
     "data": {
      "text/plain": [
       "True"
      ]
     },
     "execution_count": 58,
     "metadata": {},
     "output_type": "execute_result"
    }
   ],
   "source": [
    "bool(234567893234567898765432345678)"
   ]
  },
  {
   "cell_type": "code",
   "execution_count": 59,
   "id": "3c391ecf",
   "metadata": {},
   "outputs": [
    {
     "data": {
      "text/plain": [
       "True"
      ]
     },
     "execution_count": 59,
     "metadata": {},
     "output_type": "execute_result"
    }
   ],
   "source": [
    "bool(-3456787345678)"
   ]
  },
  {
   "cell_type": "code",
   "execution_count": 60,
   "id": "4d95515a",
   "metadata": {},
   "outputs": [
    {
     "data": {
      "text/plain": [
       "True"
      ]
     },
     "execution_count": 60,
     "metadata": {},
     "output_type": "execute_result"
    }
   ],
   "source": [
    "bool(1.567890)"
   ]
  },
  {
   "cell_type": "code",
   "execution_count": 61,
   "id": "1989f133",
   "metadata": {},
   "outputs": [
    {
     "data": {
      "text/plain": [
       "False"
      ]
     },
     "execution_count": 61,
     "metadata": {},
     "output_type": "execute_result"
    }
   ],
   "source": [
    "bool(0)"
   ]
  },
  {
   "cell_type": "code",
   "execution_count": 62,
   "id": "0a723f57",
   "metadata": {},
   "outputs": [
    {
     "data": {
      "text/plain": [
       "False"
      ]
     },
     "execution_count": 62,
     "metadata": {},
     "output_type": "execute_result"
    }
   ],
   "source": [
    "bool(0.0)"
   ]
  },
  {
   "cell_type": "code",
   "execution_count": 63,
   "id": "1d1dcb7e",
   "metadata": {},
   "outputs": [
    {
     "data": {
      "text/plain": [
       "True"
      ]
     },
     "execution_count": 63,
     "metadata": {},
     "output_type": "execute_result"
    }
   ],
   "source": [
    "bool(\"any non empty string!\")"
   ]
  },
  {
   "cell_type": "code",
   "execution_count": 64,
   "id": "f6a6059b",
   "metadata": {},
   "outputs": [
    {
     "data": {
      "text/plain": [
       "True"
      ]
     },
     "execution_count": 64,
     "metadata": {},
     "output_type": "execute_result"
    }
   ],
   "source": [
    "bool(\" \") # only a space"
   ]
  },
  {
   "cell_type": "code",
   "execution_count": 66,
   "id": "b8a1f6a2",
   "metadata": {},
   "outputs": [
    {
     "data": {
      "text/plain": [
       "False"
      ]
     },
     "execution_count": 66,
     "metadata": {},
     "output_type": "execute_result"
    }
   ],
   "source": [
    "bool(\"\") # empty string"
   ]
  },
  {
   "cell_type": "code",
   "execution_count": 67,
   "id": "75fa2cf1",
   "metadata": {},
   "outputs": [
    {
     "data": {
      "text/plain": [
       "False"
      ]
     },
     "execution_count": 67,
     "metadata": {},
     "output_type": "execute_result"
    }
   ],
   "source": [
    "bool(None)"
   ]
  },
  {
   "cell_type": "code",
   "execution_count": 68,
   "id": "5f40a5f0",
   "metadata": {},
   "outputs": [
    {
     "data": {
      "text/plain": [
       "'\\nBoolean Values (TRUTHY AND FALSY) ->\\n\\n    - Numbers\\n        - Any number other than 0 -> TRUTHY\\n        - 0 - FALSY\\n    - Strings\\n        - Any non empty string -> TRUTHY\\n        - Empty strings -> FALSY\\n    - None -> FALSY\\n'"
      ]
     },
     "execution_count": 68,
     "metadata": {},
     "output_type": "execute_result"
    }
   ],
   "source": [
    "'''\n",
    "Boolean Values (TRUTHY AND FALSY) ->\n",
    "\n",
    "    - Numbers\n",
    "        - Any number other than 0 -> TRUTHY\n",
    "        - 0 - FALSY\n",
    "    - Strings\n",
    "        - Any non empty string -> TRUTHY\n",
    "        - Empty strings -> FALSY\n",
    "    - None -> FALSY\n",
    "'''"
   ]
  },
  {
   "cell_type": "code",
   "execution_count": 69,
   "id": "aa817bf5",
   "metadata": {},
   "outputs": [
    {
     "data": {
      "text/plain": [
       "True"
      ]
     },
     "execution_count": 69,
     "metadata": {},
     "output_type": "execute_result"
    }
   ],
   "source": [
    "bool(\"False\")"
   ]
  },
  {
   "cell_type": "code",
   "execution_count": 70,
   "id": "43db139f",
   "metadata": {},
   "outputs": [
    {
     "data": {
      "text/plain": [
       "False"
      ]
     },
     "execution_count": 70,
     "metadata": {},
     "output_type": "execute_result"
    }
   ],
   "source": [
    "bool(False)"
   ]
  },
  {
   "cell_type": "code",
   "execution_count": 71,
   "id": "b318ce9c",
   "metadata": {},
   "outputs": [
    {
     "data": {
      "text/plain": [
       "True"
      ]
     },
     "execution_count": 71,
     "metadata": {},
     "output_type": "execute_result"
    }
   ],
   "source": [
    "5 < 6"
   ]
  },
  {
   "cell_type": "code",
   "execution_count": 72,
   "id": "0831cc17",
   "metadata": {},
   "outputs": [
    {
     "data": {
      "text/plain": [
       "False"
      ]
     },
     "execution_count": 72,
     "metadata": {},
     "output_type": "execute_result"
    }
   ],
   "source": [
    "5 > 6"
   ]
  },
  {
   "cell_type": "code",
   "execution_count": 73,
   "id": "9c1ed469",
   "metadata": {},
   "outputs": [],
   "source": [
    "actual_password = \"password\""
   ]
  },
  {
   "cell_type": "code",
   "execution_count": 74,
   "id": "00d4678d",
   "metadata": {},
   "outputs": [
    {
     "name": "stdout",
     "output_type": "stream",
     "text": [
      "Please enter your password - tummerihoXYZ\n"
     ]
    }
   ],
   "source": [
    "current_password = input(\"Please enter your password - \")"
   ]
  },
  {
   "cell_type": "code",
   "execution_count": 75,
   "id": "9101c29b",
   "metadata": {},
   "outputs": [
    {
     "data": {
      "text/plain": [
       "False"
      ]
     },
     "execution_count": 75,
     "metadata": {},
     "output_type": "execute_result"
    }
   ],
   "source": [
    "actual_password == current_password"
   ]
  },
  {
   "cell_type": "code",
   "execution_count": 76,
   "id": "9d035988",
   "metadata": {},
   "outputs": [
    {
     "name": "stdout",
     "output_type": "stream",
     "text": [
      "Please enter your password - password\n"
     ]
    }
   ],
   "source": [
    "current_password = input(\"Please enter your password - \")"
   ]
  },
  {
   "cell_type": "code",
   "execution_count": 77,
   "id": "009c9348",
   "metadata": {},
   "outputs": [
    {
     "data": {
      "text/plain": [
       "True"
      ]
     },
     "execution_count": 77,
     "metadata": {},
     "output_type": "execute_result"
    }
   ],
   "source": [
    "actual_password == current_password"
   ]
  },
  {
   "cell_type": "code",
   "execution_count": 79,
   "id": "7069e92c",
   "metadata": {},
   "outputs": [
    {
     "data": {
      "text/plain": [
       "False"
      ]
     },
     "execution_count": 79,
     "metadata": {},
     "output_type": "execute_result"
    }
   ],
   "source": [
    "\"abc\" > \"xyz\" # lexicographical comparison"
   ]
  },
  {
   "cell_type": "code",
   "execution_count": 80,
   "id": "970007bd",
   "metadata": {},
   "outputs": [
    {
     "data": {
      "text/plain": [
       "True"
      ]
     },
     "execution_count": 80,
     "metadata": {},
     "output_type": "execute_result"
    }
   ],
   "source": [
    "\"aab\" > \"aaa\""
   ]
  },
  {
   "cell_type": "code",
   "execution_count": 82,
   "id": "49c50e72",
   "metadata": {},
   "outputs": [],
   "source": [
    "x = 89 # ASSIGNMENT OPERATOR"
   ]
  },
  {
   "cell_type": "code",
   "execution_count": 84,
   "id": "e815722d",
   "metadata": {},
   "outputs": [],
   "source": [
    "x = 100"
   ]
  },
  {
   "cell_type": "code",
   "execution_count": 87,
   "id": "b0cffb47",
   "metadata": {},
   "outputs": [],
   "source": [
    "x += 50 # x = x + 50"
   ]
  },
  {
   "cell_type": "code",
   "execution_count": 88,
   "id": "f39ac019",
   "metadata": {},
   "outputs": [
    {
     "data": {
      "text/plain": [
       "200"
      ]
     },
     "execution_count": 88,
     "metadata": {},
     "output_type": "execute_result"
    }
   ],
   "source": [
    "x"
   ]
  },
  {
   "cell_type": "code",
   "execution_count": 89,
   "id": "3d592415",
   "metadata": {},
   "outputs": [],
   "source": [
    "x -= 20"
   ]
  },
  {
   "cell_type": "code",
   "execution_count": 90,
   "id": "9f3b663c",
   "metadata": {},
   "outputs": [
    {
     "data": {
      "text/plain": [
       "180"
      ]
     },
     "execution_count": 90,
     "metadata": {},
     "output_type": "execute_result"
    }
   ],
   "source": [
    "x"
   ]
  },
  {
   "cell_type": "code",
   "execution_count": 91,
   "id": "8891e922",
   "metadata": {},
   "outputs": [],
   "source": [
    "x *= 2"
   ]
  },
  {
   "cell_type": "code",
   "execution_count": 92,
   "id": "ff113aa6",
   "metadata": {},
   "outputs": [
    {
     "data": {
      "text/plain": [
       "360"
      ]
     },
     "execution_count": 92,
     "metadata": {},
     "output_type": "execute_result"
    }
   ],
   "source": [
    "x"
   ]
  },
  {
   "cell_type": "code",
   "execution_count": 93,
   "id": "024cd6e8",
   "metadata": {},
   "outputs": [],
   "source": [
    "x /= 2"
   ]
  },
  {
   "cell_type": "code",
   "execution_count": 94,
   "id": "89b4c2c4",
   "metadata": {},
   "outputs": [
    {
     "data": {
      "text/plain": [
       "180.0"
      ]
     },
     "execution_count": 94,
     "metadata": {},
     "output_type": "execute_result"
    }
   ],
   "source": [
    "x"
   ]
  },
  {
   "cell_type": "code",
   "execution_count": 95,
   "id": "2e7deef4",
   "metadata": {},
   "outputs": [],
   "source": [
    "x //= 3"
   ]
  },
  {
   "cell_type": "code",
   "execution_count": 96,
   "id": "a65a039c",
   "metadata": {},
   "outputs": [
    {
     "data": {
      "text/plain": [
       "60.0"
      ]
     },
     "execution_count": 96,
     "metadata": {},
     "output_type": "execute_result"
    }
   ],
   "source": [
    "x"
   ]
  },
  {
   "cell_type": "code",
   "execution_count": 97,
   "id": "15d87dae",
   "metadata": {},
   "outputs": [],
   "source": [
    "x **= 2"
   ]
  },
  {
   "cell_type": "code",
   "execution_count": 98,
   "id": "d75665f9",
   "metadata": {},
   "outputs": [
    {
     "data": {
      "text/plain": [
       "3600.0"
      ]
     },
     "execution_count": 98,
     "metadata": {},
     "output_type": "execute_result"
    }
   ],
   "source": [
    "x"
   ]
  },
  {
   "cell_type": "code",
   "execution_count": 99,
   "id": "b1b27fe1",
   "metadata": {},
   "outputs": [
    {
     "data": {
      "text/plain": [
       "False"
      ]
     },
     "execution_count": 99,
     "metadata": {},
     "output_type": "execute_result"
    }
   ],
   "source": [
    "True and False"
   ]
  },
  {
   "cell_type": "code",
   "execution_count": 101,
   "id": "62fbc8a8",
   "metadata": {},
   "outputs": [
    {
     "data": {
      "text/plain": [
       "False"
      ]
     },
     "execution_count": 101,
     "metadata": {},
     "output_type": "execute_result"
    }
   ],
   "source": [
    "10 > 5 and 6 > 8"
   ]
  },
  {
   "cell_type": "code",
   "execution_count": 102,
   "id": "5b418faf",
   "metadata": {},
   "outputs": [
    {
     "data": {
      "text/plain": [
       "True"
      ]
     },
     "execution_count": 102,
     "metadata": {},
     "output_type": "execute_result"
    }
   ],
   "source": [
    "10 > 5 or 6 > 8"
   ]
  },
  {
   "cell_type": "code",
   "execution_count": 103,
   "id": "b74b28b1",
   "metadata": {},
   "outputs": [
    {
     "data": {
      "text/plain": [
       "False"
      ]
     },
     "execution_count": 103,
     "metadata": {},
     "output_type": "execute_result"
    }
   ],
   "source": [
    "10 and False"
   ]
  },
  {
   "cell_type": "code",
   "execution_count": 104,
   "id": "8b884c28",
   "metadata": {},
   "outputs": [
    {
     "data": {
      "text/plain": [
       "True"
      ]
     },
     "execution_count": 104,
     "metadata": {},
     "output_type": "execute_result"
    }
   ],
   "source": [
    "10 and True"
   ]
  },
  {
   "cell_type": "code",
   "execution_count": 105,
   "id": "4f6fe62b",
   "metadata": {},
   "outputs": [
    {
     "data": {
      "text/plain": [
       "5"
      ]
     },
     "execution_count": 105,
     "metadata": {},
     "output_type": "execute_result"
    }
   ],
   "source": [
    "10 and 5"
   ]
  },
  {
   "cell_type": "code",
   "execution_count": 106,
   "id": "9a0b18bc",
   "metadata": {},
   "outputs": [],
   "source": [
    "# SHORT CIRCUITING"
   ]
  },
  {
   "cell_type": "code",
   "execution_count": 107,
   "id": "da45dac8",
   "metadata": {},
   "outputs": [
    {
     "data": {
      "text/plain": [
       "5"
      ]
     },
     "execution_count": 107,
     "metadata": {},
     "output_type": "execute_result"
    }
   ],
   "source": [
    "10 and 5"
   ]
  },
  {
   "cell_type": "code",
   "execution_count": 110,
   "id": "d0c273e3",
   "metadata": {},
   "outputs": [
    {
     "data": {
      "text/plain": [
       "0"
      ]
     },
     "execution_count": 110,
     "metadata": {},
     "output_type": "execute_result"
    }
   ],
   "source": [
    "0 and 5"
   ]
  },
  {
   "cell_type": "code",
   "execution_count": 111,
   "id": "4dc7f210",
   "metadata": {},
   "outputs": [
    {
     "data": {
      "text/plain": [
       "6"
      ]
     },
     "execution_count": 111,
     "metadata": {},
     "output_type": "execute_result"
    }
   ],
   "source": [
    "True and 6"
   ]
  },
  {
   "cell_type": "code",
   "execution_count": 112,
   "id": "2f67f2dc",
   "metadata": {},
   "outputs": [
    {
     "data": {
      "text/plain": [
       "0"
      ]
     },
     "execution_count": 112,
     "metadata": {},
     "output_type": "execute_result"
    }
   ],
   "source": [
    "True and 0"
   ]
  },
  {
   "cell_type": "code",
   "execution_count": 113,
   "id": "677c34fb",
   "metadata": {},
   "outputs": [
    {
     "data": {
      "text/plain": [
       "10"
      ]
     },
     "execution_count": 113,
     "metadata": {},
     "output_type": "execute_result"
    }
   ],
   "source": [
    "10 or False"
   ]
  },
  {
   "cell_type": "code",
   "execution_count": 114,
   "id": "5faf8de2",
   "metadata": {},
   "outputs": [
    {
     "data": {
      "text/plain": [
       "10"
      ]
     },
     "execution_count": 114,
     "metadata": {},
     "output_type": "execute_result"
    }
   ],
   "source": [
    "10 or 1"
   ]
  },
  {
   "cell_type": "code",
   "execution_count": 115,
   "id": "e82fe197",
   "metadata": {},
   "outputs": [
    {
     "data": {
      "text/plain": [
       "10"
      ]
     },
     "execution_count": 115,
     "metadata": {},
     "output_type": "execute_result"
    }
   ],
   "source": [
    "0 or 10"
   ]
  },
  {
   "cell_type": "code",
   "execution_count": 117,
   "id": "80c9cbd3",
   "metadata": {},
   "outputs": [
    {
     "data": {
      "text/plain": [
       "False"
      ]
     },
     "execution_count": 117,
     "metadata": {},
     "output_type": "execute_result"
    }
   ],
   "source": [
    "not True"
   ]
  },
  {
   "cell_type": "code",
   "execution_count": 118,
   "id": "2709c2d7",
   "metadata": {},
   "outputs": [
    {
     "data": {
      "text/plain": [
       "True"
      ]
     },
     "execution_count": 118,
     "metadata": {},
     "output_type": "execute_result"
    }
   ],
   "source": [
    "not False"
   ]
  },
  {
   "cell_type": "code",
   "execution_count": null,
   "id": "338bb1f6",
   "metadata": {},
   "outputs": [],
   "source": []
  }
 ],
 "metadata": {
  "kernelspec": {
   "display_name": "Python 3 (ipykernel)",
   "language": "python",
   "name": "python3"
  },
  "language_info": {
   "codemirror_mode": {
    "name": "ipython",
    "version": 3
   },
   "file_extension": ".py",
   "mimetype": "text/x-python",
   "name": "python",
   "nbconvert_exporter": "python",
   "pygments_lexer": "ipython3",
   "version": "3.9.5"
  }
 },
 "nbformat": 4,
 "nbformat_minor": 5
}
