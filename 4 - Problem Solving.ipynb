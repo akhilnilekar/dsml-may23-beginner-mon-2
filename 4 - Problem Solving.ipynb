{
 "cells": [
  {
   "cell_type": "code",
   "execution_count": 6,
   "id": "c5018bd3",
   "metadata": {},
   "outputs": [
    {
     "name": "stdout",
     "output_type": "stream",
     "text": [
      "1\n",
      "3\n",
      "5\n",
      "7\n",
      "9\n"
     ]
    }
   ],
   "source": [
    "print(1,3,5,7,9, sep = \"\\n\")"
   ]
  },
  {
   "cell_type": "code",
   "execution_count": 4,
   "id": "2f30a5dd",
   "metadata": {},
   "outputs": [
    {
     "name": "stdout",
     "output_type": "stream",
     "text": [
      "9\n"
     ]
    }
   ],
   "source": [
    "print((3 + 4) // 2 + 6)"
   ]
  },
  {
   "cell_type": "code",
   "execution_count": 8,
   "id": "f23eda66",
   "metadata": {},
   "outputs": [
    {
     "name": "stdout",
     "output_type": "stream",
     "text": [
      "5\n",
      "Smaller than 10!\n"
     ]
    }
   ],
   "source": [
    "def main():\n",
    "    # WRITE YOUR CODE HERE\n",
    "    x = int(input())\n",
    "    \n",
    "    if x > 10:\n",
    "        # something random\n",
    "        print(\"Bigger than 10!\")\n",
    "    else:\n",
    "        print(\"Smaller than 10!\")\n",
    "    \n",
    "if __name__ == \"__main__\":\n",
    "    main()"
   ]
  },
  {
   "cell_type": "code",
   "execution_count": 9,
   "id": "edf2913c",
   "metadata": {},
   "outputs": [],
   "source": [
    "a = 0\n",
    "b = 1\n",
    "c = 1\n",
    "\n",
    "x = a < b + c"
   ]
  },
  {
   "cell_type": "code",
   "execution_count": 10,
   "id": "8b62894b",
   "metadata": {},
   "outputs": [
    {
     "name": "stdout",
     "output_type": "stream",
     "text": [
      "True\n"
     ]
    }
   ],
   "source": [
    "print(x)"
   ]
  },
  {
   "cell_type": "code",
   "execution_count": 11,
   "id": "3d0e36d7",
   "metadata": {},
   "outputs": [],
   "source": [
    "def print_pattern():\n",
    "    # YOUR CODE GOES HERE\n",
    "    print(\"*\")\n",
    "    print(\"**\")\n",
    "    print(\"***\")\n",
    "    print(\"****\")\n",
    "    print(\"*****\")\n",
    "    print(\"******\")\n",
    "    # YOUR CODE ENDS HERE"
   ]
  },
  {
   "cell_type": "code",
   "execution_count": 13,
   "id": "f343bac8",
   "metadata": {},
   "outputs": [
    {
     "name": "stdout",
     "output_type": "stream",
     "text": [
      "*\n",
      "**\n",
      "***\n",
      "****\n",
      "*****\n",
      "******\n"
     ]
    }
   ],
   "source": [
    "print(\"*\")\n",
    "print(\"**\")\n",
    "print(\"***\")\n",
    "print(\"****\")\n",
    "print(\"*****\")\n",
    "print(\"******\")"
   ]
  },
  {
   "cell_type": "code",
   "execution_count": 17,
   "id": "1ffc43d4",
   "metadata": {},
   "outputs": [
    {
     "name": "stdout",
     "output_type": "stream",
     "text": [
      "5\n",
      "1\n",
      "5.0\n"
     ]
    }
   ],
   "source": [
    "numerator = int(input())\n",
    "denominator = int(input())\n",
    "\n",
    "if denominator == 0:\n",
    "    print(\"Division by zero is not possible!\")\n",
    "else:\n",
    "    result = numerator / denominator\n",
    "    print(result)"
   ]
  },
  {
   "cell_type": "code",
   "execution_count": 20,
   "id": "10002524",
   "metadata": {},
   "outputs": [
    {
     "name": "stdout",
     "output_type": "stream",
     "text": [
      "12\n",
      "You can't ride!\n"
     ]
    }
   ],
   "source": [
    "age = int(input())\n",
    "\n",
    "if age >= 13:\n",
    "    print(\"You can ride!\")\n",
    "else:\n",
    "    print(\"You can't ride!\")"
   ]
  },
  {
   "cell_type": "code",
   "execution_count": 21,
   "id": "6687c8b5",
   "metadata": {},
   "outputs": [
    {
     "name": "stdout",
     "output_type": "stream",
     "text": [
      "345667\n",
      "True\n"
     ]
    }
   ],
   "source": [
    "number = int(input())\n",
    "\n",
    "if number < 1234880990:\n",
    "    print(True)\n",
    "else:\n",
    "    print(False)"
   ]
  },
  {
   "cell_type": "code",
   "execution_count": 23,
   "id": "c290dba8",
   "metadata": {},
   "outputs": [
    {
     "name": "stdout",
     "output_type": "stream",
     "text": [
      "   *   \n",
      "  ***  \n",
      " ***** \n",
      "*******\n"
     ]
    }
   ],
   "source": [
    "print(\"   *   \")\n",
    "print(\"  ***  \")\n",
    "print(\" ***** \")\n",
    "print(\"*******\")"
   ]
  },
  {
   "cell_type": "code",
   "execution_count": 28,
   "id": "1fdf84a6",
   "metadata": {},
   "outputs": [
    {
     "name": "stdout",
     "output_type": "stream",
     "text": [
      "100\n",
      "50\n",
      "Loss 50\n"
     ]
    }
   ],
   "source": [
    "cost_price = int(input())\n",
    "selling_price = int(input())\n",
    "\n",
    "profit = selling_price - cost_price\n",
    "\n",
    "if profit >= 0:\n",
    "    print(\"Profit\", profit)\n",
    "else:\n",
    "    print(\"Loss\", -profit)"
   ]
  },
  {
   "cell_type": "code",
   "execution_count": 30,
   "id": "affb9281",
   "metadata": {},
   "outputs": [
    {
     "name": "stdout",
     "output_type": "stream",
     "text": [
      "50\n",
      "100\n",
      "1\n",
      "50\n"
     ]
    }
   ],
   "source": [
    "C = int(input())\n",
    "S = int(input())\n",
    "if S > C:\n",
    "    print('1')\n",
    "    print(S - C)\n",
    "else:\n",
    "    print('-1')\n",
    "    print(C - S)"
   ]
  },
  {
   "cell_type": "code",
   "execution_count": 31,
   "id": "c0aeb129",
   "metadata": {},
   "outputs": [
    {
     "name": "stdout",
     "output_type": "stream",
     "text": [
      "100\n",
      "50\n",
      "Loss\n",
      "50\n"
     ]
    }
   ],
   "source": [
    "cost_price = int(input())\n",
    "selling_price = int(input())\n",
    "\n",
    "difference = selling_price - cost_price\n",
    "\n",
    "if selling_price > cost_price:\n",
    "    print(\"Profit\")\n",
    "    print(difference)\n",
    "else:\n",
    "    print(\"Loss\")\n",
    "    print(-difference)"
   ]
  },
  {
   "cell_type": "code",
   "execution_count": 33,
   "id": "c789b845",
   "metadata": {},
   "outputs": [
    {
     "name": "stdout",
     "output_type": "stream",
     "text": [
      "5\n",
      "10\n",
      "10\n"
     ]
    }
   ],
   "source": [
    "A = int(input())\n",
    "B = int(input())\n",
    "if A >= B:\n",
    "    print(A)\n",
    "else:\n",
    "    print(B)"
   ]
  },
  {
   "cell_type": "code",
   "execution_count": 34,
   "id": "c14813dd",
   "metadata": {},
   "outputs": [
    {
     "name": "stdout",
     "output_type": "stream",
     "text": [
      "5\n",
      "Again! Automatic!\n"
     ]
    }
   ],
   "source": [
    "def main():\n",
    "    # WRITE YOUR CODE HERE\n",
    "    x = int(input())\n",
    "    \n",
    "    if x > 10:\n",
    "        print(\"Indentation done automatically!\")\n",
    "    else:\n",
    "        print(\"Again! Automatic!\")\n",
    "    \n",
    "if __name__ == \"__main__\":\n",
    "    main()"
   ]
  },
  {
   "cell_type": "code",
   "execution_count": 35,
   "id": "b13164c5",
   "metadata": {},
   "outputs": [
    {
     "name": "stdout",
     "output_type": "stream",
     "text": [
      "5\n",
      "Again! Automatic!\n"
     ]
    }
   ],
   "source": [
    "def main():\n",
    "    # WRITE YOUR CODE HERE\n",
    "    x = int(input())\n",
    "\n",
    "    if x > 10:\n",
    "        print(\"Indentation done automatically!\")\n",
    "    else:\n",
    "        print(\"Again! Automatic!\")\n",
    "\n",
    "if __name__ == \"__main__\":\n",
    "    main()"
   ]
  },
  {
   "cell_type": "code",
   "execution_count": 36,
   "id": "7c43e4f4",
   "metadata": {},
   "outputs": [
    {
     "ename": "SyntaxError",
     "evalue": "invalid syntax (2045867208.py, line 7)",
     "output_type": "error",
     "traceback": [
      "\u001b[0;36m  Cell \u001b[0;32mIn[36], line 7\u001b[0;36m\u001b[0m\n\u001b[0;31m    elif num > 2:\u001b[0m\n\u001b[0m    ^\u001b[0m\n\u001b[0;31mSyntaxError\u001b[0m\u001b[0;31m:\u001b[0m invalid syntax\n"
     ]
    }
   ],
   "source": [
    "num = 10\n",
    "\n",
    "if num%2:\n",
    "    print(\"OHH\")\n",
    "else:\n",
    "    print(\"NOO\")\n",
    "elif num > 2:\n",
    "    print(\"WHYY\")"
   ]
  },
  {
   "cell_type": "markdown",
   "id": "f0033dfe",
   "metadata": {},
   "source": [
    "## 6. Smart Tony\n",
    "Thanos used the inifinity stones to wipe out 50% of the population of universe. Our favourity Tony stark found a pattern in the people who died is that after removing the last 2 digits of their phone number, the resultant number is odd.\n",
    "\n",
    "Write a python script to help Tony to know whether a person with given phone number survived or not.\n",
    "\n",
    "**Input format:**\n",
    "```\n",
    "a 10 digit phone number is given\n",
    "```\n",
    "**Output format:**\n",
    "```\n",
    "True if survived or False is not\n",
    "```\n",
    "\n",
    "**Sample Input:**\n",
    "```\n",
    "1234567890\n",
    "```\n",
    "**Sample Output:**\n",
    "```\n",
    "True\n",
    "```"
   ]
  },
  {
   "cell_type": "code",
   "execution_count": 37,
   "id": "b1610caa",
   "metadata": {},
   "outputs": [],
   "source": [
    "n = 12345"
   ]
  },
  {
   "cell_type": "code",
   "execution_count": 38,
   "id": "b68f0eae",
   "metadata": {},
   "outputs": [],
   "source": [
    "n1 = n // 10"
   ]
  },
  {
   "cell_type": "code",
   "execution_count": 39,
   "id": "f4ae80aa",
   "metadata": {},
   "outputs": [
    {
     "data": {
      "text/plain": [
       "1234"
      ]
     },
     "execution_count": 39,
     "metadata": {},
     "output_type": "execute_result"
    }
   ],
   "source": [
    "n1"
   ]
  },
  {
   "cell_type": "code",
   "execution_count": 40,
   "id": "9a670e97",
   "metadata": {},
   "outputs": [],
   "source": [
    "n2 = n // 100"
   ]
  },
  {
   "cell_type": "code",
   "execution_count": 41,
   "id": "a71fcc8b",
   "metadata": {},
   "outputs": [
    {
     "data": {
      "text/plain": [
       "123"
      ]
     },
     "execution_count": 41,
     "metadata": {},
     "output_type": "execute_result"
    }
   ],
   "source": [
    "n2"
   ]
  },
  {
   "cell_type": "code",
   "execution_count": 43,
   "id": "e2c88f79",
   "metadata": {},
   "outputs": [
    {
     "name": "stdout",
     "output_type": "stream",
     "text": [
      "9999999999\n",
      "False\n"
     ]
    }
   ],
   "source": [
    "n = int(input())\n",
    "\n",
    "n1 = n // 100\n",
    "\n",
    "if n1 % 2 == 0:\n",
    "    print(True)\n",
    "else:\n",
    "    print(False)"
   ]
  },
  {
   "cell_type": "code",
   "execution_count": null,
   "id": "416166f2",
   "metadata": {},
   "outputs": [],
   "source": []
  }
 ],
 "metadata": {
  "kernelspec": {
   "display_name": "Python 3 (ipykernel)",
   "language": "python",
   "name": "python3"
  },
  "language_info": {
   "codemirror_mode": {
    "name": "ipython",
    "version": 3
   },
   "file_extension": ".py",
   "mimetype": "text/x-python",
   "name": "python",
   "nbconvert_exporter": "python",
   "pygments_lexer": "ipython3",
   "version": "3.9.5"
  }
 },
 "nbformat": 4,
 "nbformat_minor": 5
}
