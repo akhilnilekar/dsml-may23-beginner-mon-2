{
 "cells": [
  {
   "cell_type": "code",
   "execution_count": 1,
   "id": "d32a2183",
   "metadata": {},
   "outputs": [],
   "source": [
    "# writing from here\n",
    "    # writing from first indent\n",
    "            # writing from fourth indent"
   ]
  },
  {
   "cell_type": "code",
   "execution_count": 7,
   "id": "0cbe5766",
   "metadata": {},
   "outputs": [],
   "source": [
    "t = 5"
   ]
  },
  {
   "cell_type": "code",
   "execution_count": 8,
   "id": "14bee71c",
   "metadata": {},
   "outputs": [
    {
     "name": "stdout",
     "output_type": "stream",
     "text": [
      "I am inside the if block!\n",
      "10\n",
      "The if statement is over!\n"
     ]
    }
   ],
   "source": [
    "if t > 4:\n",
    "    print(\"I am inside the if block!\")\n",
    "    x = 10\n",
    "    print(x)\n",
    "\n",
    "print(\"The if statement is over!\")"
   ]
  },
  {
   "cell_type": "code",
   "execution_count": 9,
   "id": "9ffe219b",
   "metadata": {},
   "outputs": [
    {
     "name": "stdout",
     "output_type": "stream",
     "text": [
      "0\n",
      "1\n",
      "2\n",
      "3\n",
      "4\n"
     ]
    }
   ],
   "source": [
    "print(\"0\")\n",
    "\n",
    "if 50 > 40:\n",
    "    print(\"1\")\n",
    "    print(\"2\")\n",
    "    print(\"3\")\n",
    "\n",
    "print(\"4\")"
   ]
  },
  {
   "cell_type": "code",
   "execution_count": 10,
   "id": "0fb8f970",
   "metadata": {},
   "outputs": [
    {
     "name": "stdout",
     "output_type": "stream",
     "text": [
      "0\n",
      "4\n"
     ]
    }
   ],
   "source": [
    "print(\"0\")\n",
    "\n",
    "if 50 < 40:\n",
    "    print(\"1\")\n",
    "    print(\"2\")\n",
    "    print(\"3\")\n",
    "\n",
    "print(\"4\")"
   ]
  },
  {
   "cell_type": "code",
   "execution_count": 11,
   "id": "6f729766",
   "metadata": {},
   "outputs": [
    {
     "data": {
      "text/plain": [
       "'\\nLINES BEFORE THE IF CONDITION WILL ALWAYS EXECUTE!\\n\\nif <condition>:\\n    THESE LINES WILL EXECUTE IF THE CONDITION IS TRUE.\\nelse:\\n    THESE LINES WILL EXECUTE IF THE CONDITION IS FALSE.\\n\\nLINES AFTER THE IF CONDITION WILL ALWAYS EXECUTE!\\n'"
      ]
     },
     "execution_count": 11,
     "metadata": {},
     "output_type": "execute_result"
    }
   ],
   "source": [
    "'''\n",
    "LINES BEFORE THE IF CONDITION WILL ALWAYS EXECUTE!\n",
    "\n",
    "if <condition>:\n",
    "    THESE LINES WILL EXECUTE IF THE CONDITION IS TRUE.\n",
    "else:\n",
    "    THESE LINES WILL EXECUTE IF THE CONDITION IS FALSE.\n",
    "\n",
    "LINES AFTER THE IF CONDITION WILL ALWAYS EXECUTE!\n",
    "'''"
   ]
  },
  {
   "cell_type": "code",
   "execution_count": 15,
   "id": "1db005fb",
   "metadata": {},
   "outputs": [
    {
     "name": "stdout",
     "output_type": "stream",
     "text": [
      "0\n",
      "a\n",
      "b\n",
      "c\n",
      "4\n"
     ]
    }
   ],
   "source": [
    "print(\"0\")\n",
    "\n",
    "if 50 < 40:\n",
    "    print(\"1\")\n",
    "    print(\"2\")\n",
    "    print(\"3\")\n",
    "else:\n",
    "    print(\"a\")\n",
    "    print(\"b\")\n",
    "    print(\"c\")\n",
    "\n",
    "print(\"4\")"
   ]
  },
  {
   "cell_type": "code",
   "execution_count": 16,
   "id": "db1a3deb",
   "metadata": {},
   "outputs": [
    {
     "data": {
      "text/plain": [
       "'\\nQuestion 1 - \\n1. Take an integer as input from the user.\\n2. Calculate cube of the input.\\n3. If result > 50 print \"Massive Number\" else print \"Small Number\".\\n4. After this, print \"EXECUTION COMPLETE!\"\\n'"
      ]
     },
     "execution_count": 16,
     "metadata": {},
     "output_type": "execute_result"
    }
   ],
   "source": [
    "'''\n",
    "Question 1 - \n",
    "1. Take an integer as input from the user.\n",
    "2. Calculate cube of the input.\n",
    "3. If result > 50 print \"Massive Number\" else print \"Small Number\".\n",
    "4. After this, print \"EXECUTION COMPLETE!\"\n",
    "'''"
   ]
  },
  {
   "cell_type": "code",
   "execution_count": 18,
   "id": "01e0db5e",
   "metadata": {},
   "outputs": [
    {
     "name": "stdout",
     "output_type": "stream",
     "text": [
      "10\n",
      "Massive Number!\n",
      "Executiion Complete!\n"
     ]
    }
   ],
   "source": [
    "n = int(input())\n",
    "\n",
    "result = n ** 3\n",
    "\n",
    "if result > 50:\n",
    "    print(\"Massive Number!\")\n",
    "else:\n",
    "    print(\"Small Number!\")\n",
    "    \n",
    "print(\"Executiion Complete!\")"
   ]
  },
  {
   "cell_type": "code",
   "execution_count": 19,
   "id": "4a1db539",
   "metadata": {},
   "outputs": [
    {
     "data": {
      "text/plain": [
       "'\\nQuestion 2 -\\n1. Take a password as input from User.\\n2. Take another input to verify password.\\n3. Print \"Successfully Verified!\" if both passwords are same.\\n4. Print \"Verification Failed!\" otherwise.\\n'"
      ]
     },
     "execution_count": 19,
     "metadata": {},
     "output_type": "execute_result"
    }
   ],
   "source": [
    "'''\n",
    "Question 2 -\n",
    "1. Take a password as input from User.\n",
    "2. Take another input to verify password.\n",
    "3. Print \"Successfully Verified!\" if both passwords are same.\n",
    "4. Print \"Verification Failed!\" otherwise.\n",
    "'''"
   ]
  },
  {
   "cell_type": "code",
   "execution_count": 21,
   "id": "143c69a2",
   "metadata": {},
   "outputs": [
    {
     "name": "stdout",
     "output_type": "stream",
     "text": [
      "Enter your password - 12345\n",
      "Enter your password again - 12345\n",
      "Successfully Verified!\n"
     ]
    }
   ],
   "source": [
    "password_1 = input(\"Enter your password - \")\n",
    "password_2 = input(\"Enter your password again - \")\n",
    "\n",
    "if password_1 == password_2:\n",
    "    print(\"Successfully Verified!\")\n",
    "else:\n",
    "    print(\"Verification Failed!\")"
   ]
  },
  {
   "cell_type": "code",
   "execution_count": 23,
   "id": "d6132424",
   "metadata": {},
   "outputs": [
    {
     "name": "stdout",
     "output_type": "stream",
     "text": [
      "14\n",
      "Good Afternoon\n"
     ]
    }
   ],
   "source": [
    "time = int(input())\n",
    "\n",
    "if time > 9 and time <= 12:\n",
    "    print(\"Good Morning!\")\n",
    "else:\n",
    "    if time > 12 and time <= 17:\n",
    "        print(\"Good Afternoon\")\n",
    "    else:\n",
    "        if time > 17 and time <= 20:\n",
    "            print(\"Good Evening\")\n",
    "        else:\n",
    "            print(\"Good Night!\")"
   ]
  },
  {
   "cell_type": "code",
   "execution_count": 24,
   "id": "8211030f",
   "metadata": {},
   "outputs": [
    {
     "name": "stdout",
     "output_type": "stream",
     "text": [
      "14\n",
      "Good Afternoon\n"
     ]
    }
   ],
   "source": [
    "time = int(input())\n",
    "\n",
    "if time > 9 and time <= 12:\n",
    "    print(\"Good Morning!\")\n",
    "elif time > 12 and time <= 17:\n",
    "    print(\"Good Afternoon\")\n",
    "elif time > 17 and time <= 20:\n",
    "    print(\"Good Evening\")\n",
    "else:\n",
    "    print(\"Good Night!\")"
   ]
  },
  {
   "cell_type": "markdown",
   "id": "1ca2939c",
   "metadata": {},
   "source": [
    "# PRACTICE, PRACTICE and PRACTICE! :)"
   ]
  },
  {
   "cell_type": "code",
   "execution_count": 25,
   "id": "94bdda7e",
   "metadata": {},
   "outputs": [
    {
     "data": {
      "text/plain": [
       "'\\nQuestion 3 - \\n1. Take an integer as input from the user.\\n2. Print whether it is positive or not.\\n3. If it is zero, print \"ZERO!\"\\n'"
      ]
     },
     "execution_count": 25,
     "metadata": {},
     "output_type": "execute_result"
    }
   ],
   "source": [
    "'''\n",
    "Question 3 - \n",
    "1. Take an integer as input from the user.\n",
    "2. Print whether it is positive or not.\n",
    "3. If it is zero, print \"ZERO!\"\n",
    "'''"
   ]
  },
  {
   "cell_type": "code",
   "execution_count": 31,
   "id": "21eddad1",
   "metadata": {},
   "outputs": [
    {
     "name": "stdout",
     "output_type": "stream",
     "text": [
      "5\n",
      "Positive!\n"
     ]
    }
   ],
   "source": [
    "number = int(input())\n",
    "\n",
    "if number > 0:\n",
    "    print(\"Positive!\")\n",
    "elif number == 0:\n",
    "    print(\"Zero!\")\n",
    "else:\n",
    "    print(\"Negative!\")"
   ]
  },
  {
   "cell_type": "code",
   "execution_count": 32,
   "id": "b3692957",
   "metadata": {},
   "outputs": [
    {
     "data": {
      "text/plain": [
       "'\\nQuestion 4 - \\nTake a non-negative single digit positive number as input.\\nIf num**5%50+20-6 is > 15\\nthen print(\"BLACK\") else print(\"BLUE\").\\n\\nNote - Reject any inputs which are not single digit or positive. Print \"INVALID INPUT!\"\\n'"
      ]
     },
     "execution_count": 32,
     "metadata": {},
     "output_type": "execute_result"
    }
   ],
   "source": [
    "'''\n",
    "Question 4 - \n",
    "Take a non-negative single digit positive number as input.\n",
    "If num**5%50+20-6 is > 15\n",
    "then print(\"BLACK\") else print(\"BLUE\").\n",
    "\n",
    "Note - Reject any inputs which are not single digit or positive. Print \"INVALID INPUT!\"\n",
    "'''"
   ]
  },
  {
   "cell_type": "code",
   "execution_count": 38,
   "id": "0ca12f92",
   "metadata": {},
   "outputs": [
    {
     "name": "stdout",
     "output_type": "stream",
     "text": [
      "-9\n",
      "Invalid Input!\n"
     ]
    }
   ],
   "source": [
    "number = int(input())\n",
    "\n",
    "if number >= 0 and number <= 9:\n",
    "    # number is accepted\n",
    "    result = number ** 5 % 50 + 20 - 6\n",
    "    \n",
    "    if result > 15:\n",
    "        print(\"BLACK\")\n",
    "    else:\n",
    "        print(\"BLUE\")\n",
    "else:\n",
    "    # number is rejected\n",
    "    print(\"Invalid Input!\")"
   ]
  },
  {
   "cell_type": "code",
   "execution_count": 40,
   "id": "487f9236",
   "metadata": {},
   "outputs": [
    {
     "name": "stdout",
     "output_type": "stream",
     "text": [
      "1\n",
      "BLUE\n"
     ]
    }
   ],
   "source": [
    "number = int(input())\n",
    "\n",
    "if number < 0 or number > 9:\n",
    "    # number is rejected\n",
    "    print(\"Invalid Input!\")\n",
    "else:\n",
    "    # number is accepted\n",
    "    result = number ** 5 % 50 + 20 - 6\n",
    "    \n",
    "    if result > 15:\n",
    "        print(\"BLACK\")\n",
    "    else:\n",
    "        print(\"BLUE\")"
   ]
  },
  {
   "cell_type": "code",
   "execution_count": 42,
   "id": "b262cba3",
   "metadata": {},
   "outputs": [
    {
     "name": "stdout",
     "output_type": "stream",
     "text": [
      "1\n",
      "BLUE\n"
     ]
    }
   ],
   "source": [
    "number = int(input())\n",
    "\n",
    "if not (number >=0 and number <= 9):\n",
    "    # number is rejected\n",
    "    print(\"Invalid Input!\")\n",
    "else:\n",
    "    # number is accepted\n",
    "    result = number ** 5 % 50 + 20 - 6\n",
    "    \n",
    "    if result > 15:\n",
    "        print(\"BLACK\")\n",
    "    else:\n",
    "        print(\"BLUE\")"
   ]
  },
  {
   "cell_type": "code",
   "execution_count": 44,
   "id": "5af7f1fe",
   "metadata": {},
   "outputs": [
    {
     "data": {
      "text/plain": [
       "'\\nQuestion 5 (Google, Microsoft, Meta, Apple, Twitter......) - \\nFIZZBUZZ - \\n1. Take an integer input n.\\n2. if n is a multiple of 3 -> print FIZZ\\n3. if n is a multiple of 5 -> print BUZZ\\n4. if n is a multiple of 3 and 5 both -> print FIZZBUZZ.\\n\\nOtherwise print nothing!\\n'"
      ]
     },
     "execution_count": 44,
     "metadata": {},
     "output_type": "execute_result"
    }
   ],
   "source": [
    "'''\n",
    "Question 5 (Google, Microsoft, Meta, Apple, Twitter......) - \n",
    "FIZZBUZZ - \n",
    "1. Take an integer input n.\n",
    "2. if n is a multiple of 3 -> print FIZZ\n",
    "3. if n is a multiple of 5 -> print BUZZ\n",
    "4. if n is a multiple of 3 and 5 both -> print FIZZBUZZ.\n",
    "\n",
    "Otherwise print nothing!\n",
    "'''"
   ]
  },
  {
   "cell_type": "code",
   "execution_count": 47,
   "id": "3869a09f",
   "metadata": {},
   "outputs": [
    {
     "name": "stdout",
     "output_type": "stream",
     "text": [
      "15\n",
      "FIZZ\n"
     ]
    }
   ],
   "source": [
    "n = int(input())\n",
    "\n",
    "if n % 3 == 0:\n",
    "    print(\"FIZZ\")\n",
    "elif n % 5 == 0:\n",
    "    print(\"BUZZ\")\n",
    "elif n % 3 == 0 and n % 5 == 0:\n",
    "    print(\"FIZZBUZZ\")\n",
    "else:\n",
    "    print(\"\")"
   ]
  },
  {
   "cell_type": "code",
   "execution_count": 51,
   "id": "cefe32d7",
   "metadata": {},
   "outputs": [
    {
     "name": "stdout",
     "output_type": "stream",
     "text": [
      "15\n",
      "FIZZBUZZ\n"
     ]
    }
   ],
   "source": [
    "n = int(input())\n",
    "\n",
    "if n % 3 == 0 and n % 5 == 0:\n",
    "    print(\"FIZZBUZZ\")\n",
    "elif n % 5 == 0:\n",
    "    print(\"BUZZ\")\n",
    "elif n % 3 == 0:\n",
    "    print(\"FIZZ\")\n",
    "else:\n",
    "    print(\"\")"
   ]
  },
  {
   "cell_type": "code",
   "execution_count": 52,
   "id": "f8be00b8",
   "metadata": {},
   "outputs": [
    {
     "data": {
      "text/plain": [
       "'\\nQuestion 7 -\\nWhat will be the output of the following?\\n\\na = 50\\nif a > 40:\\n    print(\"A\")\\nif a > 30:\\n    print(\"B\")\\nif a > 20:\\n    print(\"C\")\\n'"
      ]
     },
     "execution_count": 52,
     "metadata": {},
     "output_type": "execute_result"
    }
   ],
   "source": [
    "'''\n",
    "Question 7 -\n",
    "What will be the output of the following?\n",
    "\n",
    "a = 50\n",
    "if a > 40:\n",
    "    print(\"A\")\n",
    "if a > 30:\n",
    "    print(\"B\")\n",
    "if a > 20:\n",
    "    print(\"C\")\n",
    "'''"
   ]
  },
  {
   "cell_type": "code",
   "execution_count": 53,
   "id": "dcb3254e",
   "metadata": {},
   "outputs": [
    {
     "name": "stdout",
     "output_type": "stream",
     "text": [
      "A\n",
      "B\n",
      "C\n"
     ]
    }
   ],
   "source": [
    "a = 50\n",
    "if a > 40:\n",
    "    print(\"A\")\n",
    "    \n",
    "if a > 30:\n",
    "    print(\"B\")\n",
    "    \n",
    "if a > 20:\n",
    "    print(\"C\")"
   ]
  },
  {
   "cell_type": "code",
   "execution_count": 54,
   "id": "29e174aa",
   "metadata": {},
   "outputs": [
    {
     "data": {
      "text/plain": [
       "'\\nBONUS QUESTIONS - \\n1. Build a meter system for an auto. Take into two inputs. \\nKilometers Travelled and Stall Time (in minutes). Rate List -\\n- First 10 kms - Rs 10 per Km\\n- Next 40 kms - Rs 9 per Km\\n- Next 100 kms - Rs 8 per Km\\n- Any leftover km count - Rs. 6 per Km\\n\\n- Rs 5 extra for every minute of Stall Time.\\n\\n------------------------------------------\\n\\n2. Generate electricity bill using the following rate card.\\nTake units consumed as input -\\n- If < 100 units -> Free\\n- If >= 100 units and < 200 units -> Rs 2 per unit\\n- If >= 200 units -> Rs 5 per unit\\n\\n------------------------------------------\\n\\n3. Take in three inputs from a user which are marksin english, maths and science.\\nAssign streams according to the following criteria.\\n- if science > 90 or marks in all are greater than 75 -> Science\\n- if marks in all are greater than 60 and less than 75 -> Commerce\\n- if marks in any are less than 60 -> Humanities\\n\\n------------------------------------------\\n\\n4. Feedback System - Take string feedback from a user.\\nNow,\\n    if any the feedback is provided,\\n        print(\"Thank you for providing the feedback\").\\n    If feedback is \"Super\", \"Great\", \"Fantastic\", \"Awesome\",\\n        print(\"Thank you so much!\")\\n        \\n------------------------------------------\\n\\n5. Take an amount as input from the user\\n    You only have 200 and 500 Rs Notes in the ATM. For one transaction,\\n    you can only dispatch notes of a single type.\\n    Given the amount - \\n        - \"Dispatching Cash!\" if it can be dispatched.\\n        - \"Denomination not available!\" if it can not be \\n\\n'"
      ]
     },
     "execution_count": 54,
     "metadata": {},
     "output_type": "execute_result"
    }
   ],
   "source": [
    "'''\n",
    "BONUS QUESTIONS - \n",
    "1. Build a meter system for an auto. Take into two inputs. \n",
    "Kilometers Travelled and Stall Time (in minutes). Rate List -\n",
    "- First 10 kms - Rs 10 per Km\n",
    "- Next 40 kms - Rs 9 per Km\n",
    "- Next 100 kms - Rs 8 per Km\n",
    "- Any leftover km count - Rs. 6 per Km\n",
    "\n",
    "- Rs 5 extra for every minute of Stall Time.\n",
    "\n",
    "------------------------------------------\n",
    "\n",
    "2. Generate electricity bill using the following rate card.\n",
    "Take units consumed as input -\n",
    "- If < 100 units -> Free\n",
    "- If >= 100 units and < 200 units -> Rs 2 per unit\n",
    "- If >= 200 units -> Rs 5 per unit\n",
    "\n",
    "------------------------------------------\n",
    "\n",
    "3. Take in three inputs from a user which are marksin english, maths and science.\n",
    "Assign streams according to the following criteria.\n",
    "- if science > 90 or marks in all are greater than 75 -> Science\n",
    "- if marks in all are greater than 60 and less than 75 -> Commerce\n",
    "- if marks in any are less than 60 -> Humanities\n",
    "\n",
    "------------------------------------------\n",
    "\n",
    "4. Feedback System - Take string feedback from a user.\n",
    "Now,\n",
    "    if any the feedback is provided,\n",
    "        print(\"Thank you for providing the feedback\").\n",
    "    If feedback is \"Super\", \"Great\", \"Fantastic\", \"Awesome\",\n",
    "        print(\"Thank you so much!\")\n",
    "        \n",
    "------------------------------------------\n",
    "\n",
    "5. Take an amount as input from the user\n",
    "    You only have 200 and 500 Rs Notes in the ATM. For one transaction,\n",
    "    you can only dispatch notes of a single type.\n",
    "    Given the amount - \n",
    "        - \"Dispatching Cash!\" if it can be dispatched.\n",
    "        - \"Denomination not available!\" if it can not be \n",
    "\n",
    "'''"
   ]
  },
  {
   "cell_type": "code",
   "execution_count": null,
   "id": "550f24bb",
   "metadata": {},
   "outputs": [],
   "source": []
  }
 ],
 "metadata": {
  "kernelspec": {
   "display_name": "Python 3 (ipykernel)",
   "language": "python",
   "name": "python3"
  },
  "language_info": {
   "codemirror_mode": {
    "name": "ipython",
    "version": 3
   },
   "file_extension": ".py",
   "mimetype": "text/x-python",
   "name": "python",
   "nbconvert_exporter": "python",
   "pygments_lexer": "ipython3",
   "version": "3.9.5"
  }
 },
 "nbformat": 4,
 "nbformat_minor": 5
}
